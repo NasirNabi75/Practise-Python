{
 "cells": [
  {
   "cell_type": "code",
   "execution_count": 3,
   "metadata": {
    "scrolled": true
   },
   "outputs": [
    {
     "name": "stdout",
     "output_type": "stream",
     "text": [
      "Hello world\n"
     ]
    }
   ],
   "source": [
    "print(\"Hello world\")"
   ]
  },
  {
   "cell_type": "code",
   "execution_count": 4,
   "metadata": {},
   "outputs": [
    {
     "name": "stdout",
     "output_type": "stream",
     "text": [
      "3\n"
     ]
    }
   ],
   "source": [
    "a=1\n",
    "b=2\n",
    "c=a+b\n",
    "print(c)"
   ]
  },
  {
   "cell_type": "code",
   "execution_count": 1,
   "metadata": {},
   "outputs": [
    {
     "data": {
      "text/plain": [
       "0"
      ]
     },
     "execution_count": 1,
     "metadata": {},
     "output_type": "execute_result"
    }
   ],
   "source": [
    "1/2"
   ]
  },
  {
   "cell_type": "code",
   "execution_count": 2,
   "metadata": {},
   "outputs": [
    {
     "data": {
      "text/plain": [
       "0.5"
      ]
     },
     "execution_count": 2,
     "metadata": {},
     "output_type": "execute_result"
    }
   ],
   "source": [
    "1.0/2"
   ]
  },
  {
   "cell_type": "code",
   "execution_count": 3,
   "metadata": {},
   "outputs": [
    {
     "data": {
      "text/plain": [
       "0.5"
      ]
     },
     "execution_count": 3,
     "metadata": {},
     "output_type": "execute_result"
    }
   ],
   "source": [
    "1/2.0"
   ]
  },
  {
   "cell_type": "code",
   "execution_count": 4,
   "metadata": {},
   "outputs": [
    {
     "data": {
      "text/plain": [
       "0.5"
      ]
     },
     "execution_count": 4,
     "metadata": {},
     "output_type": "execute_result"
    }
   ],
   "source": [
    "float(1)/2"
   ]
  },
  {
   "cell_type": "code",
   "execution_count": 14,
   "metadata": {},
   "outputs": [
    {
     "name": "stdout",
     "output_type": "stream",
     "text": [
      "Enter value of A :1\n",
      "Enter value of B :2\n",
      "('Total=', 3)\n"
     ]
    }
   ],
   "source": [
    "a=input(\"Enter value of A :\")\n",
    "b=input(\"Enter value of B :\")\n",
    "c=a+b\n",
    "print(\"Total=\",c)"
   ]
  },
  {
   "cell_type": "code",
   "execution_count": 13,
   "metadata": {},
   "outputs": [],
   "source": [
    "# this is comment\n",
    "# Use tripple quotes for multiline comments"
   ]
  },
  {
   "cell_type": "code",
   "execution_count": 9,
   "metadata": {},
   "outputs": [
    {
     "name": "stdout",
     "output_type": "stream",
     "text": [
      "6\n"
     ]
    }
   ],
   "source": [
    "a=1\n",
    "b=2\n",
    "c=3\n",
    "d=a+\\\n",
    "b+\\\n",
    "c\n",
    "print(d)"
   ]
  },
  {
   "cell_type": "code",
   "execution_count": 17,
   "metadata": {},
   "outputs": [
    {
     "name": "stdout",
     "output_type": "stream",
     "text": [
      "Enter value of A :as\n"
     ]
    },
    {
     "ename": "SyntaxError",
     "evalue": "unexpected EOF while parsing (<string>, line 1)",
     "output_type": "error",
     "traceback": [
      "\u001b[1;36m  File \u001b[1;32m\"<string>\"\u001b[1;36m, line \u001b[1;32m1\u001b[0m\n\u001b[1;33m    as\u001b[0m\n\u001b[1;37m     ^\u001b[0m\n\u001b[1;31mSyntaxError\u001b[0m\u001b[1;31m:\u001b[0m unexpected EOF while parsing\n"
     ]
    }
   ],
   "source": [
    "a=input(\"Enter value of A :\")\n",
    "b=input(\"Enter value of B :\")\n",
    "c=a+b\n",
    "print(\"Total=\",c)\n",
    "# to input string you will need to use double quotes\n",
    "# Python 2.7 has functions input which takes integer/float & rowinput which takes string"
   ]
  },
  {
   "cell_type": "code",
   "execution_count": 23,
   "metadata": {},
   "outputs": [
    {
     "name": "stdout",
     "output_type": "stream",
     "text": [
      "Enter your name :asdf\n",
      "Hey, asdf\n",
      "Enter your surname :qwer\n",
      "qwer\n",
      "Total=asdfqwer\n",
      "<type 'str'>\n",
      "<type 'str'>\n",
      "<type 'str'>\n"
     ]
    }
   ],
   "source": [
    "a=raw_input(\"Enter your name :\")\n",
    "print(\"Hey, \" + a)\n",
    "b=raw_input(\"Enter your surname :\")\n",
    "print(b)\n",
    "c=a+b\n",
    "print(\"Total=\" + c)\n",
    "\n",
    "print(type(a))\n",
    "print(type(b))\n",
    "print(type(c))\n",
    "\n",
    "# to input string you will need to use double quotes\n",
    "# Python 2.7 has functions\n",
    "    #input which takes integer/float as input\n",
    "    #raw_input which takes only string input\n",
    "    \n",
    "# Python 3 has only function input"
   ]
  },
  {
   "cell_type": "code",
   "execution_count": 18,
   "metadata": {},
   "outputs": [
    {
     "name": "stdout",
     "output_type": "stream",
     "text": [
      "Enter value of A :\"asdfg\"\n",
      "Enter value of B :\"zxcvb\"\n",
      "('Total=', 'asdfgzxcvb')\n"
     ]
    }
   ],
   "source": [
    "a=input(\"Enter value of A :\")\n",
    "b=input(\"Enter value of B :\")\n",
    "c=a+b\n",
    "print(\"Total=\",c)\n",
    "# to input string you will need to use double quotes"
   ]
  },
  {
   "cell_type": "code",
   "execution_count": 27,
   "metadata": {},
   "outputs": [
    {
     "name": "stdout",
     "output_type": "stream",
     "text": [
      "Please enter your equation : 2+2\n",
      "4\n"
     ]
    }
   ],
   "source": [
    "a=raw_input(\"Please enter your equation : \")\n",
    "b=eval(a) #Evaluates the quation pattern fromm string\n",
    "print(b)"
   ]
  },
  {
   "cell_type": "code",
   "execution_count": 28,
   "metadata": {},
   "outputs": [
    {
     "name": "stdout",
     "output_type": "stream",
     "text": [
      "('length of argv is ', 3)\n",
      "('arguments are ', ['C:\\\\ProgramData\\\\Anaconda2\\\\lib\\\\site-packages\\\\ipykernel_launcher.py', '-f', 'C:\\\\Users\\\\Nilkanth Jadhav\\\\AppData\\\\Roaming\\\\jupyter\\\\runtime\\\\kernel-0131804e-4d4e-46d5-a5ba-440debd4a02f.json'])\n"
     ]
    }
   ],
   "source": [
    "import sys\n",
    "print(\"length of argv is \", len(sys.argv))\n",
    "print(\"arguments are \", sys.argv)"
   ]
  }
 ],
 "metadata": {
  "kernelspec": {
   "display_name": "Python 2",
   "language": "python",
   "name": "python2"
  },
  "language_info": {
   "codemirror_mode": {
    "name": "ipython",
    "version": 2
   },
   "file_extension": ".py",
   "mimetype": "text/x-python",
   "name": "python",
   "nbconvert_exporter": "python",
   "pygments_lexer": "ipython2",
   "version": "2.7.15"
  }
 },
 "nbformat": 4,
 "nbformat_minor": 2
}

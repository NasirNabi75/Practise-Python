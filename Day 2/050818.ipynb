{
 "cells": [
  {
   "cell_type": "code",
   "execution_count": 3,
   "metadata": {
    "scrolled": true
   },
   "outputs": [
    {
     "name": "stdout",
     "output_type": "stream",
     "text": [
      "Hello world\n"
     ]
    }
   ],
   "source": [
    "print(\"Hello world\")"
   ]
  },
  {
   "cell_type": "code",
   "execution_count": 4,
   "metadata": {},
   "outputs": [
    {
     "name": "stdout",
     "output_type": "stream",
     "text": [
      "3\n"
     ]
    }
   ],
   "source": [
    "a=1\n",
    "b=2\n",
    "c=a+b\n",
    "print(c)"
   ]
  },
  {
   "cell_type": "code",
   "execution_count": 1,
   "metadata": {},
   "outputs": [
    {
     "data": {
      "text/plain": [
       "0"
      ]
     },
     "execution_count": 1,
     "metadata": {},
     "output_type": "execute_result"
    }
   ],
   "source": [
    "1/2"
   ]
  },
  {
   "cell_type": "code",
   "execution_count": 2,
   "metadata": {},
   "outputs": [
    {
     "data": {
      "text/plain": [
       "0.5"
      ]
     },
     "execution_count": 2,
     "metadata": {},
     "output_type": "execute_result"
    }
   ],
   "source": [
    "1.0/2"
   ]
  },
  {
   "cell_type": "code",
   "execution_count": 3,
   "metadata": {},
   "outputs": [
    {
     "data": {
      "text/plain": [
       "0.5"
      ]
     },
     "execution_count": 3,
     "metadata": {},
     "output_type": "execute_result"
    }
   ],
   "source": [
    "1/2.0"
   ]
  },
  {
   "cell_type": "code",
   "execution_count": 4,
   "metadata": {},
   "outputs": [
    {
     "data": {
      "text/plain": [
       "0.5"
      ]
     },
     "execution_count": 4,
     "metadata": {},
     "output_type": "execute_result"
    }
   ],
   "source": [
    "float(1)/2"
   ]
  },
  {
   "cell_type": "code",
   "execution_count": 14,
   "metadata": {},
   "outputs": [
    {
     "name": "stdout",
     "output_type": "stream",
     "text": [
      "Enter value of A :1\n",
      "Enter value of B :2\n",
      "('Total=', 3)\n"
     ]
    }
   ],
   "source": [
    "a=input(\"Enter value of A :\")\n",
    "b=input(\"Enter value of B :\")\n",
    "c=a+b\n",
    "print(\"Total=\",c)"
   ]
  },
  {
   "cell_type": "code",
   "execution_count": 13,
   "metadata": {},
   "outputs": [],
   "source": [
    "# this is comment\n",
    "# Use tripple quotes for multiline comments"
   ]
  },
  {
   "cell_type": "code",
   "execution_count": 9,
   "metadata": {},
   "outputs": [
    {
     "name": "stdout",
     "output_type": "stream",
     "text": [
      "6\n"
     ]
    }
   ],
   "source": [
    "a=1\n",
    "b=2\n",
    "c=3\n",
    "d=a+\\\n",
    "b+\\\n",
    "c\n",
    "print(d)"
   ]
  },
  {
   "cell_type": "code",
   "execution_count": 17,
   "metadata": {},
   "outputs": [
    {
     "name": "stdout",
     "output_type": "stream",
     "text": [
      "Enter value of A :as\n"
     ]
    },
    {
     "ename": "SyntaxError",
     "evalue": "unexpected EOF while parsing (<string>, line 1)",
     "output_type": "error",
     "traceback": [
      "\u001b[1;36m  File \u001b[1;32m\"<string>\"\u001b[1;36m, line \u001b[1;32m1\u001b[0m\n\u001b[1;33m    as\u001b[0m\n\u001b[1;37m     ^\u001b[0m\n\u001b[1;31mSyntaxError\u001b[0m\u001b[1;31m:\u001b[0m unexpected EOF while parsing\n"
     ]
    }
   ],
   "source": [
    "a=input(\"Enter value of A :\")\n",
    "b=input(\"Enter value of B :\")\n",
    "c=a+b\n",
    "print(\"Total=\",c)\n",
    "# to input string you will need to use double quotes\n",
    "# Python 2.7 has functions input which takes integer/float & rowinput which takes string"
   ]
  },
  {
   "cell_type": "code",
   "execution_count": 23,
   "metadata": {},
   "outputs": [
    {
     "name": "stdout",
     "output_type": "stream",
     "text": [
      "Enter your name :asdf\n",
      "Hey, asdf\n",
      "Enter your surname :qwer\n",
      "qwer\n",
      "Total=asdfqwer\n",
      "<type 'str'>\n",
      "<type 'str'>\n",
      "<type 'str'>\n"
     ]
    }
   ],
   "source": [
    "a=raw_input(\"Enter your name :\")\n",
    "print(\"Hey, \" + a)\n",
    "b=raw_input(\"Enter your surname :\")\n",
    "print(b)\n",
    "c=a+b\n",
    "print(\"Total=\" + c)\n",
    "\n",
    "print(type(a))\n",
    "print(type(b))\n",
    "print(type(c))\n",
    "\n",
    "# to input string you will need to use double quotes\n",
    "# Python 2.7 has functions\n",
    "    #input which takes integer/float as input\n",
    "    #raw_input which takes only string input\n",
    "    \n",
    "# Python 3 has only function input"
   ]
  },
  {
   "cell_type": "code",
   "execution_count": 18,
   "metadata": {},
   "outputs": [
    {
     "name": "stdout",
     "output_type": "stream",
     "text": [
      "Enter value of A :\"asdfg\"\n",
      "Enter value of B :\"zxcvb\"\n",
      "('Total=', 'asdfgzxcvb')\n"
     ]
    }
   ],
   "source": [
    "a=input(\"Enter value of A :\")\n",
    "b=input(\"Enter value of B :\")\n",
    "c=a+b\n",
    "print(\"Total=\",c)\n",
    "# to input string you will need to use double quotes"
   ]
  },
  {
   "cell_type": "code",
   "execution_count": 27,
   "metadata": {},
   "outputs": [
    {
     "name": "stdout",
     "output_type": "stream",
     "text": [
      "Please enter your equation : 2+2\n",
      "4\n"
     ]
    }
   ],
   "source": [
    "a=raw_input(\"Please enter your equation : \")\n",
    "b=eval(a) #Evaluates the quation pattern fromm string\n",
    "print(b)"
   ]
  },
  {
   "cell_type": "code",
   "execution_count": 28,
   "metadata": {},
   "outputs": [
    {
     "name": "stdout",
     "output_type": "stream",
     "text": [
      "('length of argv is ', 3)\n",
      "('arguments are ', ['C:\\\\ProgramData\\\\Anaconda2\\\\lib\\\\site-packages\\\\ipykernel_launcher.py', '-f', 'C:\\\\Users\\\\Nilkanth Jadhav\\\\AppData\\\\Roaming\\\\jupyter\\\\runtime\\\\kernel-0131804e-4d4e-46d5-a5ba-440debd4a02f.json'])\n"
     ]
    }
   ],
   "source": [
    "import sys\n",
    "print(\"length of argv is \", len(sys.argv))\n",
    "print(\"arguments are \", sys.argv)"
   ]
  },
  {
   "cell_type": "code",
   "execution_count": 3,
   "metadata": {},
   "outputs": [
    {
     "name": "stdout",
     "output_type": "stream",
     "text": [
      "Requirement already satisfied: requests in c:\\programdata\\anaconda2\\lib\\site-packages (2.18.4)\n",
      "Requirement already satisfied: chardet<3.1.0,>=3.0.2 in c:\\programdata\\anaconda2\\lib\\site-packages (from requests) (3.0.4)\n",
      "Requirement already satisfied: idna<2.7,>=2.5 in c:\\programdata\\anaconda2\\lib\\site-packages (from requests) (2.6)\n",
      "Requirement already satisfied: urllib3<1.23,>=1.21.1 in c:\\programdata\\anaconda2\\lib\\site-packages (from requests) (1.22)\n",
      "Requirement already satisfied: certifi>=2017.4.17 in c:\\programdata\\anaconda2\\lib\\site-packages (from requests) (2018.4.16)\n"
     ]
    },
    {
     "name": "stderr",
     "output_type": "stream",
     "text": [
      "distributed 1.21.8 requires msgpack, which is not installed.\n",
      "grin 1.2.1 requires argparse>=1.1, which is not installed.\n",
      "You are using pip version 10.0.1, however version 18.0 is available.\n",
      "You should consider upgrading via the 'python -m pip install --upgrade pip' command.\n"
     ]
    },
    {
     "name": "stdout",
     "output_type": "stream",
     "text": [
      "Collecting git+https://github.com/sat28/githubcommit.git\n",
      "  Cloning https://github.com/sat28/githubcommit.git to c:\\users\\nilkan~1\\appdata\\local\\temp\\pip-req-build-b1v_ix\n",
      "Requirement already satisfied (use --upgrade to upgrade): githubcommit==0.1.0 from git+https://github.com/sat28/githubcommit.git in c:\\programdata\\anaconda2\\lib\\site-packages\n",
      "Requirement already satisfied: psutil in c:\\programdata\\anaconda2\\lib\\site-packages (from githubcommit==0.1.0) (5.4.5)\n",
      "Requirement already satisfied: notebook in c:\\programdata\\anaconda2\\lib\\site-packages (from githubcommit==0.1.0) (5.5.0)\n",
      "Requirement already satisfied: gitpython in c:\\programdata\\anaconda2\\lib\\site-packages (from githubcommit==0.1.0) (2.1.11)\n",
      "Requirement already satisfied: nbconvert in c:\\programdata\\anaconda2\\lib\\site-packages (from notebook->githubcommit==0.1.0) (5.3.1)\n",
      "Requirement already satisfied: jupyter-client>=5.2.0 in c:\\programdata\\anaconda2\\lib\\site-packages (from notebook->githubcommit==0.1.0) (5.2.3)\n",
      "Requirement already satisfied: Send2Trash in c:\\programdata\\anaconda2\\lib\\site-packages (from notebook->githubcommit==0.1.0) (1.5.0)\n",
      "Requirement already satisfied: tornado>=4 in c:\\programdata\\anaconda2\\lib\\site-packages (from notebook->githubcommit==0.1.0) (5.0.2)\n",
      "Requirement already satisfied: pyzmq>=17 in c:\\programdata\\anaconda2\\lib\\site-packages (from notebook->githubcommit==0.1.0) (17.0.0)\n",
      "Requirement already satisfied: jinja2 in c:\\programdata\\anaconda2\\lib\\site-packages (from notebook->githubcommit==0.1.0) (2.10)\n",
      "Requirement already satisfied: nbformat in c:\\programdata\\anaconda2\\lib\\site-packages (from notebook->githubcommit==0.1.0) (4.4.0)\n",
      "Requirement already satisfied: terminado>=0.8.1 in c:\\programdata\\anaconda2\\lib\\site-packages (from notebook->githubcommit==0.1.0) (0.8.1)\n",
      "Requirement already satisfied: ipython-genutils in c:\\programdata\\anaconda2\\lib\\site-packages (from notebook->githubcommit==0.1.0) (0.2.0)\n",
      "Requirement already satisfied: jupyter-core>=4.4.0 in c:\\programdata\\anaconda2\\lib\\site-packages (from notebook->githubcommit==0.1.0) (4.4.0)\n",
      "Requirement already satisfied: ipykernel in c:\\programdata\\anaconda2\\lib\\site-packages (from notebook->githubcommit==0.1.0) (4.8.2)\n",
      "Requirement already satisfied: traitlets>=4.2.1 in c:\\programdata\\anaconda2\\lib\\site-packages (from notebook->githubcommit==0.1.0) (4.3.2)\n",
      "Requirement already satisfied: gitdb2>=2.0.0 in c:\\programdata\\anaconda2\\lib\\site-packages (from gitpython->githubcommit==0.1.0) (2.0.4)\n",
      "Requirement already satisfied: mistune>=0.7.4 in c:\\programdata\\anaconda2\\lib\\site-packages (from nbconvert->notebook->githubcommit==0.1.0) (0.8.3)\n",
      "Requirement already satisfied: pygments in c:\\programdata\\anaconda2\\lib\\site-packages (from nbconvert->notebook->githubcommit==0.1.0) (2.2.0)\n",
      "Requirement already satisfied: entrypoints>=0.2.2 in c:\\programdata\\anaconda2\\lib\\site-packages (from nbconvert->notebook->githubcommit==0.1.0) (0.2.3)\n",
      "Requirement already satisfied: bleach in c:\\programdata\\anaconda2\\lib\\site-packages (from nbconvert->notebook->githubcommit==0.1.0) (2.1.3)\n",
      "Requirement already satisfied: pandocfilters>=1.4.1 in c:\\programdata\\anaconda2\\lib\\site-packages (from nbconvert->notebook->githubcommit==0.1.0) (1.4.2)\n",
      "Requirement already satisfied: testpath in c:\\programdata\\anaconda2\\lib\\site-packages (from nbconvert->notebook->githubcommit==0.1.0) (0.3.1)\n",
      "Requirement already satisfied: python-dateutil>=2.1 in c:\\programdata\\anaconda2\\lib\\site-packages (from jupyter-client>=5.2.0->notebook->githubcommit==0.1.0) (2.7.3)\n",
      "Requirement already satisfied: futures in c:\\programdata\\anaconda2\\lib\\site-packages (from tornado>=4->notebook->githubcommit==0.1.0) (3.2.0)\n",
      "Requirement already satisfied: singledispatch in c:\\programdata\\anaconda2\\lib\\site-packages (from tornado>=4->notebook->githubcommit==0.1.0) (3.4.0.3)\n",
      "Requirement already satisfied: backports_abc>=0.4 in c:\\programdata\\anaconda2\\lib\\site-packages (from tornado>=4->notebook->githubcommit==0.1.0) (0.5)\n",
      "Requirement already satisfied: MarkupSafe>=0.23 in c:\\programdata\\anaconda2\\lib\\site-packages (from jinja2->notebook->githubcommit==0.1.0) (1.0)\n",
      "Requirement already satisfied: jsonschema!=2.5.0,>=2.4 in c:\\programdata\\anaconda2\\lib\\site-packages (from nbformat->notebook->githubcommit==0.1.0) (2.6.0)\n",
      "Requirement already satisfied: ipython>=4.0.0 in c:\\programdata\\anaconda2\\lib\\site-packages (from ipykernel->notebook->githubcommit==0.1.0) (5.7.0)\n",
      "Requirement already satisfied: six in c:\\programdata\\anaconda2\\lib\\site-packages (from traitlets>=4.2.1->notebook->githubcommit==0.1.0) (1.11.0)\n",
      "Requirement already satisfied: decorator in c:\\programdata\\anaconda2\\lib\\site-packages (from traitlets>=4.2.1->notebook->githubcommit==0.1.0) (4.3.0)\n",
      "Requirement already satisfied: enum34 in c:\\programdata\\anaconda2\\lib\\site-packages (from traitlets>=4.2.1->notebook->githubcommit==0.1.0) (1.1.6)\n",
      "Requirement already satisfied: smmap2>=2.0.0 in c:\\programdata\\anaconda2\\lib\\site-packages (from gitdb2>=2.0.0->gitpython->githubcommit==0.1.0) (2.0.4)\n",
      "Requirement already satisfied: html5lib!=1.0b1,!=1.0b2,!=1.0b3,!=1.0b4,!=1.0b5,!=1.0b6,!=1.0b7,!=1.0b8,>=0.99999999pre in c:\\programdata\\anaconda2\\lib\\site-packages (from bleach->nbconvert->notebook->githubcommit==0.1.0) (1.0.1)\n",
      "Requirement already satisfied: functools32 in c:\\programdata\\anaconda2\\lib\\site-packages (from jsonschema!=2.5.0,>=2.4->nbformat->notebook->githubcommit==0.1.0) (3.2.3.post2)\n",
      "Requirement already satisfied: prompt-toolkit<2.0.0,>=1.0.4 in c:\\programdata\\anaconda2\\lib\\site-packages (from ipython>=4.0.0->ipykernel->notebook->githubcommit==0.1.0) (1.0.15)\n",
      "Requirement already satisfied: setuptools>=18.5 in c:\\programdata\\anaconda2\\lib\\site-packages (from ipython>=4.0.0->ipykernel->notebook->githubcommit==0.1.0) (39.1.0)\n",
      "Requirement already satisfied: pickleshare in c:\\programdata\\anaconda2\\lib\\site-packages (from ipython>=4.0.0->ipykernel->notebook->githubcommit==0.1.0) (0.7.4)\n",
      "Requirement already satisfied: win-unicode-console>=0.5; sys_platform == \"win32\" and python_version < \"3.6\" in c:\\programdata\\anaconda2\\lib\\site-packages (from ipython>=4.0.0->ipykernel->notebook->githubcommit==0.1.0) (0.5)\n",
      "Requirement already satisfied: pathlib2; python_version == \"2.7\" or python_version == \"3.3\" in c:\\programdata\\anaconda2\\lib\\site-packages (from ipython>=4.0.0->ipykernel->notebook->githubcommit==0.1.0) (2.3.2)\n",
      "Requirement already satisfied: backports.shutil-get-terminal-size; python_version == \"2.7\" in c:\\programdata\\anaconda2\\lib\\site-packages (from ipython>=4.0.0->ipykernel->notebook->githubcommit==0.1.0) (1.0.0)\n",
      "Requirement already satisfied: colorama; sys_platform == \"win32\" in c:\\programdata\\anaconda2\\lib\\site-packages (from ipython>=4.0.0->ipykernel->notebook->githubcommit==0.1.0) (0.3.9)\n",
      "Requirement already satisfied: simplegeneric>0.8 in c:\\programdata\\anaconda2\\lib\\site-packages (from ipython>=4.0.0->ipykernel->notebook->githubcommit==0.1.0) (0.8.1)\n",
      "Requirement already satisfied: webencodings in c:\\programdata\\anaconda2\\lib\\site-packages (from html5lib!=1.0b1,!=1.0b2,!=1.0b3,!=1.0b4,!=1.0b5,!=1.0b6,!=1.0b7,!=1.0b8,>=0.99999999pre->bleach->nbconvert->notebook->githubcommit==0.1.0) (0.5.1)\n",
      "Requirement already satisfied: wcwidth in c:\\programdata\\anaconda2\\lib\\site-packages (from prompt-toolkit<2.0.0,>=1.0.4->ipython>=4.0.0->ipykernel->notebook->githubcommit==0.1.0) (0.1.7)\n",
      "Requirement already satisfied: scandir in c:\\programdata\\anaconda2\\lib\\site-packages (from pathlib2; python_version == \"2.7\" or python_version == \"3.3\"->ipython>=4.0.0->ipykernel->notebook->githubcommit==0.1.0) (1.7)\n",
      "Building wheels for collected packages: githubcommit\n",
      "  Running setup.py bdist_wheel for githubcommit: started\n",
      "  Running setup.py bdist_wheel for githubcommit: finished with status 'done'\n",
      "  Stored in directory: c:\\users\\nilkan~1\\appdata\\local\\temp\\pip-ephem-wheel-cache-55rrvq\\wheels\\9b\\e7\\4a\\aa6a616dc7cc65dfcd309a19e5b5e1b482825457b8df38d0ca\n",
      "Successfully built githubcommit\n"
     ]
    },
    {
     "name": "stderr",
     "output_type": "stream",
     "text": [
      "distributed 1.21.8 requires msgpack, which is not installed.\n",
      "grin 1.2.1 requires argparse>=1.1, which is not installed.\n",
      "You are using pip version 10.0.1, however version 18.0 is available.\n",
      "You should consider upgrading via the 'python -m pip install --upgrade pip' command.\n"
     ]
    }
   ],
   "source": [
    "import sys\n",
    "!{sys.executable} -m pip install requests\n",
    "!{sys.executable} -m pip install git+https://github.com/sat28/githubcommit.git"
   ]
  },
  {
   "cell_type": "code",
   "execution_count": null,
   "metadata": {},
   "outputs": [],
   "source": []
  }
 ],
 "metadata": {
  "kernelspec": {
   "display_name": "Python 2",
   "language": "python",
   "name": "python2"
  },
  "language_info": {
   "codemirror_mode": {
    "name": "ipython",
    "version": 2
   },
   "file_extension": ".py",
   "mimetype": "text/x-python",
   "name": "python",
   "nbconvert_exporter": "python",
   "pygments_lexer": "ipython2",
   "version": "2.7.15"
  }
 },
 "nbformat": 4,
 "nbformat_minor": 2
}

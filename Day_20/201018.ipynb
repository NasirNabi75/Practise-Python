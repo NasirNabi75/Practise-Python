{
 "cells": [
  {
   "cell_type": "markdown",
   "metadata": {
    "toc": true
   },
   "source": [
    "<h1>Table of Contents<span class=\"tocSkip\"></span></h1>\n",
    "<div class=\"toc\"><ul class=\"toc-item\"><li><span><a href=\"#Numpy\" data-toc-modified-id=\"Numpy-1\"><span class=\"toc-item-num\">1&nbsp;&nbsp;</span>Numpy</a></span></li></ul></div>"
   ]
  },
  {
   "cell_type": "markdown",
   "metadata": {},
   "source": [
    "## Numpy"
   ]
  },
  {
   "cell_type": "code",
   "execution_count": 13,
   "metadata": {},
   "outputs": [
    {
     "name": "stdout",
     "output_type": "stream",
     "text": [
      "[89 56 76 89 98]\n",
      "int32\n",
      "[89.   56.72 76.   89.   98.  ]\n",
      "float64\n",
      "['First' 'Second' 'Third']\n",
      "|S6\n"
     ]
    }
   ],
   "source": [
    "import numpy as np\n",
    "\n",
    "scores = [89, 56, 76, 89, 98]\n",
    "scores2 = [89, 56.72, 76, 89, 98]\n",
    "scores3 = [\"First\", \"Second\", \"Third\"]\n",
    "\n",
    "first_arr = np.array(scores)\n",
    "second_arr = np.array(scores2)\n",
    "third_arr = np.array(scores3)\n",
    "\n",
    "print first_arr\n",
    "print first_arr.dtype\n",
    "\n",
    "print second_arr\n",
    "print second_arr.dtype\n",
    "\n",
    "print third_arr\n",
    "print third_arr.dtype"
   ]
  },
  {
   "cell_type": "code",
   "execution_count": 21,
   "metadata": {},
   "outputs": [
    {
     "name": "stdout",
     "output_type": "stream",
     "text": [
      "[[34 56 23 89]\n",
      " [11 45 76 34]]\n",
      "2\n",
      "(2L, 4L)\n",
      "int32\n"
     ]
    }
   ],
   "source": [
    "# Nested List for creating multi diamensional array\n",
    "scores_multi = [[34, 56, 23, 89], [11, 45, 76, 34]]\n",
    "second_arr = np.array(scores_multi)\n",
    "\n",
    "print second_arr\n",
    "print second_arr.ndim\n",
    "print second_arr.shape\n",
    "print second_arr.dtype"
   ]
  },
  {
   "cell_type": "code",
   "execution_count": 33,
   "metadata": {},
   "outputs": [
    {
     "data": {
      "text/plain": [
       "array([0., 0., 0., 0., 0., 0., 0., 0., 0., 0.])"
      ]
     },
     "execution_count": 33,
     "metadata": {},
     "output_type": "execute_result"
    }
   ],
   "source": [
    "a = np.zeros(10)\n",
    "a"
   ]
  },
  {
   "cell_type": "code",
   "execution_count": 34,
   "metadata": {},
   "outputs": [
    {
     "data": {
      "text/plain": [
       "array([1., 1., 1., 1., 1., 1., 1., 1., 1., 1.])"
      ]
     },
     "execution_count": 34,
     "metadata": {},
     "output_type": "execute_result"
    }
   ],
   "source": [
    "b = np.ones(10)\n",
    "b"
   ]
  },
  {
   "cell_type": "code",
   "execution_count": 35,
   "metadata": {},
   "outputs": [
    {
     "data": {
      "text/plain": [
       "array([[0., 0., 0.],\n",
       "       [0., 0., 0.],\n",
       "       [0., 0., 0.],\n",
       "       [0., 0., 0.]])"
      ]
     },
     "execution_count": 35,
     "metadata": {},
     "output_type": "execute_result"
    }
   ],
   "source": [
    "c = np.zeros((4, 3))\n",
    "c"
   ]
  },
  {
   "cell_type": "code",
   "execution_count": 40,
   "metadata": {},
   "outputs": [
    {
     "data": {
      "text/plain": [
       "array([ 0,  1,  2,  3,  4,  5,  6,  7,  8,  9, 10, 11, 12, 13, 14])"
      ]
     },
     "execution_count": 40,
     "metadata": {},
     "output_type": "execute_result"
    }
   ],
   "source": [
    "d = np.arange(15)  # sequential numbers\n",
    "d"
   ]
  },
  {
   "cell_type": "code",
   "execution_count": 39,
   "metadata": {},
   "outputs": [
    {
     "data": {
      "text/plain": [
       "array([[1., 0., 0., 0., 0., 0.],\n",
       "       [0., 1., 0., 0., 0., 0.],\n",
       "       [0., 0., 1., 0., 0., 0.],\n",
       "       [0., 0., 0., 1., 0., 0.],\n",
       "       [0., 0., 0., 0., 1., 0.],\n",
       "       [0., 0., 0., 0., 0., 1.]])"
      ]
     },
     "execution_count": 39,
     "metadata": {},
     "output_type": "execute_result"
    }
   ],
   "source": [
    "e = np.eye(6)  # Creates identit matrix\n",
    "e"
   ]
  },
  {
   "cell_type": "code",
   "execution_count": 46,
   "metadata": {},
   "outputs": [
    {
     "name": "stdout",
     "output_type": "stream",
     "text": [
      "[ 0  1  2  3  4  5  6  7  8  9 10 11]\n",
      "5\n",
      "[4 5 6 7 8]\n",
      "[ 0  1  2  3 99 99 99 99 99  9 10 11]\n"
     ]
    }
   ],
   "source": [
    "f = np.arange(12)\n",
    "print f\n",
    "print f[5]\n",
    "print f[4:9]\n",
    "\n",
    "f[4:9] = 99\n",
    "print f"
   ]
  },
  {
   "cell_type": "code",
   "execution_count": 47,
   "metadata": {},
   "outputs": [
    {
     "name": "stdout",
     "output_type": "stream",
     "text": [
      "[   0    1    2    3   99 1234   99   99   99    9   10   11]\n"
     ]
    }
   ],
   "source": [
    "modified_f = f[4:9]  # creating new modified array from existing array f\n",
    "modified_f[1] = 1234  # change is made in new modified array\n",
    "print f  # but these changes will be reflected in old array as well"
   ]
  },
  {
   "cell_type": "code",
   "execution_count": 48,
   "metadata": {},
   "outputs": [
    {
     "name": "stdout",
     "output_type": "stream",
     "text": [
      "[[3 4 5]\n",
      " [6 7 8]\n",
      " [9 5 1]]\n",
      "[6 7 8]\n",
      "5\n",
      "5\n"
     ]
    }
   ],
   "source": [
    "# Array as Matrix\n",
    "matrix_array = np.array([[3, 4, 5], [6, 7, 8], [9, 5, 1]])\n",
    "print matrix_array\n",
    "print matrix_array[1]\n",
    "print matrix_array[0][2]\n",
    "print matrix_array[0, 2]"
   ]
  },
  {
   "cell_type": "code",
   "execution_count": 57,
   "metadata": {},
   "outputs": [
    {
     "name": "stdout",
     "output_type": "stream",
     "text": [
      "[[3 4]\n",
      " [6 7]]\n"
     ]
    }
   ],
   "source": [
    "print matrix_array[0:2, 0:2]"
   ]
  },
  {
   "cell_type": "code",
   "execution_count": 64,
   "metadata": {},
   "outputs": [
    {
     "name": "stdout",
     "output_type": "stream",
     "text": [
      "[9 5 1]\n",
      "[9 5 1]\n",
      "[9 5 1]\n",
      "[9 5 1]\n"
     ]
    }
   ],
   "source": [
    "print matrix_array[2]\n",
    "print matrix_array[2,:]\n",
    "print matrix_array[2,]\n",
    "print matrix_array[-1]"
   ]
  },
  {
   "cell_type": "code",
   "execution_count": 68,
   "metadata": {},
   "outputs": [
    {
     "name": "stdout",
     "output_type": "stream",
     "text": [
      "[[3 4]\n",
      " [6 7]\n",
      " [9 5]]\n"
     ]
    }
   ],
   "source": [
    "print matrix_array[0:,0:2]"
   ]
  },
  {
   "cell_type": "code",
   "execution_count": 70,
   "metadata": {},
   "outputs": [
    {
     "name": "stdout",
     "output_type": "stream",
     "text": [
      "[[6 7]]\n"
     ]
    }
   ],
   "source": [
    "print matrix_array[1:2,0:2]"
   ]
  },
  {
   "cell_type": "code",
   "execution_count": 1,
   "metadata": {},
   "outputs": [
    {
     "name": "stdout",
     "output_type": "stream",
     "text": [
      "[[ 1.55189726  0.40281407  0.68013921  0.16228503 -0.00617921]\n",
      " [-0.06992176 -0.26618597  0.05538884  1.26993908  1.254735  ]\n",
      " [-0.32976208 -0.03137167  3.13073605 -1.93851769  0.4649235 ]\n",
      " [-0.56170985 -0.96223434  1.28000599  0.99459927 -0.50810865]\n",
      " [-0.11929709 -1.31883347 -0.55542352  0.043874   -0.12520012]]\n",
      "0.1799436747007878\n",
      "0.1799436747007878\n"
     ]
    }
   ],
   "source": [
    "import numpy as np\n",
    "thie = np.random.randn(5, 5)\n",
    "print thie\n",
    "print thie.mean()\n",
    "print np.mean(thie)  # alterantive method calculating mean"
   ]
  },
  {
   "cell_type": "code",
   "execution_count": 2,
   "metadata": {},
   "outputs": [
    {
     "name": "stdout",
     "output_type": "stream",
     "text": [
      "The array are:\n",
      " [[ 0  1  2]\n",
      " [ 3  4  5]\n",
      " [ 6  7  8]\n",
      " [ 9 10 11]]\n"
     ]
    }
   ],
   "source": [
    "jp = np.arange(12).reshape(4, 3)\n",
    "print \"The array are:\\n {}\".format(jp)"
   ]
  },
  {
   "cell_type": "code",
   "execution_count": 3,
   "metadata": {},
   "outputs": [
    {
     "name": "stdout",
     "output_type": "stream",
     "text": [
      "sum of columns are: [18 22 26]\n",
      "sum of rows are: [ 3 12 21 30]\n",
      "[18 22 26]\n",
      "[ 3 12 21 30]\n"
     ]
    }
   ],
   "source": [
    "print \"sum of columns are: {}\".format(np.sum(jp, axis=0))  # axis = 0 for sum of columns, axis =1 gives sum of rows\n",
    "print \"sum of rows are: {}\".format(np.sum(jp, axis=1))  # axis = 0 for sum of columns, axis =1 gives sum of rows\n",
    "print(jp.sum(0))\n",
    "print(jp.sum(1))"
   ]
  },
  {
   "cell_type": "code",
   "execution_count": 4,
   "metadata": {},
   "outputs": [
    {
     "name": "stdout",
     "output_type": "stream",
     "text": [
      "[ 0.80824937  1.30871079  0.42606674  1.55192661 -0.01529934]\n",
      "[-0.01529934  0.42606674  0.80824937  1.30871079  1.55192661]\n"
     ]
    }
   ],
   "source": [
    "lp = np.random.randn(5)\n",
    "print lp\n",
    "lp.sort()\n",
    "print lp"
   ]
  },
  {
   "cell_type": "code",
   "execution_count": null,
   "metadata": {},
   "outputs": [],
   "source": []
  }
 ],
 "metadata": {
  "kernelspec": {
   "display_name": "Python 2",
   "language": "python",
   "name": "python2"
  },
  "language_info": {
   "codemirror_mode": {
    "name": "ipython",
    "version": 2
   },
   "file_extension": ".py",
   "mimetype": "text/x-python",
   "name": "python",
   "nbconvert_exporter": "python",
   "pygments_lexer": "ipython2",
   "version": "2.7.15"
  },
  "toc": {
   "base_numbering": 1,
   "nav_menu": {},
   "number_sections": true,
   "sideBar": true,
   "skip_h1_title": false,
   "title_cell": "Table of Contents",
   "title_sidebar": "Contents",
   "toc_cell": true,
   "toc_position": {},
   "toc_section_display": true,
   "toc_window_display": false
  },
  "varInspector": {
   "cols": {
    "lenName": 16,
    "lenType": 16,
    "lenVar": 40
   },
   "kernels_config": {
    "python": {
     "delete_cmd_postfix": "",
     "delete_cmd_prefix": "del ",
     "library": "var_list.py",
     "varRefreshCmd": "print(var_dic_list())"
    },
    "r": {
     "delete_cmd_postfix": ") ",
     "delete_cmd_prefix": "rm(",
     "library": "var_list.r",
     "varRefreshCmd": "cat(var_dic_list()) "
    }
   },
   "types_to_exclude": [
    "module",
    "function",
    "builtin_function_or_method",
    "instance",
    "_Feature"
   ],
   "window_display": false
  }
 },
 "nbformat": 4,
 "nbformat_minor": 2
}

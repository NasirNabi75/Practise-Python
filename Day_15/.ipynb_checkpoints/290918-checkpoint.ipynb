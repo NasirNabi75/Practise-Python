{
 "cells": [
  {
   "cell_type": "markdown",
   "metadata": {},
   "source": [
    "# Thredaing\n",
    "\n",
    "GIL (Global Interpritor Log)\n",
    "\n",
    "Due to memory limitition Python parallel programming is not happening but it appears as happening"
   ]
  },
  {
   "cell_type": "markdown",
   "metadata": {},
   "source": [
    "#### Example 1"
   ]
  },
  {
   "cell_type": "code",
   "execution_count": 1,
   "metadata": {},
   "outputs": [
    {
     "name": "stdout",
     "output_type": "stream",
     "text": [
      "25\n"
     ]
    }
   ],
   "source": [
    "import threading\n",
    "\n",
    "def processing(num):\n",
    "    print(num*num)\n",
    "    \n",
    "def main():\n",
    "    t=threading.Thread(target = processing, args=(5,))\n",
    "    t.start()\n",
    "\n",
    "main()"
   ]
  },
  {
   "cell_type": "markdown",
   "metadata": {},
   "source": [
    "#### Example 2"
   ]
  },
  {
   "cell_type": "code",
   "execution_count": 7,
   "metadata": {},
   "outputs": [
    {
     "name": "stdout",
     "output_type": "stream",
     "text": [
      "Worker: 0Worker: 1\n",
      "\n",
      "Worker: 2\n",
      "Worker: 3\n",
      "Worker: 4\n"
     ]
    }
   ],
   "source": [
    "import threading\n",
    "import pdb\n",
    "import time\n",
    "\n",
    "def worker(num):\n",
    "    # thraed worker function\n",
    "    print 'Worker: %s' % num\n",
    "    \n",
    "def main():\n",
    "    threads = []\n",
    " \n",
    "    for i in range(5):\n",
    "        t = threading.Thread(target=worker, args=(i,))\n",
    "        threads.append(t)\n",
    "        t.start()\n",
    "main()\n",
    "# Output is somewhat out of order and appears all together"
   ]
  },
  {
   "cell_type": "markdown",
   "metadata": {},
   "source": [
    "#### Example 3"
   ]
  },
  {
   "cell_type": "code",
   "execution_count": 8,
   "metadata": {},
   "outputs": [
    {
     "name": "stdout",
     "output_type": "stream",
     "text": [
      "Worker: 0\n",
      "Worker: 1\n",
      "Worker: 2\n",
      "Worker: 3\n",
      "Worker: 4\n"
     ]
    }
   ],
   "source": [
    "import threading\n",
    "import pdb\n",
    "\n",
    "def worker(num):\n",
    "    # thraed worker function\n",
    "    time.sleep(num)\n",
    "    print 'Worker: %s' % num\n",
    "    \n",
    "def main():\n",
    "    threads = []\n",
    " \n",
    "    for i in range(5):\n",
    "        t = threading.Thread(target=worker, args=(i,))\n",
    "        threads.append(t)\n",
    "        t.start()\n",
    "\n",
    "    for t in threads:\n",
    "        t.join()\n",
    "        \n",
    "main()\n",
    "# output at regulatr interval of sleep time"
   ]
  },
  {
   "cell_type": "markdown",
   "metadata": {},
   "source": [
    "#### Example 4"
   ]
  },
  {
   "cell_type": "code",
   "execution_count": 9,
   "metadata": {},
   "outputs": [
    {
     "name": "stdout",
     "output_type": "stream",
     "text": [
      "Worker: 0\n",
      "Worker: 1\n",
      "Worker: 2\n",
      "Worker: 3\n",
      "Worker: 4\n"
     ]
    }
   ],
   "source": [
    "import threading\n",
    "import pdb\n",
    "\n",
    "def worker(num):\n",
    "    # thraed worker function\n",
    "    #print 'Worker: %s' % num\n",
    "    #time.sleep(num)\n",
    "    global lock\n",
    "    lock.acquire()\n",
    "\n",
    "    try:\n",
    "        print 'Worker: %s' % num\n",
    "    finally:\n",
    "        lock.release()\n",
    "    \n",
    "def main():\n",
    "    threads = []\n",
    "\n",
    "    global lock\n",
    "    lock=threading.Lock()\n",
    "    \n",
    "    for i in range(5):\n",
    "        t = threading.Thread(target=worker, args=(i,))\n",
    "        threads.append(t)\n",
    "        t.start()\n",
    "        \n",
    "    for t in threads:\n",
    "        t.join()\n",
    "          \n",
    "main()\n",
    "# gives exact sequential output every time because of lock mechanism"
   ]
  },
  {
   "cell_type": "markdown",
   "metadata": {},
   "source": [
    "# Multiprocessing"
   ]
  },
  {
   "cell_type": "code",
   "execution_count": 10,
   "metadata": {},
   "outputs": [],
   "source": [
    "import os\n",
    " \n",
    "from multiprocessing import Process\n",
    " \n",
    "def doubler(number):\n",
    "    \"\"\"\n",
    "    A doubling function that can be used by a process\n",
    "    \"\"\"\n",
    "    result = number * 2\n",
    "    proc = os.getpid()\n",
    "    print('{0} doubled to {1} by process id: {2}'.format(\n",
    "        number, result, proc))\n",
    " \n",
    "if __name__ == '__main__':\n",
    "    numbers = [5, 10, 15, 20, 25]\n",
    "    procs = []\n",
    " \n",
    "    for index, number in enumerate(numbers):\n",
    "        proc = Process(target=doubler, args=(number,))\n",
    "        procs.append(proc)\n",
    "        proc.start()\n",
    " \n",
    "    for proc in procs:\n",
    "        proc.join()"
   ]
  },
  {
   "cell_type": "code",
   "execution_count": null,
   "metadata": {},
   "outputs": [],
   "source": [
    "# pool example\n",
    "from multiprocessing import Pool\n",
    "\n",
    "def f(x):\n",
    "    return x*x\n",
    "if __name__ == \"__main__\":\n",
    "    p = Pool(5)\n",
    "\n",
    "    print(p.map(f,[1,2,3]))\n"
   ]
  },
  {
   "cell_type": "code",
   "execution_count": null,
   "metadata": {},
   "outputs": [],
   "source": [
    "# pool eample\n",
    "import time\n",
    "from multiprocessing import Pool\n",
    "\n",
    "def f(x):\n",
    "    return x*x\n",
    "\n",
    "t1 = time.time()\n",
    "p = Pool(5) # Run with Pool and second time run without pool\n",
    "#p = Pool(5)\n",
    "x=map(f, range(10000))\n",
    "t2 = time.time()\n",
    "\n",
    "print(t2-t1)\n"
   ]
  }
 ],
 "metadata": {
  "kernelspec": {
   "display_name": "Python 2",
   "language": "python",
   "name": "python2"
  },
  "language_info": {
   "codemirror_mode": {
    "name": "ipython",
    "version": 2
   },
   "file_extension": ".py",
   "mimetype": "text/x-python",
   "name": "python",
   "nbconvert_exporter": "python",
   "pygments_lexer": "ipython2",
   "version": "2.7.15"
  }
 },
 "nbformat": 4,
 "nbformat_minor": 2
}

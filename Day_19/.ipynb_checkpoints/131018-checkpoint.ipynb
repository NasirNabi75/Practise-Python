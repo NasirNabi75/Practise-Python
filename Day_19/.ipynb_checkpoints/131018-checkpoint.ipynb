{
 "cells": [
  {
   "cell_type": "markdown",
   "metadata": {},
   "source": [
    "## Decorators"
   ]
  },
  {
   "cell_type": "code",
   "execution_count": 2,
   "metadata": {},
   "outputs": [],
   "source": [
    "import xlrd\n",
    "import xlwt\n",
    "import bs4"
   ]
  },
  {
   "cell_type": "markdown",
   "metadata": {},
   "source": [
    "- static methods can be called with class name\n",
    "- class method can not be accessed by class object it can be accessed with class name only"
   ]
  },
  {
   "cell_type": "code",
   "execution_count": 20,
   "metadata": {},
   "outputs": [
    {
     "name": "stdout",
     "output_type": "stream",
     "text": [
      "in init\n",
      "in init\n",
      "in static\n",
      "in static\n",
      "abc\n",
      "in class\n",
      "abc\n",
      "xyz\n",
      "access granted\n",
      "it was private method\n"
     ]
    }
   ],
   "source": [
    "# @ is used as decoretor\n",
    "\n",
    "class methods(object):\n",
    "    class_value = \"abc\"\n",
    "    def __init__(self):\n",
    "        print(\"in init\")\n",
    "        \n",
    "    def __dnt_touch_me(self):\n",
    "        print(\"access granted\")\n",
    "        \n",
    "    def get_access(self):\n",
    "        self.__dnt_touch_me()\n",
    "        print(\"it was private method\")\n",
    "    \n",
    "    def normal(self):\n",
    "        print(self.class_value)\n",
    "        self.class_value = \"xyz\"\n",
    "        print(self.class_value)\n",
    "        \n",
    "    @staticmethod\n",
    "    def call_static():\n",
    "        print(\"in static\")\n",
    "        \n",
    "    @classmethod\n",
    "    def call_class(cls): # cls is used to refer a class\n",
    "        print(cls.class_value)\n",
    "        print(\"in class\")\n",
    "        \n",
    "obj1 = methods()\n",
    "obj2 = methods()\n",
    "obj1.call_static()\n",
    "obj2.call_static()\n",
    "methods.call_class()\n",
    "obj1.normal()\n",
    "obj1.get_access()"
   ]
  },
  {
   "cell_type": "code",
   "execution_count": 22,
   "metadata": {},
   "outputs": [
    {
     "name": "stdout",
     "output_type": "stream",
     "text": [
      "before calling funct\n",
      "actual methods\n",
      "post method print\n"
     ]
    }
   ],
   "source": [
    "def decorator_method(funct):\n",
    "    def inner():\n",
    "        print(\"before calling funct\")\n",
    "        funct()\n",
    "        print(\"post method print\")\n",
    "    return inner\n",
    "\n",
    "@decorator_method\n",
    "def decorated_method():\n",
    "    print(\"actual methods\")\n",
    "    \n",
    "decorated_method()"
   ]
  },
  {
   "cell_type": "markdown",
   "metadata": {},
   "source": [
    "#### Parameterised Decorator"
   ]
  },
  {
   "cell_type": "code",
   "execution_count": 27,
   "metadata": {},
   "outputs": [
    {
     "name": "stdout",
     "output_type": "stream",
     "text": [
      "before calling funct\n"
     ]
    },
    {
     "data": {
      "text/plain": [
       "36"
      ]
     },
     "execution_count": 27,
     "metadata": {},
     "output_type": "execute_result"
    }
   ],
   "source": [
    "def decorator_method(funct):\n",
    "    def inner(a,b):\n",
    "        print(\"before calling funct\")\n",
    "        sum = funct(a,b)\n",
    "        if sum>10:\n",
    "            return sum\n",
    "        else:\n",
    "            return 10\n",
    "        \n",
    "    return inner\n",
    "\n",
    "@decorator_method\n",
    "def decorated_method(a,b):\n",
    "    return a+b\n",
    "    \n",
    "decorated_method(3,33)"
   ]
  },
  {
   "cell_type": "code",
   "execution_count": 34,
   "metadata": {},
   "outputs": [
    {
     "name": "stdout",
     "output_type": "stream",
     "text": [
      "['New Text Document (2).txt', 'New Text Document (3).txt', 'New Text Document.txt']\n",
      "out of file\n",
      "out of file\n",
      "out of file\n"
     ]
    }
   ],
   "source": [
    "# with is used as context manager, context of object remains till scope of with\n",
    "\n",
    "import glob\n",
    "print(glob.glob(\"*.txt\"))\n",
    "\n",
    "for files in glob.glob(\"*.txt\"):\n",
    "    with open(files, 'w') as of:\n",
    "        of.write('222')\n",
    "        of.close()\n",
    "    print(\"out of file\")"
   ]
  },
  {
   "cell_type": "markdown",
   "metadata": {},
   "source": [
    "## Working with Excel"
   ]
  },
  {
   "cell_type": "code",
   "execution_count": 41,
   "metadata": {},
   "outputs": [
    {
     "name": "stdout",
     "output_type": "stream",
     "text": [
      "<xlrd.sheet.Sheet object at 0x0000000006383A90>\n",
      "[[u'name', u'number', u'city'], [u'a', 1.0, u'abc'], [u'b', 2.0, u'pqr'], [u'c', 3.0, u'wer']]\n"
     ]
    }
   ],
   "source": [
    "import xlrd\n",
    "book = xlrd.open_workbook(\"data.xlsx\")\n",
    "\n",
    "sheet = book.sheets()[0]\n",
    "# sheet = book.sheet_by_name(\"Sheet1\")\n",
    "# sheet = book.sheet_by_index(0)\n",
    "\n",
    "r = sheet.row(0)\n",
    "c = sheet.col_values(0)\n",
    "\n",
    "data = []\n",
    "for i in xrange(sheet.nrows):\n",
    "    data.append(sheet.row_values(i))\n",
    "print(data)"
   ]
  }
 ],
 "metadata": {
  "kernelspec": {
   "display_name": "Python 2",
   "language": "python",
   "name": "python2"
  },
  "language_info": {
   "codemirror_mode": {
    "name": "ipython",
    "version": 2
   },
   "file_extension": ".py",
   "mimetype": "text/x-python",
   "name": "python",
   "nbconvert_exporter": "python",
   "pygments_lexer": "ipython2",
   "version": "2.7.15"
  },
  "varInspector": {
   "cols": {
    "lenName": 16,
    "lenType": 16,
    "lenVar": 40
   },
   "kernels_config": {
    "python": {
     "delete_cmd_postfix": "",
     "delete_cmd_prefix": "del ",
     "library": "var_list.py",
     "varRefreshCmd": "print(var_dic_list())"
    },
    "r": {
     "delete_cmd_postfix": ") ",
     "delete_cmd_prefix": "rm(",
     "library": "var_list.r",
     "varRefreshCmd": "cat(var_dic_list()) "
    }
   },
   "types_to_exclude": [
    "module",
    "function",
    "builtin_function_or_method",
    "instance",
    "_Feature"
   ],
   "window_display": false
  }
 },
 "nbformat": 4,
 "nbformat_minor": 2
}

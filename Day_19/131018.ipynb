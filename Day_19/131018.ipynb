{
 "cells": [
  {
   "cell_type": "markdown",
   "metadata": {},
   "source": [
    "## Decorators"
   ]
  },
  {
   "cell_type": "code",
   "execution_count": 2,
   "metadata": {},
   "outputs": [],
   "source": [
    "import xlrd\n",
    "import xlwt\n",
    "import bs4"
   ]
  },
  {
   "cell_type": "markdown",
   "metadata": {},
   "source": [
    "- static methods can be called with class name\n",
    "- class method can not be accessed by class object it can be accessed with class name only"
   ]
  },
  {
   "cell_type": "code",
   "execution_count": 20,
   "metadata": {},
   "outputs": [
    {
     "name": "stdout",
     "output_type": "stream",
     "text": [
      "in init\n",
      "in init\n",
      "in static\n",
      "in static\n",
      "abc\n",
      "in class\n",
      "abc\n",
      "xyz\n",
      "access granted\n",
      "it was private method\n"
     ]
    }
   ],
   "source": [
    "# @ is used as decoretor\n",
    "\n",
    "class methods(object):\n",
    "    class_value = \"abc\"\n",
    "    def __init__(self):\n",
    "        print(\"in init\")\n",
    "        \n",
    "    def __dnt_touch_me(self):\n",
    "        print(\"access granted\")\n",
    "        \n",
    "    def get_access(self):\n",
    "        self.__dnt_touch_me()\n",
    "        print(\"it was private method\")\n",
    "    \n",
    "    def normal(self):\n",
    "        print(self.class_value)\n",
    "        self.class_value = \"xyz\"\n",
    "        print(self.class_value)\n",
    "        \n",
    "    @staticmethod\n",
    "    def call_static():\n",
    "        print(\"in static\")\n",
    "        \n",
    "    @classmethod\n",
    "    def call_class(cls): # cls is used to refer a class\n",
    "        print(cls.class_value)\n",
    "        print(\"in class\")\n",
    "        \n",
    "obj1 = methods()\n",
    "obj2 = methods()\n",
    "obj1.call_static()\n",
    "obj2.call_static()\n",
    "methods.call_class()\n",
    "obj1.normal()\n",
    "obj1.get_access()"
   ]
  },
  {
   "cell_type": "code",
   "execution_count": 22,
   "metadata": {},
   "outputs": [
    {
     "name": "stdout",
     "output_type": "stream",
     "text": [
      "before calling funct\n",
      "actual methods\n",
      "post method print\n"
     ]
    }
   ],
   "source": [
    "def decorator_method(funct):\n",
    "    def inner():\n",
    "        print(\"before calling funct\")\n",
    "        funct()\n",
    "        print(\"post method print\")\n",
    "    return inner\n",
    "\n",
    "@decorator_method\n",
    "def decorated_method():\n",
    "    print(\"actual methods\")\n",
    "    \n",
    "decorated_method()"
   ]
  },
  {
   "cell_type": "markdown",
   "metadata": {},
   "source": [
    "#### Parameterised Decorator"
   ]
  },
  {
   "cell_type": "code",
   "execution_count": 27,
   "metadata": {},
   "outputs": [
    {
     "name": "stdout",
     "output_type": "stream",
     "text": [
      "before calling funct\n"
     ]
    },
    {
     "data": {
      "text/plain": [
       "36"
      ]
     },
     "execution_count": 27,
     "metadata": {},
     "output_type": "execute_result"
    }
   ],
   "source": [
    "def decorator_method(funct):\n",
    "    def inner(a,b):\n",
    "        print(\"before calling funct\")\n",
    "        sum = funct(a,b)\n",
    "        if sum>10:\n",
    "            return sum\n",
    "        else:\n",
    "            return 10\n",
    "        \n",
    "    return inner\n",
    "\n",
    "@decorator_method\n",
    "def decorated_method(a,b):\n",
    "    return a+b\n",
    "    \n",
    "decorated_method(3,33)"
   ]
  },
  {
   "cell_type": "code",
   "execution_count": 34,
   "metadata": {},
   "outputs": [
    {
     "name": "stdout",
     "output_type": "stream",
     "text": [
      "['New Text Document (2).txt', 'New Text Document (3).txt', 'New Text Document.txt']\n",
      "out of file\n",
      "out of file\n",
      "out of file\n"
     ]
    }
   ],
   "source": [
    "# with is used as context manager, context of object remains till scope of with\n",
    "\n",
    "import glob\n",
    "print(glob.glob(\"*.txt\"))\n",
    "\n",
    "for files in glob.glob(\"*.txt\"):\n",
    "    with open(files, 'w') as of:\n",
    "        of.write('222')\n",
    "        of.close()\n",
    "    print(\"out of file\")"
   ]
  },
  {
   "cell_type": "markdown",
   "metadata": {},
   "source": [
    "## Working with Excel"
   ]
  },
  {
   "cell_type": "code",
   "execution_count": 2,
   "metadata": {},
   "outputs": [
    {
     "name": "stdout",
     "output_type": "stream",
     "text": [
      "[u'name', u'number', u'city']\n",
      "[u'a', 1.0, u'abc']\n",
      "[u'b', 2.0, u'pqr']\n",
      "[u'c', 3.0, u'wer']\n"
     ]
    }
   ],
   "source": [
    "import xlrd\n",
    "book = xlrd.open_workbook(\"data.xlsx\")\n",
    "\n",
    "sheet = book.sheets()[0]\n",
    "# sheet = book.sheet_by_name(\"Sheet1\")\n",
    "# sheet = book.sheet_by_index(0)\n",
    "\n",
    "r = sheet.row(0)\n",
    "c = sheet.col_values(0)\n",
    "\n",
    "data = []\n",
    "for i in xrange(sheet.nrows):\n",
    "    data.append(sheet.row_values(i))\n",
    "#print(data)\n",
    "\n",
    "for row_data in data:\n",
    "    print(\"{0}\".format(row_data))"
   ]
  },
  {
   "cell_type": "code",
   "execution_count": 35,
   "metadata": {},
   "outputs": [
    {
     "name": "stdout",
     "output_type": "stream",
     "text": [
      "col A\n",
      "value Row 1, Col A\n",
      "col B\n",
      "value Row 1, Col B\n",
      "col C\n",
      "value Row 1, Col C\n",
      "col D\n",
      "value Row 1, Col D\n",
      "col E\n",
      "value Row 1, Col E\n",
      "col A\n",
      "value Row 2, Col A\n",
      "col B\n",
      "value Row 2, Col B\n",
      "col C\n",
      "value Row 2, Col C\n",
      "col D\n",
      "value Row 2, Col D\n",
      "col E\n",
      "value Row 2, Col E\n",
      "col A\n",
      "value Row 3, Col A\n",
      "col B\n",
      "value Row 3, Col B\n",
      "col C\n",
      "value Row 3, Col C\n",
      "col D\n",
      "value Row 3, Col D\n",
      "col E\n",
      "value Row 3, Col E\n",
      "col A\n",
      "value Row 4, Col A\n",
      "col B\n",
      "value Row 4, Col B\n",
      "col C\n",
      "value Row 4, Col C\n",
      "col D\n",
      "value Row 4, Col D\n",
      "col E\n",
      "value Row 4, Col E\n",
      "col A\n",
      "value Row 5, Col A\n",
      "col B\n",
      "value Row 5, Col B\n",
      "col C\n",
      "value Row 5, Col C\n",
      "col D\n",
      "value Row 5, Col D\n",
      "col E\n",
      "value Row 5, Col E\n"
     ]
    }
   ],
   "source": [
    "#================ 14 Oct 2018 ==================\n",
    "\n",
    "#---- Excel File Writing ----\n",
    "\n",
    "import xlwt\n",
    "\n",
    "def main():\n",
    "    book = xlwt.Workbook()\n",
    "    sheet1 = book.add_sheet(\"PySheet1\")\n",
    "\n",
    "    cols = [\"A\",\"B\",\"C\",\"D\",\"E\"]\n",
    "    txt = \"Row {0}, Col {1}\"\n",
    "\n",
    "    for num in range(5):\n",
    "        row = sheet1.row(num)\n",
    "        for index, col in enumerate(cols):\n",
    "            print(\"col {col}\".format(col = col))\n",
    "            value = txt.format(num+1, col)\n",
    "            print(\"value {value}\".format(value = value))\n",
    "            row.write(index, value)\n",
    "\n",
    "    book.save(\"test.xls\")\n",
    "\n",
    "if __name__ == \"__main__\":\n",
    "    main()\n",
    "\n",
    "# csv will be covered in panda\n"
   ]
  },
  {
   "cell_type": "markdown",
   "metadata": {},
   "source": [
    "# BeutifulSoup"
   ]
  },
  {
   "cell_type": "code",
   "execution_count": 15,
   "metadata": {},
   "outputs": [
    {
     "name": "stdout",
     "output_type": "stream",
     "text": [
      "('Wikipedia', '/wiki/Wikipedia')\n",
      "('Free content', '/wiki/Free_content')\n",
      "('Encyclopedia', '/wiki/Encyclopedia')\n",
      "('Wikipedia:Introduction', '/wiki/Wikipedia:Introduction')\n",
      "('Special:Statistics', '/wiki/Special:Statistics')\n",
      "('English language', '/wiki/English_language')\n",
      "('Portal:Arts', '/wiki/Portal:Arts')\n",
      "('Portal:Biography', '/wiki/Portal:Biography')\n",
      "('Portal:Geography', '/wiki/Portal:Geography')\n",
      "('Portal:History', '/wiki/Portal:History')\n",
      "('Portal:Mathematics', '/wiki/Portal:Mathematics')\n",
      "('Portal:Science', '/wiki/Portal:Science')\n",
      "('Portal:Society', '/wiki/Portal:Society')\n",
      "('Portal:Technology', '/wiki/Portal:Technology')\n",
      "('Portal:Contents/Portals', '/wiki/Portal:Contents/Portals')\n",
      "('The fall of the Prussian camp at Hochkirch', '/wiki/File:La_Pegna_%C3%9Cberfall_bei_Hochkirch.jpg')\n",
      "('Battle of Hochkirch', '/wiki/Battle_of_Hochkirch')\n",
      "('Third Silesian War', '/wiki/Third_Silesian_War')\n",
      "(\"Seven Years' War\", '/wiki/Seven_Years%27_War')\n",
      "('Lieutenant Field Marshal', '/wiki/Lieutenant_Field_Marshal')\n",
      "('Leopold Joseph von Daun', '/wiki/Leopold_Joseph_von_Daun')\n",
      "('Frederick the Great', '/wiki/Frederick_the_Great')\n",
      "('Hochkirch', '/wiki/Hochkirch')\n",
      "('Bautzen', '/wiki/Bautzen')\n",
      "('Saxony', '/wiki/Saxony')\n",
      "('Battle of Hochkirch', '/wiki/Battle_of_Hochkirch')\n",
      "('Amazing Stories', '/wiki/Amazing_Stories')\n",
      "('Cortinarius caperatus', '/wiki/Cortinarius_caperatus')\n",
      "(u'History of the British penny (1714\\u20131901)', '/wiki/History_of_the_British_penny_(1714%E2%80%931901)')\n",
      "(\"Wikipedia:Today's featured article/October 2018\", '/wiki/Wikipedia:Today%27s_featured_article/October_2018')\n",
      "('Wikipedia:Featured articles', '/wiki/Wikipedia:Featured_articles')\n",
      "('Porcelain basket of fruit', '/wiki/File:Basket_of_fruit_MET_DP-470-069_(cropped).jpg')\n",
      "('Chelsea porcelain factory', '/wiki/Chelsea_porcelain_factory')\n",
      "('Matt Mobley', '/wiki/Matt_Mobley')\n",
      "('Atlantic 10 Conference', '/wiki/Atlantic_10_Conference')\n",
      "('Three-point field goal', '/wiki/Three-point_field_goal')\n",
      "(\"Richmond Spiders men's basketball\", '/wiki/Richmond_Spiders_men%27s_basketball')\n",
      "(u'Biblioteca della Comunit\\xe0 Israelitica', '/wiki/Biblioteca_della_Comunit%C3%A0_Israelitica')\n",
      "('Nazi Germany', '/wiki/Nazi_Germany')\n",
      "('Max Jessner', '/wiki/Max_Jessner')\n",
      "('Buryatia', '/wiki/Buryatia')\n",
      "('Soviet-German Syphilis Expedition', '/wiki/Soviet-German_Syphilis_Expedition')\n",
      "('Bontecou Lake', '/wiki/Bontecou_Lake')\n",
      "('Millbrook, New York', '/wiki/Millbrook,_New_York')\n",
      "('Drainage basin', '/wiki/Drainage_basin')\n",
      "('Bifurcation lake', '/wiki/Bifurcation_lake')\n",
      "('Selina Siggins', '/wiki/Selina_Siggins')\n",
      "('Australian House of Representatives', '/wiki/Australian_House_of_Representatives')\n",
      "('Mein ganzes Herz erhebet dich', '/wiki/Mein_ganzes_Herz_erhebet_dich')\n",
      "('Psalm 138', '/wiki/Psalm_138')\n",
      "('Genevan Psalter', '/wiki/Genevan_Psalter')\n",
      "('Jose Yao Campos', '/wiki/Jose_Yao_Campos')\n",
      "('Shell corporation', '/wiki/Shell_corporation')\n",
      "('Ferdinand Marcos', '/wiki/Ferdinand_Marcos')\n",
      "('Wikipedia:Recent additions', '/wiki/Wikipedia:Recent_additions')\n",
      "('Wikipedia:Your first article', '/wiki/Wikipedia:Your_first_article')\n",
      "('Template talk:Did you know', '/wiki/Template_talk:Did_you_know')\n",
      "('Soyuz MS-10 launch', '/wiki/File:Expedition_57_Launch_(NHQ201810110004).jpg')\n",
      "('Soyuz MS-10', '/wiki/Soyuz_MS-10')\n",
      "('Booster (rocketry)', '/wiki/Booster_(rocketry)')\n",
      "('Baikonur Cosmodrome', '/wiki/Baikonur_Cosmodrome')\n",
      "('Hurricane Michael', '/wiki/Hurricane_Michael')\n",
      "(u'Saffir\\u2013Simpson scale', '/wiki/Saffir%E2%80%93Simpson_scale#Category_4')\n",
      "('Central America', '/wiki/Central_America')\n",
      "('Intergovernmental Panel on Climate Change', '/wiki/Intergovernmental_Panel_on_Climate_Change')\n",
      "(u'Special Report on Global Warming of 1.5 \\xbaC', '/wiki/Special_Report_on_Global_Warming_of_1.5_%C2%BAC')\n",
      "('Global warming', '/wiki/Global_warming')\n",
      "('Nobel Memorial Prize in Economic Sciences', '/wiki/Nobel_Memorial_Prize_in_Economic_Sciences')\n",
      "('William Nordhaus', '/wiki/William_Nordhaus')\n",
      "('Paul Romer', '/wiki/Paul_Romer')\n",
      "('Climate change', '/wiki/Climate_change')\n",
      "('Technological innovation', '/wiki/Technological_innovation')\n",
      "('Economic growth', '/wiki/Economic_growth')\n",
      "('Deaths in 2018', '/wiki/Deaths_in_2018')\n",
      "('Leif Axmyr', '/wiki/Leif_Axmyr')\n",
      "('Doug Ellis', '/wiki/Doug_Ellis')\n",
      "('Raye Montague', '/wiki/Raye_Montague')\n",
      "('Hiroshi Wajima', '/wiki/Hiroshi_Wajima')\n",
      "('Portal:Current events', '/wiki/Portal:Current_events')\n",
      "('Wikipedia:In the news/Candidates', '/wiki/Wikipedia:In_the_news/Candidates')\n",
      "('October 14', '/wiki/October_14')\n",
      "('Defender of Ukraine Day', '/wiki/Defender_of_Ukraine_Day')\n",
      "('B. R. Ambedkar', '/wiki/File:Dr._Bhimrao_Ambedkar.jpg')\n",
      "('1066', '/wiki/1066')\n",
      "('Norman conquest of England', '/wiki/Norman_conquest_of_England')\n",
      "('William the Conqueror', '/wiki/William_the_Conqueror')\n",
      "('Battle of Hastings', '/wiki/Battle_of_Hastings')\n",
      "('Hastings', '/wiki/Hastings')\n",
      "('Harold Godwinson', '/wiki/Harold_Godwinson')\n",
      "('Anglo-Saxons', '/wiki/Anglo-Saxons')\n",
      "('1863', '/wiki/1863')\n",
      "('American Civil War', '/wiki/American_Civil_War')\n",
      "('Battle of Bristoe Station', '/wiki/Battle_of_Bristoe_Station')\n",
      "('II Corps (Union Army)', '/wiki/II_Corps_(Union_Army)')\n",
      "('Confederate States Army', '/wiki/Confederate_States_Army')\n",
      "('Rear guard', '/wiki/Rear_guard')\n",
      "('1943', '/wiki/1943')\n",
      "('The Holocaust', '/wiki/The_Holocaust')\n",
      "(u'Sobib\\xf3r extermination camp', '/wiki/Sobib%C3%B3r_extermination_camp')\n",
      "('Schutzstaffel', '/wiki/Schutzstaffel')\n",
      "('1956', '/wiki/1956')\n",
      "('B. R. Ambedkar', '/wiki/B._R._Ambedkar')\n",
      "('Dalit', '/wiki/Dalit')\n",
      "('Buddhism', '/wiki/Buddhism')\n",
      "('Dalit Buddhist movement', '/wiki/Dalit_Buddhist_movement')\n",
      "('2012', '/wiki/2012')\n",
      "('Felix Baumgartner', '/wiki/Felix_Baumgartner')\n",
      "('Stratosphere', '/wiki/Stratosphere')\n",
      "('Sound barrier', '/wiki/Sound_barrier')\n",
      "('Charles Middleton, 1st Baron Barham', '/wiki/Charles_Middleton,_1st_Baron_Barham')\n",
      "(\"Mary Margaret O'Reilly\", '/wiki/Mary_Margaret_O%27Reilly')\n",
      "('Julius Nyerere', '/wiki/Julius_Nyerere')\n",
      "('October 13', '/wiki/October_13')\n",
      "('October 14', '/wiki/October_14')\n",
      "('October 15', '/wiki/October_15')\n",
      "('Wikipedia:Selected anniversaries/October', '/wiki/Wikipedia:Selected_anniversaries/October')\n",
      "('List of historical anniversaries', '/wiki/List_of_historical_anniversaries')\n",
      "('Crab on its Back', '/wiki/File:Crustacean,_lying_on_his_back_by_Vincent_van_Gogh_(Van_Gogh_museum_photogtaph).jpg')\n",
      "('Crab on its Back', '/wiki/Crab_on_its_Back')\n",
      "('Dutch language', '/wiki/Dutch_language')\n",
      "('Oil painting', '/wiki/Oil_painting')\n",
      "('Vincent van Gogh', '/wiki/Vincent_van_Gogh')\n",
      "('Still life', '/wiki/Still_life')\n",
      "('Crab', '/wiki/Crab')\n",
      "('Hokusai', '/wiki/Hokusai')\n",
      "('Theo van Gogh (art dealer)', '/wiki/Theo_van_Gogh_(art_dealer)')\n",
      "('Van Gogh Museum', '/wiki/Van_Gogh_Museum')\n",
      "('Amsterdam', '/wiki/Amsterdam')\n",
      "('Vincent van Gogh', '/wiki/Vincent_van_Gogh')\n",
      "('Template:POTD/2018-10-13', '/wiki/Template:POTD/2018-10-13')\n",
      "('Template:POTD/2018-10-12', '/wiki/Template:POTD/2018-10-12')\n",
      "('Template:POTD/2018-10-11', '/wiki/Template:POTD/2018-10-11')\n",
      "('Wikipedia:Picture of the day/October 2018', '/wiki/Wikipedia:Picture_of_the_day/October_2018')\n",
      "('Wikipedia:Featured pictures', '/wiki/Wikipedia:Featured_pictures')\n",
      "('Wikipedia:Community portal', '/wiki/Wikipedia:Community_portal')\n",
      "('Wikipedia:Help desk', '/wiki/Wikipedia:Help_desk')\n",
      "('Wikipedia:Local Embassy', '/wiki/Wikipedia:Local_Embassy')\n",
      "('Wikipedia:Reference desk', '/wiki/Wikipedia:Reference_desk')\n",
      "('Wikipedia:News', '/wiki/Wikipedia:News')\n",
      "('Wikipedia:Village pump', '/wiki/Wikipedia:Village_pump')\n",
      "('Wikimedia Foundation', '/wiki/Wikimedia_Foundation')\n",
      "('wmf:Our projects', 'https://foundation.wikimedia.org/wiki/Our_projects')\n",
      "('English language', '/wiki/English_language')\n",
      "('Special:Statistics', '/wiki/Special:Statistics')\n",
      "('meta:List of Wikipedias', 'https://meta.wikimedia.org/wiki/List_of_Wikipedias')\n",
      "('Category:Articles containing Dutch-language text', '/wiki/Category:Articles_containing_Dutch-language_text')\n"
     ]
    }
   ],
   "source": [
    "from urllib2 import urlopen\n",
    "from bs4 import BeautifulSoup\n",
    "import re\n",
    "\n",
    "url = 'https://en.wikipedia.org/wiki/Main_Page'\n",
    "\n",
    "html = urlopen(url)\n",
    "bs=BeautifulSoup(html, 'lxml')\n",
    "\n",
    "links = bs.find(\"div\", {'id':'bodyContent'}).findAll(\"a\", href=re.compile(\"(/wiki/)+([A-Za-z0-9_:()])+\"))\n",
    "\n",
    "for link in links:\n",
    "    print(link['title'], link['href'])"
   ]
  },
  {
   "cell_type": "code",
   "execution_count": 25,
   "metadata": {},
   "outputs": [
    {
     "name": "stdout",
     "output_type": "stream",
     "text": [
      "<div style=\"font-size:162%; padding:.1em;\">Welcome to <a href=\"/wiki/Wikipedia\" title=\"Wikipedia\">Wikipedia</a>,</div>\n",
      "\n",
      "\n",
      "Welcome to Wikipedia,\n"
     ]
    }
   ],
   "source": [
    "from urllib2 import urlopen\n",
    "from bs4 import BeautifulSoup\n",
    "import re\n",
    "\n",
    "url = 'https://en.wikipedia.org/wiki/Main_Page'\n",
    "\n",
    "html = urlopen(url)\n",
    "bs=BeautifulSoup(html, 'lxml')\n",
    "\n",
    "link = bs.find(\"div\", style=\"font-size:162%; padding:.1em;\")\n",
    "                       \n",
    "print(link)\n",
    "print(\"\\n\")\n",
    "if link:\n",
    "    print(link.text)"
   ]
  }
 ],
 "metadata": {
  "kernelspec": {
   "display_name": "Python 2",
   "language": "python",
   "name": "python2"
  },
  "language_info": {
   "codemirror_mode": {
    "name": "ipython",
    "version": 2
   },
   "file_extension": ".py",
   "mimetype": "text/x-python",
   "name": "python",
   "nbconvert_exporter": "python",
   "pygments_lexer": "ipython2",
   "version": "2.7.15"
  },
  "varInspector": {
   "cols": {
    "lenName": 16,
    "lenType": 16,
    "lenVar": 40
   },
   "kernels_config": {
    "python": {
     "delete_cmd_postfix": "",
     "delete_cmd_prefix": "del ",
     "library": "var_list.py",
     "varRefreshCmd": "print(var_dic_list())"
    },
    "r": {
     "delete_cmd_postfix": ") ",
     "delete_cmd_prefix": "rm(",
     "library": "var_list.r",
     "varRefreshCmd": "cat(var_dic_list()) "
    }
   },
   "types_to_exclude": [
    "module",
    "function",
    "builtin_function_or_method",
    "instance",
    "_Feature"
   ],
   "window_display": false
  }
 },
 "nbformat": 4,
 "nbformat_minor": 2
}

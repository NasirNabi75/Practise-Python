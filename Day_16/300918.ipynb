{
 "cells": [
  {
   "cell_type": "markdown",
   "metadata": {},
   "source": [
    "# SQLite"
   ]
  },
  {
   "cell_type": "code",
   "execution_count": 1,
   "metadata": {},
   "outputs": [],
   "source": [
    "import sqlite3"
   ]
  },
  {
   "cell_type": "code",
   "execution_count": 2,
   "metadata": {},
   "outputs": [
    {
     "data": {
      "text/plain": [
       "'2.6.0'"
      ]
     },
     "execution_count": 2,
     "metadata": {},
     "output_type": "execute_result"
    }
   ],
   "source": [
    "sqlite3.version"
   ]
  },
  {
   "cell_type": "code",
   "execution_count": 3,
   "metadata": {},
   "outputs": [
    {
     "data": {
      "text/plain": [
       "'3.14.2'"
      ]
     },
     "execution_count": 3,
     "metadata": {},
     "output_type": "execute_result"
    }
   ],
   "source": [
    "sqlite3.sqlite_version"
   ]
  },
  {
   "cell_type": "markdown",
   "metadata": {},
   "source": [
    "#### Creating Database"
   ]
  },
  {
   "cell_type": "code",
   "execution_count": 8,
   "metadata": {},
   "outputs": [],
   "source": [
    "import sqlite3\n",
    "db = sqlite3.connect('test.db')\n",
    "db.close()"
   ]
  },
  {
   "cell_type": "markdown",
   "metadata": {},
   "source": [
    "#### Creating Table"
   ]
  },
  {
   "cell_type": "code",
   "execution_count": null,
   "metadata": {},
   "outputs": [],
   "source": [
    "import sqlite3\n",
    "db = sqlite3.connect('test.db')\n",
    "cursor = db.cursor()\n",
    "cursor.execute(''' CREATE TABLE books(id INTEGER PRIMARY KEY, title TEXT, author TEXT, price TEXT, year TEXT)''')\n",
    "db.close()\n",
    "\n",
    "# DROP table books\n",
    "#cursor.execute(''' DROP table books ''')"
   ]
  },
  {
   "cell_type": "markdown",
   "metadata": {},
   "source": [
    "#### Inserting data"
   ]
  },
  {
   "cell_type": "code",
   "execution_count": 11,
   "metadata": {},
   "outputs": [],
   "source": [
    "import sqlite3\n",
    "db = sqlite3.connect('test.db')\n",
    "cursor = db.cursor()\n",
    "\n",
    "title1='Python Basics'\n",
    "author1='Mark'\n",
    "price1='100USD'\n",
    "year1='2016'\n",
    "\n",
    "title2='Python Advanced'\n",
    "author2='July'\n",
    "price2='150USD'\n",
    "year2='2018'\n",
    "\n",
    "cursor.execute(''' INSERT INTO books(title, author, price, year) VALUES (?,?,?,?)''',(title1,author1,price1,year1))\n",
    "cursor.execute(''' INSERT INTO books(title, author, price, year) VALUES (?,?,?,?)''',(title2,author2,price2,year2))\n",
    "\n",
    "db.commit()\n",
    "db.close()\n",
    "\n",
    "# .tables used to check tables in db"
   ]
  },
  {
   "cell_type": "markdown",
   "metadata": {},
   "source": [
    "#### Using place holder for inserting data"
   ]
  },
  {
   "cell_type": "code",
   "execution_count": 14,
   "metadata": {},
   "outputs": [],
   "source": [
    "import sqlite3\n",
    "db = sqlite3.connect('test.db')\n",
    "cursor = db.cursor()\n",
    "\n",
    "title3='Python Expert'\n",
    "author3='Linda'\n",
    "price3='200USD'\n",
    "year3='2018'\n",
    "\n",
    "cursor.execute(''' INSERT INTO books(title, author, price, year) VALUES (:title, :author, :price, :year)''',{'title':title3, 'author':author3, 'price':price3, 'year':year3})\n",
    "\n",
    "db.commit()\n",
    "db.close()\n",
    "\n",
    "# .tables used to check tables in db"
   ]
  },
  {
   "cell_type": "code",
   "execution_count": null,
   "metadata": {},
   "outputs": [],
   "source": [
    "# sqlite> .table\n",
    "# books\n",
    "# sqlite> .mode column\n",
    "# sqlite> .headers on\n",
    "# sqlite> select * from books;\n",
    "# id          title          author      price       year\n",
    "# ----------  -------------  ----------  ----------  ----------\n",
    "# 1           Python Basics  Mark        100USD      2016\n",
    "# 2           Python Advanc  July        150USD      2018\n",
    "# 3           Python Expert  Linda       200USD      2018"
   ]
  },
  {
   "cell_type": "code",
   "execution_count": 33,
   "metadata": {},
   "outputs": [
    {
     "name": "stdout",
     "output_type": "stream",
     "text": [
      "Python Basics : Mark, 100USD\n",
      "Python Advanced : July, 150USD\n",
      "Python Expert : Linda, 180USD\n"
     ]
    }
   ],
   "source": [
    "import sqlite3\n",
    "db = sqlite3.connect('test.db')\n",
    "cursor = db.cursor()\n",
    "\n",
    "cursor.execute('''SELECT title,author,price FROM books''')\n",
    "\n",
    "\n",
    "#book1 = cursor.fetchone()\n",
    "#print book1\n",
    "\n",
    "all_cols = cursor.fetchall()\n",
    "for row in all_cols:\n",
    "    print('{0} : {1}, {2}'.format(row[0], row[1], row[2]))\n",
    "\n",
    "db.commit()\n",
    "db.close()"
   ]
  },
  {
   "cell_type": "markdown",
   "metadata": {},
   "source": [
    "#### Update"
   ]
  },
  {
   "cell_type": "code",
   "execution_count": 31,
   "metadata": {},
   "outputs": [],
   "source": [
    "import sqlite3\n",
    "db = sqlite3.connect('test.db')\n",
    "cursor = db.cursor()\n",
    "\n",
    "new_price = \"180USD\"\n",
    "book_id = 3\n",
    "\n",
    "cursor.execute('''UPDATE books SET price = ? WHERE id = ?''',(new_price,book_id))\n",
    "\n",
    "db.commit()\n",
    "db.close()"
   ]
  },
  {
   "cell_type": "markdown",
   "metadata": {},
   "source": [
    "#### Delete"
   ]
  },
  {
   "cell_type": "code",
   "execution_count": 34,
   "metadata": {},
   "outputs": [],
   "source": [
    "import sqlite3\n",
    "db = sqlite3.connect('test.db')\n",
    "cursor = db.cursor()\n",
    "\n",
    "delete_id = 1\n",
    "cursor.execute('''DELETE FROM books WHERE id = ?''', (delete_id,))\n",
    "\n",
    "db.commit()\n",
    "db.close()"
   ]
  },
  {
   "cell_type": "code",
   "execution_count": null,
   "metadata": {},
   "outputs": [],
   "source": [
    "# sqlite> select * from books;\n",
    "# id          title            author      price       year\n",
    "# ----------  ---------------  ----------  ----------  ----------\n",
    "# 2           Python Advanced  July        150USD      2018\n",
    "# 3           Python Expert    Linda       180USD      2018"
   ]
  }
 ],
 "metadata": {
  "kernelspec": {
   "display_name": "Python 2",
   "language": "python",
   "name": "python2"
  },
  "language_info": {
   "codemirror_mode": {
    "name": "ipython",
    "version": 2
   },
   "file_extension": ".py",
   "mimetype": "text/x-python",
   "name": "python",
   "nbconvert_exporter": "python",
   "pygments_lexer": "ipython2",
   "version": "2.7.15"
  },
  "varInspector": {
   "cols": {
    "lenName": 16,
    "lenType": 16,
    "lenVar": 40
   },
   "kernels_config": {
    "python": {
     "delete_cmd_postfix": "",
     "delete_cmd_prefix": "del ",
     "library": "var_list.py",
     "varRefreshCmd": "print(var_dic_list())"
    },
    "r": {
     "delete_cmd_postfix": ") ",
     "delete_cmd_prefix": "rm(",
     "library": "var_list.r",
     "varRefreshCmd": "cat(var_dic_list()) "
    }
   },
   "types_to_exclude": [
    "module",
    "function",
    "builtin_function_or_method",
    "instance",
    "_Feature"
   ],
   "window_display": false
  }
 },
 "nbformat": 4,
 "nbformat_minor": 2
}

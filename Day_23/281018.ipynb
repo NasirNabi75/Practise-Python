{
 "cells": [
  {
   "cell_type": "markdown",
   "metadata": {
    "toc": true
   },
   "source": [
    "<h1>Table of Contents<span class=\"tocSkip\"></span></h1>\n",
    "<div class=\"toc\"><ul class=\"toc-item\"><li><span><a href=\"#Pandas\" data-toc-modified-id=\"Pandas-1\"><span class=\"toc-item-num\">1&nbsp;&nbsp;</span>Pandas</a></span><ul class=\"toc-item\"><li><span><a href=\"#Series\" data-toc-modified-id=\"Series-1.1\"><span class=\"toc-item-num\">1.1&nbsp;&nbsp;</span>Series</a></span></li><li><span><a href=\"#Dataframe\" data-toc-modified-id=\"Dataframe-1.2\"><span class=\"toc-item-num\">1.2&nbsp;&nbsp;</span>Dataframe</a></span></li><li><span><a href=\"#Sorting\" data-toc-modified-id=\"Sorting-1.3\"><span class=\"toc-item-num\">1.3&nbsp;&nbsp;</span>Sorting</a></span></li></ul></li></ul></div>"
   ]
  },
  {
   "cell_type": "markdown",
   "metadata": {},
   "source": [
    "# Pandas"
   ]
  },
  {
   "cell_type": "markdown",
   "metadata": {},
   "source": [
    "## Series"
   ]
  },
  {
   "cell_type": "code",
   "execution_count": 8,
   "metadata": {},
   "outputs": [
    {
     "name": "stdout",
     "output_type": "stream",
     "text": [
      "a    0.898092\n",
      "b    0.786858\n",
      "c    0.485292\n",
      "d    0.675586\n",
      "e    0.056117\n",
      "dtype: float64\n",
      "Index([u'a', u'b', u'c', u'd', u'e'], dtype='object')\n"
     ]
    }
   ],
   "source": [
    "import pandas as pd\n",
    "import numpy as np\n",
    "\n",
    "s = pd.Series(np.random.rand(5), index=['a', 'b', 'c', 'd', 'e'])\n",
    "print(s)\n",
    "print(s.index)"
   ]
  },
  {
   "cell_type": "code",
   "execution_count": 16,
   "metadata": {},
   "outputs": [
    {
     "name": "stdout",
     "output_type": "stream",
     "text": [
      "0    0.947126\n",
      "1    0.126262\n",
      "2    0.741399\n",
      "3    0.602605\n",
      "4    0.452433\n",
      "dtype: float64\n",
      "RangeIndex(start=0, stop=5, step=1)\n"
     ]
    }
   ],
   "source": [
    "# without passing any index, it will start series at zero\n",
    "s = pd.Series(np.random.rand(5))\n",
    "print(s)\n",
    "print(s.index)"
   ]
  },
  {
   "cell_type": "code",
   "execution_count": 10,
   "metadata": {},
   "outputs": [
    {
     "name": "stdout",
     "output_type": "stream",
     "text": [
      "a    0.0\n",
      "b    1.0\n",
      "c    2.0\n",
      "dtype: float64\n",
      "Index([u'a', u'b', u'c'], dtype='object')\n"
     ]
    }
   ],
   "source": [
    "# Using dictionary to create\n",
    "d = {'a': 0., 'b': 1., 'c': 2.}\n",
    "s = pd.Series(d)\n",
    "print(s)\n",
    "print(s.index)"
   ]
  },
  {
   "cell_type": "code",
   "execution_count": 14,
   "metadata": {},
   "outputs": [
    {
     "name": "stdout",
     "output_type": "stream",
     "text": [
      "b    1.0\n",
      "c    2.0\n",
      "d    NaN\n",
      "a    0.0\n",
      "dtype: float64\n",
      "Index([u'b', u'c', u'd', u'a'], dtype='object')\n"
     ]
    }
   ],
   "source": [
    "s = pd.Series(\n",
    "    d, index=[\n",
    "        'b', 'c', 'd', 'a'\n",
    "    ])  # 'd' is not available as key in dictionary, hence it will give NaN\n",
    "print(s)\n",
    "print(s.index)"
   ]
  },
  {
   "cell_type": "code",
   "execution_count": 15,
   "metadata": {},
   "outputs": [
    {
     "name": "stdout",
     "output_type": "stream",
     "text": [
      "a    5.0\n",
      "b    5.0\n",
      "c    5.0\n",
      "d    5.0\n",
      "e    5.0\n",
      "dtype: float64\n",
      "Index([u'a', u'b', u'c', u'd', u'e'], dtype='object')\n"
     ]
    }
   ],
   "source": [
    "s = pd.Series(5., index=['a', 'b', 'c', 'd', 'e'])\n",
    "print(s)\n",
    "print(s.index)"
   ]
  },
  {
   "cell_type": "code",
   "execution_count": 26,
   "metadata": {},
   "outputs": [
    {
     "name": "stdout",
     "output_type": "stream",
     "text": [
      "0.4266280792883901\n"
     ]
    }
   ],
   "source": [
    "# without passing any index, it will start series at zero\n",
    "s = pd.Series(np.random.rand(5))\n",
    "\n",
    "print(s[0])"
   ]
  },
  {
   "cell_type": "code",
   "execution_count": 24,
   "metadata": {},
   "outputs": [
    {
     "name": "stdout",
     "output_type": "stream",
     "text": [
      "0    0.515496\n",
      "1    0.388000\n",
      "2    0.881845\n",
      "dtype: float64\n"
     ]
    }
   ],
   "source": [
    "print(s[:3])"
   ]
  },
  {
   "cell_type": "code",
   "execution_count": 25,
   "metadata": {},
   "outputs": [
    {
     "name": "stdout",
     "output_type": "stream",
     "text": [
      "('Median=', 0.5154955755163649)\n"
     ]
    }
   ],
   "source": [
    "print(\"Median=\", s.median())"
   ]
  },
  {
   "cell_type": "code",
   "execution_count": 28,
   "metadata": {},
   "outputs": [
    {
     "name": "stdout",
     "output_type": "stream",
     "text": [
      "1    0.966581\n",
      "2    0.947197\n",
      "dtype: float64\n"
     ]
    }
   ],
   "source": [
    "print(s[\n",
    "    s > s.median()])  # printing values which are greater than median of series"
   ]
  },
  {
   "cell_type": "code",
   "execution_count": 29,
   "metadata": {},
   "outputs": [
    {
     "data": {
      "text/plain": [
       "4    0.823495\n",
       "3    0.927112\n",
       "1    0.966581\n",
       "dtype: float64"
      ]
     },
     "execution_count": 29,
     "metadata": {},
     "output_type": "execute_result"
    }
   ],
   "source": [
    "s[[4, 3, 1]]"
   ]
  },
  {
   "cell_type": "code",
   "execution_count": 30,
   "metadata": {},
   "outputs": [
    {
     "data": {
      "text/plain": [
       "0    1.532083\n",
       "1    2.628942\n",
       "2    2.578473\n",
       "3    2.527201\n",
       "4    2.278449\n",
       "dtype: float64"
      ]
     },
     "execution_count": 30,
     "metadata": {},
     "output_type": "execute_result"
    }
   ],
   "source": [
    "np.exp(s)"
   ]
  },
  {
   "cell_type": "code",
   "execution_count": 32,
   "metadata": {},
   "outputs": [
    {
     "name": "stdout",
     "output_type": "stream",
     "text": [
      "a    0.223091\n",
      "b    0.754582\n",
      "c    0.412674\n",
      "d    0.990769\n",
      "e    0.937985\n",
      "dtype: float64\n",
      "a     0.223091\n",
      "b     0.754582\n",
      "c     0.412674\n",
      "d     0.990769\n",
      "e    12.000000\n",
      "dtype: float64\n"
     ]
    }
   ],
   "source": [
    "import pandas as pd\n",
    "import numpy as np\n",
    "\n",
    "s = pd.Series(np.random.rand(5), index=['a', 'b', 'c', 'd', 'e'])\n",
    "print(s)\n",
    "s['e'] = 12\n",
    "print(s)  # check value of e, it should have been replaced by 12"
   ]
  },
  {
   "cell_type": "code",
   "execution_count": 35,
   "metadata": {},
   "outputs": [
    {
     "data": {
      "text/plain": [
       "'somename'"
      ]
     },
     "execution_count": 35,
     "metadata": {},
     "output_type": "execute_result"
    }
   ],
   "source": [
    "s = s.rename(\"somename\")\n",
    "s.name"
   ]
  },
  {
   "cell_type": "markdown",
   "metadata": {},
   "source": [
    "## Dataframe"
   ]
  },
  {
   "cell_type": "code",
   "execution_count": 38,
   "metadata": {},
   "outputs": [
    {
     "name": "stdout",
     "output_type": "stream",
     "text": [
      "   one  two\n",
      "a  1.0  1.0\n",
      "b  2.0  2.0\n",
      "c  3.0  3.0\n",
      "d  NaN  4.0\n"
     ]
    }
   ],
   "source": [
    "# Dictionary Key becomes Column and index becomes rows\n",
    "d = {\n",
    "    'one': pd.Series([1., 2., 3.], index=['a', 'b', 'c']),\n",
    "    'two': pd.Series([1., 2., 3., 4.], index=['a', 'b', 'c', 'd'])\n",
    "}\n",
    "\n",
    "df = pd.DataFrame(d)\n",
    "print(df)"
   ]
  },
  {
   "cell_type": "code",
   "execution_count": 40,
   "metadata": {},
   "outputs": [
    {
     "name": "stdout",
     "output_type": "stream",
     "text": [
      "   one  two\n",
      "d  NaN  4.0\n",
      "b  2.0  2.0\n",
      "a  1.0  1.0\n"
     ]
    }
   ],
   "source": [
    "df = pd.DataFrame(d, index=['d','b','a'])\n",
    "print(df)"
   ]
  },
  {
   "cell_type": "code",
   "execution_count": 41,
   "metadata": {},
   "outputs": [
    {
     "name": "stdout",
     "output_type": "stream",
     "text": [
      "   two three\n",
      "d  4.0   NaN\n",
      "b  2.0   NaN\n",
      "a  1.0   NaN\n"
     ]
    }
   ],
   "source": [
    "# if column does not exist it will return NaN for all column\n",
    "df = pd.DataFrame(d, index=['d','b','a'], columns=['two','three'])\n",
    "print(df)"
   ]
  },
  {
   "cell_type": "code",
   "execution_count": 42,
   "metadata": {},
   "outputs": [
    {
     "name": "stdout",
     "output_type": "stream",
     "text": [
      "Index([u'd', u'b', u'a'], dtype='object')\n",
      "Index([u'two', u'three'], dtype='object')\n"
     ]
    }
   ],
   "source": [
    "print(df.index)\n",
    "print(df.columns)"
   ]
  },
  {
   "cell_type": "code",
   "execution_count": 44,
   "metadata": {},
   "outputs": [
    {
     "name": "stdout",
     "output_type": "stream",
     "text": [
      "   one  two\n",
      "0  1.0  4.0\n",
      "1  2.0  3.0\n",
      "2  3.0  2.0\n",
      "3  4.0  1.0\n",
      "   one  two\n",
      "a  1.0  4.0\n",
      "b  2.0  3.0\n",
      "c  3.0  2.0\n",
      "d  4.0  1.0\n"
     ]
    }
   ],
   "source": [
    "# Column values should be equal in length otherwise it will throw error\n",
    "d={'one':[1.,2.,3.,4.],'two':[4.,3.,2.,1.]}\n",
    "\n",
    "# Without specifying index\n",
    "df = pd.DataFrame(d)\n",
    "print(df)\n",
    "\n",
    "# With index\n",
    "df=pd.DataFrame(d,index=['a','b','c','d'])\n",
    "print(df)"
   ]
  },
  {
   "cell_type": "code",
   "execution_count": 49,
   "metadata": {},
   "outputs": [
    {
     "name": "stdout",
     "output_type": "stream",
     "text": [
      "int32\n",
      "float64\n",
      "|S25\n",
      "   A    B      C\n",
      "0  1  2.0  Hello\n",
      "1  2  3.0  World\n"
     ]
    }
   ],
   "source": [
    "# Diffrent datatypes\n",
    "data = np.zeros((2,), dtype=[('A','i4'),('B','f8'),('C','a10')])\n",
    "\n",
    "print(np.dtype('i4'))\n",
    "print(np.dtype('f8'))\n",
    "print(np.dtype('a25'))\n",
    "\n",
    "data[:] = [(1,2.,'Hello'),(2,3.,\"World\")]\n",
    "df = pd.DataFrame(data)\n",
    "print(df)"
   ]
  },
  {
   "cell_type": "code",
   "execution_count": 51,
   "metadata": {},
   "outputs": [
    {
     "name": "stdout",
     "output_type": "stream",
     "text": [
      "        A    B      C\n",
      "first   1  2.0  Hello\n",
      "second  2  3.0  World\n"
     ]
    }
   ],
   "source": [
    "df = pd.DataFrame(data, index=['first','second'])\n",
    "print(df)"
   ]
  },
  {
   "cell_type": "code",
   "execution_count": 52,
   "metadata": {},
   "outputs": [
    {
     "name": "stdout",
     "output_type": "stream",
     "text": [
      "       C    B  A\n",
      "0  Hello  2.0  1\n",
      "1  World  3.0  2\n"
     ]
    }
   ],
   "source": [
    "df = pd.DataFrame(data, columns=['C','B','A'])\n",
    "print(df)"
   ]
  },
  {
   "cell_type": "markdown",
   "metadata": {},
   "source": [
    "## Sorting"
   ]
  },
  {
   "cell_type": "code",
   "execution_count": 53,
   "metadata": {},
   "outputs": [
    {
     "name": "stdout",
     "output_type": "stream",
     "text": [
      "       col2      col1\n",
      "1  0.392985 -0.308706\n",
      "4  0.725898 -0.317939\n",
      "6  0.730733  1.523929\n",
      "2 -0.135345  0.848744\n",
      "3  1.623589 -0.985524\n",
      "5 -0.883954 -0.347757\n",
      "9 -0.491882  1.237102\n",
      "8  1.179742  0.864913\n",
      "0  0.128038 -0.255600\n",
      "7  1.686043  0.481001\n"
     ]
    }
   ],
   "source": [
    "import pandas as pd\n",
    "import numpy as np\n",
    "unsorted_df = pd.DataFrame(np.random.randn(10,2), index=[1,4,6,2,3,5,9,8,0,7], columns=['col2','col1'])\n",
    "print(unsorted_df)"
   ]
  },
  {
   "cell_type": "code",
   "execution_count": 55,
   "metadata": {},
   "outputs": [
    {
     "name": "stdout",
     "output_type": "stream",
     "text": [
      "       col2      col1\n",
      "0  0.128038 -0.255600\n",
      "1  0.392985 -0.308706\n",
      "2 -0.135345  0.848744\n",
      "3  1.623589 -0.985524\n",
      "4  0.725898 -0.317939\n",
      "5 -0.883954 -0.347757\n",
      "6  0.730733  1.523929\n",
      "7  1.686043  0.481001\n",
      "8  1.179742  0.864913\n",
      "9 -0.491882  1.237102\n"
     ]
    }
   ],
   "source": [
    "sorted_df = unsorted_df.sort_index() # Default ascending on row labels i.e. index\n",
    "print(sorted_df)"
   ]
  },
  {
   "cell_type": "code",
   "execution_count": 56,
   "metadata": {},
   "outputs": [
    {
     "name": "stdout",
     "output_type": "stream",
     "text": [
      "       col1      col2\n",
      "1 -0.308706  0.392985\n",
      "4 -0.317939  0.725898\n",
      "6  1.523929  0.730733\n",
      "2  0.848744 -0.135345\n",
      "3 -0.985524  1.623589\n",
      "5 -0.347757 -0.883954\n",
      "9  1.237102 -0.491882\n",
      "8  0.864913  1.179742\n",
      "0 -0.255600  0.128038\n",
      "7  0.481001  1.686043\n"
     ]
    }
   ],
   "source": [
    "sorted_df = unsorted_df.sort_index(axis=1) # axis wise sorted i.e. columname wise\n",
    "print(sorted_df)"
   ]
  },
  {
   "cell_type": "code",
   "execution_count": 58,
   "metadata": {},
   "outputs": [
    {
     "name": "stdout",
     "output_type": "stream",
     "text": [
      "       col2      col1\n",
      "9 -0.491882  1.237102\n",
      "8  1.179742  0.864913\n",
      "7  1.686043  0.481001\n",
      "6  0.730733  1.523929\n",
      "5 -0.883954 -0.347757\n",
      "4  0.725898 -0.317939\n",
      "3  1.623589 -0.985524\n",
      "2 -0.135345  0.848744\n",
      "1  0.392985 -0.308706\n",
      "0  0.128038 -0.255600\n"
     ]
    }
   ],
   "source": [
    "sorted_df = unsorted_df.sort_index(ascending=False) # in descending order of index\n",
    "print(sorted_df)"
   ]
  },
  {
   "cell_type": "code",
   "execution_count": 62,
   "metadata": {},
   "outputs": [
    {
     "name": "stdout",
     "output_type": "stream",
     "text": [
      "       col2      col1\n",
      "3  1.623589 -0.985524\n",
      "5 -0.883954 -0.347757\n",
      "4  0.725898 -0.317939\n",
      "1  0.392985 -0.308706\n",
      "0  0.128038 -0.255600\n",
      "7  1.686043  0.481001\n",
      "2 -0.135345  0.848744\n",
      "8  1.179742  0.864913\n",
      "9 -0.491882  1.237102\n",
      "6  0.730733  1.523929\n"
     ]
    }
   ],
   "source": [
    "# sorting by col1 and if any values are same at col1 secondary preference will be given to col2\n",
    "sorted_df = unsorted_df.sort_values(by=['col1','col2'])\n",
    "print(sorted_df)"
   ]
  },
  {
   "cell_type": "code",
   "execution_count": 64,
   "metadata": {},
   "outputs": [
    {
     "data": {
      "text/plain": [
       "<matplotlib.axes._subplots.AxesSubplot at 0xa06e9e8>"
      ]
     },
     "execution_count": 64,
     "metadata": {},
     "output_type": "execute_result"
    },
    {
     "data": {
      "image/png": "[encoded data removed]",
      "text/plain": [
       "<Figure size 432x288 with 1 Axes>"
      ]
     },
     "metadata": {
      "needs_background": "light"
     },
     "output_type": "display_data"
    }
   ],
   "source": [
    "import pandas as pd\n",
    "import numpy as np\n",
    "\n",
    "d = {'one': np.random.rand(10), 'two': np.random.rand(10)}\n",
    "\n",
    "df = pd.DataFrame(d)\n",
    "%matplotlib inline\n",
    "df.plot(style=['o', 'rx'])"
   ]
  }
 ],
 "metadata": {
  "kernelspec": {
   "display_name": "Python 2",
   "language": "python",
   "name": "python2"
  },
  "language_info": {
   "codemirror_mode": {
    "name": "ipython",
    "version": 2
   },
   "file_extension": ".py",
   "mimetype": "text/x-python",
   "name": "python",
   "nbconvert_exporter": "python",
   "pygments_lexer": "ipython2",
   "version": "2.7.15"
  },
  "toc": {
   "base_numbering": 1,
   "nav_menu": {},
   "number_sections": true,
   "sideBar": true,
   "skip_h1_title": false,
   "title_cell": "Table of Contents",
   "title_sidebar": "Contents",
   "toc_cell": true,
   "toc_position": {},
   "toc_section_display": true,
   "toc_window_display": false
  },
  "varInspector": {
   "cols": {
    "lenName": 16,
    "lenType": 16,
    "lenVar": 40
   },
   "kernels_config": {
    "python": {
     "delete_cmd_postfix": "",
     "delete_cmd_prefix": "del ",
     "library": "var_list.py",
     "varRefreshCmd": "print(var_dic_list())"
    },
    "r": {
     "delete_cmd_postfix": ") ",
     "delete_cmd_prefix": "rm(",
     "library": "var_list.r",
     "varRefreshCmd": "cat(var_dic_list()) "
    }
   },
   "types_to_exclude": [
    "module",
    "function",
    "builtin_function_or_method",
    "instance",
    "_Feature"
   ],
   "window_display": false
  }
 },
 "nbformat": 4,
 "nbformat_minor": 2
}

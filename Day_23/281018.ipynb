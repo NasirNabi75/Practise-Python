{
 "cells": [
  {
   "cell_type": "markdown",
   "metadata": {
    "toc": true
   },
   "source": [
    "<h1>Table of Contents<span class=\"tocSkip\"></span></h1>\n",
    "<div class=\"toc\"><ul class=\"toc-item\"><li><span><a href=\"#Pandas\" data-toc-modified-id=\"Pandas-1\"><span class=\"toc-item-num\">1&nbsp;&nbsp;</span>Pandas</a></span><ul class=\"toc-item\"><li><span><a href=\"#Series\" data-toc-modified-id=\"Series-1.1\"><span class=\"toc-item-num\">1.1&nbsp;&nbsp;</span>Series</a></span></li><li><span><a href=\"#Dataframe\" data-toc-modified-id=\"Dataframe-1.2\"><span class=\"toc-item-num\">1.2&nbsp;&nbsp;</span>Dataframe</a></span></li><li><span><a href=\"#Sorting\" data-toc-modified-id=\"Sorting-1.3\"><span class=\"toc-item-num\">1.3&nbsp;&nbsp;</span>Sorting</a></span></li></ul></li></ul></div>"
   ]
  },
  {
   "cell_type": "markdown",
   "metadata": {},
   "source": [
    "# Pandas"
   ]
  },
  {
   "cell_type": "markdown",
   "metadata": {},
   "source": [
    "## Series"
   ]
  },
  {
   "cell_type": "code",
   "execution_count": 1,
   "metadata": {},
   "outputs": [
    {
     "name": "stdout",
     "output_type": "stream",
     "text": [
      "a    0.888723\n",
      "b    0.123257\n",
      "c    0.227679\n",
      "d    0.803214\n",
      "e    0.594275\n",
      "dtype: float64\n",
      "Index([u'a', u'b', u'c', u'd', u'e'], dtype='object')\n"
     ]
    }
   ],
   "source": [
    "import pandas as pd\n",
    "import numpy as np\n",
    "\n",
    "s = pd.Series(np.random.rand(5), index=['a', 'b', 'c', 'd', 'e'])\n",
    "print(s)\n",
    "print(s.index)"
   ]
  },
  {
   "cell_type": "code",
   "execution_count": 2,
   "metadata": {},
   "outputs": [
    {
     "name": "stdout",
     "output_type": "stream",
     "text": [
      "0    0.280388\n",
      "1    0.721220\n",
      "2    0.414474\n",
      "3    0.746427\n",
      "4    0.352178\n",
      "dtype: float64\n",
      "RangeIndex(start=0, stop=5, step=1)\n"
     ]
    }
   ],
   "source": [
    "# without passing any index, it will start series at zero\n",
    "s = pd.Series(np.random.rand(5))\n",
    "print(s)\n",
    "print(s.index)"
   ]
  },
  {
   "cell_type": "code",
   "execution_count": 3,
   "metadata": {},
   "outputs": [
    {
     "name": "stdout",
     "output_type": "stream",
     "text": [
      "a    0.0\n",
      "b    1.0\n",
      "c    2.0\n",
      "dtype: float64\n",
      "Index([u'a', u'b', u'c'], dtype='object')\n"
     ]
    }
   ],
   "source": [
    "# Using dictionary to create\n",
    "d = {'a': 0., 'b': 1., 'c': 2.}\n",
    "s = pd.Series(d)\n",
    "print(s)\n",
    "print(s.index)"
   ]
  },
  {
   "cell_type": "code",
   "execution_count": 4,
   "metadata": {},
   "outputs": [
    {
     "name": "stdout",
     "output_type": "stream",
     "text": [
      "b    1.0\n",
      "c    2.0\n",
      "d    NaN\n",
      "a    0.0\n",
      "dtype: float64\n",
      "Index([u'b', u'c', u'd', u'a'], dtype='object')\n"
     ]
    }
   ],
   "source": [
    "s = pd.Series(\n",
    "    d, index=[\n",
    "        'b', 'c', 'd', 'a'\n",
    "    ])  # 'd' is not available as key in dictionary, hence it will give NaN\n",
    "print(s)\n",
    "print(s.index)"
   ]
  },
  {
   "cell_type": "code",
   "execution_count": 5,
   "metadata": {},
   "outputs": [
    {
     "name": "stdout",
     "output_type": "stream",
     "text": [
      "a    5.0\n",
      "b    5.0\n",
      "c    5.0\n",
      "d    5.0\n",
      "e    5.0\n",
      "dtype: float64\n",
      "Index([u'a', u'b', u'c', u'd', u'e'], dtype='object')\n"
     ]
    }
   ],
   "source": [
    "s = pd.Series(5., index=['a', 'b', 'c', 'd', 'e'])\n",
    "print(s)\n",
    "print(s.index)"
   ]
  },
  {
   "cell_type": "code",
   "execution_count": 6,
   "metadata": {},
   "outputs": [
    {
     "name": "stdout",
     "output_type": "stream",
     "text": [
      "0    0.779513\n",
      "1    0.542535\n",
      "2    0.900577\n",
      "3    0.086257\n",
      "4    0.657399\n",
      "dtype: float64\n",
      "0.7795134293022433\n"
     ]
    }
   ],
   "source": [
    "# without passing any index, it will start series at zero\n",
    "s = pd.Series(np.random.rand(5))\n",
    "print(s)\n",
    "print(s[0])"
   ]
  },
  {
   "cell_type": "code",
   "execution_count": 7,
   "metadata": {},
   "outputs": [
    {
     "name": "stdout",
     "output_type": "stream",
     "text": [
      "0    0.779513\n",
      "1    0.542535\n",
      "2    0.900577\n",
      "dtype: float64\n"
     ]
    }
   ],
   "source": [
    "print(s[:3])"
   ]
  },
  {
   "cell_type": "code",
   "execution_count": 8,
   "metadata": {},
   "outputs": [
    {
     "name": "stdout",
     "output_type": "stream",
     "text": [
      "('Median=', 0.6573991287583475)\n"
     ]
    }
   ],
   "source": [
    "print(\"Median=\", s.median())"
   ]
  },
  {
   "cell_type": "code",
   "execution_count": 9,
   "metadata": {},
   "outputs": [
    {
     "name": "stdout",
     "output_type": "stream",
     "text": [
      "0    0.779513\n",
      "2    0.900577\n",
      "dtype: float64\n"
     ]
    }
   ],
   "source": [
    "print(s[\n",
    "    s > s.median()])  # printing values which are greater than median of series"
   ]
  },
  {
   "cell_type": "code",
   "execution_count": 10,
   "metadata": {},
   "outputs": [
    {
     "data": {
      "text/plain": [
       "4    0.657399\n",
       "3    0.086257\n",
       "1    0.542535\n",
       "dtype: float64"
      ]
     },
     "execution_count": 10,
     "metadata": {},
     "output_type": "execute_result"
    }
   ],
   "source": [
    "s[[4, 3, 1]]"
   ]
  },
  {
   "cell_type": "code",
   "execution_count": 11,
   "metadata": {},
   "outputs": [
    {
     "data": {
      "text/plain": [
       "0    2.180411\n",
       "1    1.720363\n",
       "2    2.461022\n",
       "3    1.090087\n",
       "4    1.929767\n",
       "dtype: float64"
      ]
     },
     "execution_count": 11,
     "metadata": {},
     "output_type": "execute_result"
    }
   ],
   "source": [
    "np.exp(s)"
   ]
  },
  {
   "cell_type": "code",
   "execution_count": 12,
   "metadata": {},
   "outputs": [
    {
     "name": "stdout",
     "output_type": "stream",
     "text": [
      "a    0.080051\n",
      "b    0.603833\n",
      "c    0.300177\n",
      "d    0.193077\n",
      "e    0.283923\n",
      "dtype: float64\n",
      "a     0.080051\n",
      "b     0.603833\n",
      "c     0.300177\n",
      "d     0.193077\n",
      "e    12.000000\n",
      "dtype: float64\n"
     ]
    }
   ],
   "source": [
    "import pandas as pd\n",
    "import numpy as np\n",
    "\n",
    "s = pd.Series(np.random.rand(5), index=['a', 'b', 'c', 'd', 'e'])\n",
    "print(s)\n",
    "s['e'] = 12\n",
    "print(s)  # check value of e, it should have been replaced by 12"
   ]
  },
  {
   "cell_type": "code",
   "execution_count": 13,
   "metadata": {},
   "outputs": [
    {
     "data": {
      "text/plain": [
       "'somename'"
      ]
     },
     "execution_count": 13,
     "metadata": {},
     "output_type": "execute_result"
    }
   ],
   "source": [
    "s = s.rename(\"somename\")\n",
    "s.name"
   ]
  },
  {
   "cell_type": "markdown",
   "metadata": {},
   "source": [
    "## Dataframe"
   ]
  },
  {
   "cell_type": "code",
   "execution_count": 14,
   "metadata": {},
   "outputs": [
    {
     "name": "stdout",
     "output_type": "stream",
     "text": [
      "   one  two\n",
      "a  1.0  1.0\n",
      "b  2.0  2.0\n",
      "c  3.0  3.0\n",
      "d  NaN  4.0\n"
     ]
    }
   ],
   "source": [
    "# Dictionary Key becomes Column and index becomes rows\n",
    "d = {\n",
    "    'one': pd.Series([1., 2., 3.], index=['a', 'b', 'c']),\n",
    "    'two': pd.Series([1., 2., 3., 4.], index=['a', 'b', 'c', 'd'])\n",
    "}\n",
    "\n",
    "df = pd.DataFrame(d)\n",
    "print(df)"
   ]
  },
  {
   "cell_type": "code",
   "execution_count": 15,
   "metadata": {},
   "outputs": [
    {
     "name": "stdout",
     "output_type": "stream",
     "text": [
      "   one  two\n",
      "d  NaN  4.0\n",
      "b  2.0  2.0\n",
      "a  1.0  1.0\n"
     ]
    }
   ],
   "source": [
    "df = pd.DataFrame(d, index=['d','b','a'])\n",
    "print(df)"
   ]
  },
  {
   "cell_type": "code",
   "execution_count": 16,
   "metadata": {},
   "outputs": [
    {
     "name": "stdout",
     "output_type": "stream",
     "text": [
      "   two three\n",
      "d  4.0   NaN\n",
      "b  2.0   NaN\n",
      "a  1.0   NaN\n"
     ]
    }
   ],
   "source": [
    "# if column does not exist it will return NaN for all column\n",
    "df = pd.DataFrame(d, index=['d','b','a'], columns=['two','three'])\n",
    "print(df)"
   ]
  },
  {
   "cell_type": "code",
   "execution_count": 17,
   "metadata": {},
   "outputs": [
    {
     "name": "stdout",
     "output_type": "stream",
     "text": [
      "Index([u'd', u'b', u'a'], dtype='object')\n",
      "Index([u'two', u'three'], dtype='object')\n"
     ]
    }
   ],
   "source": [
    "print(df.index)\n",
    "print(df.columns)"
   ]
  },
  {
   "cell_type": "code",
   "execution_count": 18,
   "metadata": {},
   "outputs": [
    {
     "name": "stdout",
     "output_type": "stream",
     "text": [
      "   one  two\n",
      "0  1.0  4.0\n",
      "1  2.0  3.0\n",
      "2  3.0  2.0\n",
      "3  4.0  1.0\n",
      "   one  two\n",
      "a  1.0  4.0\n",
      "b  2.0  3.0\n",
      "c  3.0  2.0\n",
      "d  4.0  1.0\n"
     ]
    }
   ],
   "source": [
    "# Column values should be equal in length otherwise it will throw error\n",
    "d={'one':[1.,2.,3.,4.],'two':[4.,3.,2.,1.]}\n",
    "\n",
    "# Without specifying index\n",
    "df = pd.DataFrame(d)\n",
    "print(df)\n",
    "\n",
    "# With index\n",
    "df=pd.DataFrame(d,index=['a','b','c','d'])\n",
    "print(df)"
   ]
  },
  {
   "cell_type": "code",
   "execution_count": 19,
   "metadata": {},
   "outputs": [
    {
     "name": "stdout",
     "output_type": "stream",
     "text": [
      "int32\n",
      "float64\n",
      "|S25\n",
      "   A    B      C\n",
      "0  1  2.0  Hello\n",
      "1  2  3.0  World\n"
     ]
    }
   ],
   "source": [
    "# Diffrent datatypes\n",
    "data = np.zeros((2,), dtype=[('A','i4'),('B','f8'),('C','a10')])\n",
    "\n",
    "print(np.dtype('i4'))\n",
    "print(np.dtype('f8'))\n",
    "print(np.dtype('a25'))\n",
    "\n",
    "data[:] = [(1,2.,'Hello'),(2,3.,\"World\")]\n",
    "df = pd.DataFrame(data)\n",
    "print(df)"
   ]
  },
  {
   "cell_type": "code",
   "execution_count": 20,
   "metadata": {},
   "outputs": [
    {
     "name": "stdout",
     "output_type": "stream",
     "text": [
      "        A    B      C\n",
      "first   1  2.0  Hello\n",
      "second  2  3.0  World\n"
     ]
    }
   ],
   "source": [
    "df = pd.DataFrame(data, index=['first','second'])\n",
    "print(df)"
   ]
  },
  {
   "cell_type": "code",
   "execution_count": 21,
   "metadata": {},
   "outputs": [
    {
     "name": "stdout",
     "output_type": "stream",
     "text": [
      "       C    B  A\n",
      "0  Hello  2.0  1\n",
      "1  World  3.0  2\n"
     ]
    }
   ],
   "source": [
    "df = pd.DataFrame(data, columns=['C','B','A'])\n",
    "print(df)"
   ]
  },
  {
   "cell_type": "markdown",
   "metadata": {},
   "source": [
    "## Sorting"
   ]
  },
  {
   "cell_type": "code",
   "execution_count": 22,
   "metadata": {},
   "outputs": [
    {
     "name": "stdout",
     "output_type": "stream",
     "text": [
      "       col2      col1\n",
      "1  0.464552 -0.352129\n",
      "4  1.228040  1.078722\n",
      "6  1.488664 -0.515471\n",
      "2 -0.378717 -0.528974\n",
      "3 -1.167650  2.439173\n",
      "5  0.741497 -1.594510\n",
      "9  1.213545 -0.240344\n",
      "8 -1.637905 -0.793561\n",
      "0  0.492025  1.131519\n",
      "7  1.192558 -1.593298\n"
     ]
    }
   ],
   "source": [
    "import pandas as pd\n",
    "import numpy as np\n",
    "unsorted_df = pd.DataFrame(np.random.randn(10,2), index=[1,4,6,2,3,5,9,8,0,7], columns=['col2','col1'])\n",
    "print(unsorted_df)"
   ]
  },
  {
   "cell_type": "code",
   "execution_count": 23,
   "metadata": {},
   "outputs": [
    {
     "name": "stdout",
     "output_type": "stream",
     "text": [
      "       col2      col1\n",
      "0  0.492025  1.131519\n",
      "1  0.464552 -0.352129\n",
      "2 -0.378717 -0.528974\n",
      "3 -1.167650  2.439173\n",
      "4  1.228040  1.078722\n",
      "5  0.741497 -1.594510\n",
      "6  1.488664 -0.515471\n",
      "7  1.192558 -1.593298\n",
      "8 -1.637905 -0.793561\n",
      "9  1.213545 -0.240344\n"
     ]
    }
   ],
   "source": [
    "sorted_df = unsorted_df.sort_index() # Default ascending on row labels i.e. index\n",
    "print(sorted_df)"
   ]
  },
  {
   "cell_type": "code",
   "execution_count": 24,
   "metadata": {},
   "outputs": [
    {
     "name": "stdout",
     "output_type": "stream",
     "text": [
      "       col1      col2\n",
      "1 -0.352129  0.464552\n",
      "4  1.078722  1.228040\n",
      "6 -0.515471  1.488664\n",
      "2 -0.528974 -0.378717\n",
      "3  2.439173 -1.167650\n",
      "5 -1.594510  0.741497\n",
      "9 -0.240344  1.213545\n",
      "8 -0.793561 -1.637905\n",
      "0  1.131519  0.492025\n",
      "7 -1.593298  1.192558\n"
     ]
    }
   ],
   "source": [
    "sorted_df = unsorted_df.sort_index(axis=1) # axis wise sorted i.e. columname wise\n",
    "print(sorted_df)"
   ]
  },
  {
   "cell_type": "code",
   "execution_count": 25,
   "metadata": {},
   "outputs": [
    {
     "name": "stdout",
     "output_type": "stream",
     "text": [
      "       col2      col1\n",
      "9  1.213545 -0.240344\n",
      "8 -1.637905 -0.793561\n",
      "7  1.192558 -1.593298\n",
      "6  1.488664 -0.515471\n",
      "5  0.741497 -1.594510\n",
      "4  1.228040  1.078722\n",
      "3 -1.167650  2.439173\n",
      "2 -0.378717 -0.528974\n",
      "1  0.464552 -0.352129\n",
      "0  0.492025  1.131519\n"
     ]
    }
   ],
   "source": [
    "sorted_df = unsorted_df.sort_index(ascending=False) # in descending order of index\n",
    "print(sorted_df)"
   ]
  },
  {
   "cell_type": "code",
   "execution_count": 26,
   "metadata": {},
   "outputs": [
    {
     "name": "stdout",
     "output_type": "stream",
     "text": [
      "       col2      col1\n",
      "5  0.741497 -1.594510\n",
      "7  1.192558 -1.593298\n",
      "8 -1.637905 -0.793561\n",
      "2 -0.378717 -0.528974\n",
      "6  1.488664 -0.515471\n",
      "1  0.464552 -0.352129\n",
      "9  1.213545 -0.240344\n",
      "4  1.228040  1.078722\n",
      "0  0.492025  1.131519\n",
      "3 -1.167650  2.439173\n"
     ]
    }
   ],
   "source": [
    "# sorting by col1 and if any values are same at col1 secondary preference will be given to col2\n",
    "sorted_df = unsorted_df.sort_values(by=['col1','col2'])\n",
    "print(sorted_df)"
   ]
  },
  {
   "cell_type": "code",
   "execution_count": 27,
   "metadata": {},
   "outputs": [
    {
     "data": {
      "text/plain": [
       "<matplotlib.axes._subplots.AxesSubplot at 0xa2c4cc0>"
      ]
     },
     "execution_count": 27,
     "metadata": {},
     "output_type": "execute_result"
    },
    {
     "data": {
      "image/png": "[encoded data removed]",
      "text/plain": [
       "<Figure size 432x288 with 1 Axes>"
      ]
     },
     "metadata": {
      "needs_background": "light"
     },
     "output_type": "display_data"
    }
   ],
   "source": [
    "import pandas as pd\n",
    "import numpy as np\n",
    "\n",
    "d = {'one': np.random.rand(10), 'two': np.random.rand(10)}\n",
    "\n",
    "df = pd.DataFrame(d)\n",
    "%matplotlib inline\n",
    "df.plot(style=['o', 'rx'])"
   ]
  }
 ],
 "metadata": {
  "kernelspec": {
   "display_name": "Python 2",
   "language": "python",
   "name": "python2"
  },
  "language_info": {
   "codemirror_mode": {
    "name": "ipython",
    "version": 2
   },
   "file_extension": ".py",
   "mimetype": "text/x-python",
   "name": "python",
   "nbconvert_exporter": "python",
   "pygments_lexer": "ipython2",
   "version": "2.7.15"
  },
  "toc": {
   "base_numbering": 1,
   "nav_menu": {},
   "number_sections": true,
   "sideBar": true,
   "skip_h1_title": false,
   "title_cell": "Table of Contents",
   "title_sidebar": "Contents",
   "toc_cell": true,
   "toc_position": {},
   "toc_section_display": true,
   "toc_window_display": false
  },
  "varInspector": {
   "cols": {
    "lenName": 16,
    "lenType": 16,
    "lenVar": 40
   },
   "kernels_config": {
    "python": {
     "delete_cmd_postfix": "",
     "delete_cmd_prefix": "del ",
     "library": "var_list.py",
     "varRefreshCmd": "print(var_dic_list())"
    },
    "r": {
     "delete_cmd_postfix": ") ",
     "delete_cmd_prefix": "rm(",
     "library": "var_list.r",
     "varRefreshCmd": "cat(var_dic_list()) "
    }
   },
   "types_to_exclude": [
    "module",
    "function",
    "builtin_function_or_method",
    "instance",
    "_Feature"
   ],
   "window_display": false
  }
 },
 "nbformat": 4,
 "nbformat_minor": 2
}

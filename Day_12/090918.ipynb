{
 "cells": [
  {
   "cell_type": "markdown",
   "metadata": {},
   "source": [
    "# Debugging and Testing\n",
    "- Unit Testing"
   ]
  },
  {
   "cell_type": "markdown",
   "metadata": {},
   "source": [
    "## Python Debugger (PDB)"
   ]
  },
  {
   "cell_type": "code",
   "execution_count": 1,
   "metadata": {},
   "outputs": [
    {
     "name": "stdout",
     "output_type": "stream",
     "text": [
      "0\n",
      "1\n",
      "2\n",
      "3\n",
      "4\n"
     ]
    }
   ],
   "source": [
    "class MyObj(object):\n",
    "    def __init__(self, num_loops):\n",
    "        self.count = num_loops\n",
    "        \n",
    "    def go(self):\n",
    "        for i in range(self.count):\n",
    "            print i\n",
    "        return\n",
    "\n",
    "if __name__ == '__main__':\n",
    "    obj = MyObj(5)\n",
    "    obj.go()"
   ]
  },
  {
   "cell_type": "code",
   "execution_count": 3,
   "metadata": {},
   "outputs": [
    {
     "name": "stdout",
     "output_type": "stream",
     "text": [
      "> <ipython-input-3-3439e8495e16>(12)go()\n",
      "-> val = self.call_me()\n",
      "(Pdb) s\n",
      "--Call--\n",
      "> <ipython-input-3-3439e8495e16>(7)call_me()\n",
      "-> def call_me(self):\n",
      "(Pdb) s\n",
      "> <ipython-input-3-3439e8495e16>(8)call_me()\n",
      "-> return \"hello\"\n",
      "(Pdb) s\n",
      "--Return--\n",
      "> <ipython-input-3-3439e8495e16>(8)call_me()->'hello'\n",
      "-> return \"hello\"\n",
      "(Pdb) c\n",
      "hello\n",
      "> <ipython-input-3-3439e8495e16>(16)go()\n",
      "-> print i\n",
      "(Pdb) c\n",
      "0\n",
      "> <ipython-input-3-3439e8495e16>(15)go()\n",
      "-> pdb.set_trace()\n",
      "(Pdb) c\n",
      "1\n",
      "> <ipython-input-3-3439e8495e16>(16)go()\n",
      "-> print i\n",
      "(Pdb) c\n",
      "2\n",
      "> <ipython-input-3-3439e8495e16>(15)go()\n",
      "-> pdb.set_trace()\n",
      "(Pdb) c\n",
      "3\n",
      "> <ipython-input-3-3439e8495e16>(16)go()\n",
      "-> print i\n",
      "(Pdb) c\n",
      "4\n"
     ]
    }
   ],
   "source": [
    "import pdb\n",
    "\n",
    "class MyObj(object):\n",
    "    def __init__(self, num_loops):\n",
    "        self.count = num_loops\n",
    "        \n",
    "    def call_me(self):\n",
    "        return \"hello\"\n",
    "    \n",
    "    def go(self):\n",
    "        pdb.set_trace()\n",
    "        val = self.call_me()\n",
    "        print(val)\n",
    "        for i in range(self.count):\n",
    "            pdb.set_trace()\n",
    "            print i\n",
    "        return\n",
    "\n",
    "if __name__ == '__main__':\n",
    "    obj = MyObj(5)\n",
    "    obj.go()"
   ]
  },
  {
   "cell_type": "markdown",
   "metadata": {},
   "source": [
    "## Arguments of PDB\n",
    "- n : next\n",
    "- p : print\n",
    "- q : quite PDB\n",
    "- s : Seteps\n",
    "- a : to find arguments of current method\n",
    "- c : cotinue execution till next set_trace\n",
    "- j : jump to line numer, jump should be out of the any conditional statements"
   ]
  },
  {
   "cell_type": "markdown",
   "metadata": {},
   "source": [
    "## Assert statements"
   ]
  },
  {
   "cell_type": "code",
   "execution_count": 7,
   "metadata": {},
   "outputs": [
    {
     "name": "stdout",
     "output_type": "stream",
     "text": [
      "32.0\n",
      "451\n"
     ]
    },
    {
     "ename": "AssertionError",
     "evalue": "Colder than absolute zero.",
     "output_type": "error",
     "traceback": [
      "\u001b[1;31m\u001b[0m",
      "\u001b[1;31mAssertionError\u001b[0mTraceback (most recent call last)",
      "\u001b[1;32m<ipython-input-7-4240c9044409>\u001b[0m in \u001b[0;36m<module>\u001b[1;34m()\u001b[0m\n\u001b[0;32m      6\u001b[0m     \u001b[1;32mprint\u001b[0m \u001b[0mKelvinToFaranheit\u001b[0m\u001b[1;33m(\u001b[0m\u001b[1;36m273\u001b[0m\u001b[1;33m)\u001b[0m\u001b[1;33m\u001b[0m\u001b[0m\n\u001b[0;32m      7\u001b[0m     \u001b[1;32mprint\u001b[0m \u001b[0mint\u001b[0m\u001b[1;33m(\u001b[0m\u001b[0mKelvinToFaranheit\u001b[0m\u001b[1;33m(\u001b[0m\u001b[1;36m505.78\u001b[0m\u001b[1;33m)\u001b[0m\u001b[1;33m)\u001b[0m\u001b[1;33m\u001b[0m\u001b[0m\n\u001b[1;32m----> 8\u001b[1;33m     \u001b[1;32mprint\u001b[0m \u001b[0mKelvinToFaranheit\u001b[0m\u001b[1;33m(\u001b[0m\u001b[1;33m-\u001b[0m\u001b[1;36m5\u001b[0m\u001b[1;33m)\u001b[0m \u001b[1;31m# will produce AssertionErrorTraceback\u001b[0m\u001b[1;33m\u001b[0m\u001b[0m\n\u001b[0m",
      "\u001b[1;32m<ipython-input-7-4240c9044409>\u001b[0m in \u001b[0;36mKelvinToFaranheit\u001b[1;34m(Temprature)\u001b[0m\n\u001b[0;32m      1\u001b[0m \u001b[1;32mdef\u001b[0m \u001b[0mKelvinToFaranheit\u001b[0m\u001b[1;33m(\u001b[0m\u001b[0mTemprature\u001b[0m\u001b[1;33m)\u001b[0m\u001b[1;33m:\u001b[0m\u001b[1;33m\u001b[0m\u001b[0m\n\u001b[1;32m----> 2\u001b[1;33m     \u001b[1;32massert\u001b[0m\u001b[1;33m(\u001b[0m\u001b[0mTemprature\u001b[0m \u001b[1;33m>=\u001b[0m \u001b[1;36m0\u001b[0m\u001b[1;33m)\u001b[0m\u001b[1;33m,\u001b[0m \u001b[1;34m\"Colder than absolute zero.\"\u001b[0m\u001b[1;33m\u001b[0m\u001b[0m\n\u001b[0m\u001b[0;32m      3\u001b[0m     \u001b[1;32mreturn\u001b[0m \u001b[1;33m(\u001b[0m\u001b[1;33m(\u001b[0m\u001b[0mTemprature\u001b[0m \u001b[1;33m-\u001b[0m \u001b[1;36m273\u001b[0m\u001b[1;33m)\u001b[0m\u001b[1;33m*\u001b[0m\u001b[1;36m1.8\u001b[0m\u001b[1;33m)\u001b[0m\u001b[1;33m+\u001b[0m\u001b[1;36m32\u001b[0m\u001b[1;33m\u001b[0m\u001b[0m\n\u001b[0;32m      4\u001b[0m \u001b[1;33m\u001b[0m\u001b[0m\n\u001b[0;32m      5\u001b[0m \u001b[1;32mif\u001b[0m \u001b[0m__name__\u001b[0m \u001b[1;33m==\u001b[0m \u001b[1;34m'__main__'\u001b[0m\u001b[1;33m:\u001b[0m\u001b[1;33m\u001b[0m\u001b[0m\n",
      "\u001b[1;31mAssertionError\u001b[0m: Colder than absolute zero."
     ]
    }
   ],
   "source": [
    "def KelvinToFaranheit(Temprature):\n",
    "    assert(Temprature >= 0), \"Colder than absolute zero.\"\n",
    "    return ((Temprature - 273)*1.8)+32\n",
    "\n",
    "if __name__ == '__main__':\n",
    "    print KelvinToFaranheit(273)\n",
    "    print int(KelvinToFaranheit(505.78))\n",
    "    print KelvinToFaranheit(-5) # will produce AssertionErrorTraceback "
   ]
  },
  {
   "cell_type": "code",
   "execution_count": 8,
   "metadata": {},
   "outputs": [
    {
     "data": {
      "text/plain": [
       "['1', '2', '3', '4', '5']"
      ]
     },
     "execution_count": 8,
     "metadata": {},
     "output_type": "execute_result"
    }
   ],
   "source": [
    "a=\"1,2,3,4,5\"\n",
    "a.split(\",\")"
   ]
  },
  {
   "cell_type": "code",
   "execution_count": 10,
   "metadata": {},
   "outputs": [
    {
     "ename": "TypeError",
     "evalue": "expected a string or other character buffer object",
     "output_type": "error",
     "traceback": [
      "\u001b[1;31m\u001b[0m",
      "\u001b[1;31mTypeError\u001b[0mTraceback (most recent call last)",
      "\u001b[1;32m<ipython-input-10-5d6280c7c7c4>\u001b[0m in \u001b[0;36m<module>\u001b[1;34m()\u001b[0m\n\u001b[1;32m----> 1\u001b[1;33m \u001b[0ma\u001b[0m\u001b[1;33m.\u001b[0m\u001b[0msplit\u001b[0m\u001b[1;33m(\u001b[0m\u001b[1;36m1\u001b[0m\u001b[1;33m)\u001b[0m \u001b[1;31m# will give error as split cannot take argument as integer\u001b[0m\u001b[1;33m\u001b[0m\u001b[0m\n\u001b[0m",
      "\u001b[1;31mTypeError\u001b[0m: expected a string or other character buffer object"
     ]
    }
   ],
   "source": [
    "a.split(1) # will give error as split cannot take argument as integer"
   ]
  },
  {
   "cell_type": "code",
   "execution_count": 11,
   "metadata": {},
   "outputs": [
    {
     "name": "stdout",
     "output_type": "stream",
     "text": [
      "Out of file\n"
     ]
    }
   ],
   "source": [
    "file_obj = open(\"abc.txt\", \"w\")\n",
    "with open(\"abc.txt\", \"w\") as file_obj: # with creates a context for object. once scope is finished for with object will be deleted\n",
    "    file_obj.write(\"Asdfg\")\n",
    "    #file_obj.close() # File object will have only scope till with block, hence not required to close\n",
    "print(\"Out of file\")"
   ]
  },
  {
   "cell_type": "code",
   "execution_count": null,
   "metadata": {},
   "outputs": [],
   "source": [
    "import unittest\n",
    "\n",
    "class TestStringMethods(unittest.TestCase):\n",
    "    \n",
    "    def test_upper(self):\n",
    "        self.assertEqual('foo'.upper(), 'FOO')\n",
    "    def test_isupper(self):\n",
    "        self.assertTrue('FOO'.isupper())\n",
    "        self.assertFalse('Foo'.isupper())\n",
    "    def test_split(self):\n",
    "        s = 'hello word'\n",
    "        self.assertEqual(s.split(), ['hello', 'world'])\n",
    "        # check that s.split fails when the separator is not a string\n",
    "        with self.assertRaises(TypeError):\n",
    "            s.split(2)\n",
    "            \n",
    "if __name__ == '__main__':\n",
    "    unittest.main()"
   ]
  },
  {
   "cell_type": "code",
   "execution_count": 14,
   "metadata": {},
   "outputs": [],
   "source": [
    "# Create methods for addition substarction multiplication division in a module\n",
    "# call these methods in other module and creae test cases boolean methods like isnumberpositive() which wll return TRUE or FALSE\n",
    "# startswith() is a string method returns T/F"
   ]
  },
  {
   "cell_type": "code",
   "execution_count": 13,
   "metadata": {},
   "outputs": [
    {
     "name": "stdout",
     "output_type": "stream",
     "text": [
      "1\n",
      "2\n",
      "3\n",
      "4\n",
      "5\n",
      "6\n",
      "7\n",
      "8\n",
      "9\n",
      "10\n"
     ]
    }
   ],
   "source": [
    "for i in range(1,11):\n",
    "    print(i)\n",
    "    i = i + 1"
   ]
  }
 ],
 "metadata": {
  "kernelspec": {
   "display_name": "Python 2",
   "language": "python",
   "name": "python2"
  },
  "language_info": {
   "codemirror_mode": {
    "name": "ipython",
    "version": 2
   },
   "file_extension": ".py",
   "mimetype": "text/x-python",
   "name": "python",
   "nbconvert_exporter": "python",
   "pygments_lexer": "ipython2",
   "version": "2.7.15"
  }
 },
 "nbformat": 4,
 "nbformat_minor": 2
}

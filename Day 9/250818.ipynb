{
 "cells": [
  {
   "cell_type": "markdown",
   "metadata": {},
   "source": [
    "# Object Oriented Programming in Python"
   ]
  },
  {
   "cell_type": "markdown",
   "metadata": {},
   "source": [
    "#### Inheritance, Polymorphism, Data Abstraction, Encapsulation - Object, class, method"
   ]
  },
  {
   "cell_type": "code",
   "execution_count": 5,
   "metadata": {},
   "outputs": [],
   "source": [
    "class etlhive:\n",
    "    def __init__(self):\n",
    "        pass # it's a placeholder used to allow no code segment in function\n",
    "    def howmanycourse(self):\n",
    "        print(\"4\")\n",
    "    def timeofpython(self, x=\"10-12\"):\n",
    "        print(x)"
   ]
  },
  {
   "cell_type": "code",
   "execution_count": 6,
   "metadata": {},
   "outputs": [
    {
     "name": "stdout",
     "output_type": "stream",
     "text": [
      "4\n",
      "10-12\n"
     ]
    }
   ],
   "source": [
    "ps_branch =etlhive()\n",
    "ps_branch.howmanycourse()\n",
    "ps_branch.timeofpython()"
   ]
  },
  {
   "cell_type": "markdown",
   "metadata": {},
   "source": [
    "#### With more number of objects"
   ]
  },
  {
   "cell_type": "code",
   "execution_count": 24,
   "metadata": {},
   "outputs": [
    {
     "name": "stdout",
     "output_type": "stream",
     "text": [
      "3\n",
      "12\n",
      "------------------------------\n",
      "5\n",
      "11\n"
     ]
    }
   ],
   "source": [
    "class etlhive:\n",
    "    def __init__(self, course, python_time, ds_time):\n",
    "        self.python_time = python_time\n",
    "        self.ds_time = ds_time\n",
    "        self.course = course\n",
    "    \n",
    "    def howmanycourse(self):\n",
    "        print(self.course)\n",
    "        \n",
    "    def timeofpython(self):\n",
    "        print(self.python_time)\n",
    "    \n",
    "    def timeofds(self):\n",
    "        print(self.ds_time)\n",
    "        \n",
    "ps_branch =etlhive(\"3\",\"11\",\"12\")\n",
    "ps_branch.howmanycourse()\n",
    "#ps_branch.timeofpython()\n",
    "ps_branch.timeofds()\n",
    "print(\"------------------------------\")\n",
    "ns_branch =etlhive(\"5\",\"10\",\"11\")\n",
    "ns_branch.howmanycourse()\n",
    "#ns_branch.timeofpython()\n",
    "ns_branch.timeofds()"
   ]
  },
  {
   "cell_type": "markdown",
   "metadata": {},
   "source": [
    "#### with dictionary"
   ]
  },
  {
   "cell_type": "code",
   "execution_count": 30,
   "metadata": {},
   "outputs": [
    {
     "name": "stdout",
     "output_type": "stream",
     "text": [
      "11\n",
      "12\n",
      "------------------------------\n",
      "10\n",
      "11\n"
     ]
    }
   ],
   "source": [
    "class etlhive:\n",
    "    def __init__(self, python_time, ds_time):\n",
    "        self.dict_courses = {}\n",
    "        self.dict_courses[\"py_time\"] = python_time\n",
    "        self.dict_courses[\"ds_time\"] = ds_time        \n",
    "        self.python_time = python_time\n",
    "        self.ds_time = ds_time\n",
    "    \n",
    "    def howmanycourse(self):\n",
    "        print(len(self.dict_courses.keys()))\n",
    "        \n",
    "    def timeofpython(self):\n",
    "        print(self.dict_courses[\"py_time\"])\n",
    "    \n",
    "    def timeofds(self):\n",
    "        print(self.dict_courses[\"ds_time\"])\n",
    "        \n",
    "ps_branch =etlhive(\"11\",\"12\")\n",
    "print(ps_branch.dict_courses[\"py_time\"])\n",
    "print(ps_branch.dict_courses[\"ds_time\"])\n",
    "print(\"------------------------------\")\n",
    "ns_branch =etlhive(\"10\",\"11\")\n",
    "print(ns_branch.dict_courses[\"py_time\"])\n",
    "print(ns_branch.dict_courses[\"ds_time\"])"
   ]
  },
  {
   "cell_type": "markdown",
   "metadata": {},
   "source": [
    "#### Student Information Example"
   ]
  },
  {
   "cell_type": "code",
   "execution_count": 35,
   "metadata": {},
   "outputs": [
    {
     "name": "stdout",
     "output_type": "stream",
     "text": [
      "roll no :  121 , name :  Abc\n",
      "roll no :  122 , name :  Dfr\n"
     ]
    }
   ],
   "source": [
    "class student:\n",
    "    def __init__(self, rollno, name):\n",
    "        self.rollno = rollno\n",
    "        self.name = name\n",
    "    def displayStudent(self):\n",
    "        print \"roll no : \" , self.rollno, \", name : \", self.name\n",
    "\n",
    "std1 = student(121, \"Abc\")\n",
    "std2 = student(122, \"Dfr\")\n",
    "std1.displayStudent()\n",
    "std2.displayStudent()\n",
    "\n",
    "# Format function can be useful for displaying data in well formated manner"
   ]
  },
  {
   "cell_type": "markdown",
   "metadata": {},
   "source": [
    "#### Inheritance Example"
   ]
  },
  {
   "cell_type": "code",
   "execution_count": 37,
   "metadata": {},
   "outputs": [],
   "source": [
    "# Extending some/all properties of parent class\n",
    "#Parent - Child\n",
    "#Base - Derived"
   ]
  },
  {
   "cell_type": "code",
   "execution_count": 1,
   "metadata": {},
   "outputs": [
    {
     "name": "stdout",
     "output_type": "stream",
     "text": [
      "Baw\n",
      "Biscuit\n",
      "Banana\n"
     ]
    }
   ],
   "source": [
    "class animal():\n",
    "    def __init__(self):\n",
    "        pass\n",
    "    def eating(self, food):\n",
    "        print(food)\n",
    "\n",
    "class dog(animal):\n",
    "    def __init__(self):\n",
    "        pass\n",
    "    def barking(self):\n",
    "        print(\"Baw\")\n",
    "    def methodOfParent(self, food):\n",
    "        self.eating(food)\n",
    "        \n",
    "gs = dog()\n",
    "gs.barking()\n",
    "gs.eating(\"Biscuit\")\n",
    "gs.methodOfParent(\"Banana\")"
   ]
  }
 ],
 "metadata": {
  "kernelspec": {
   "display_name": "Python 2",
   "language": "python",
   "name": "python2"
  },
  "language_info": {
   "codemirror_mode": {
    "name": "ipython",
    "version": 2
   },
   "file_extension": ".py",
   "mimetype": "text/x-python",
   "name": "python",
   "nbconvert_exporter": "python",
   "pygments_lexer": "ipython2",
   "version": "2.7.15"
  }
 },
 "nbformat": 4,
 "nbformat_minor": 2
}

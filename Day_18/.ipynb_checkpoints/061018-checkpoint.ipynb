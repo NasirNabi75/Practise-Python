{
 "cells": [
  {
   "cell_type": "markdown",
   "metadata": {},
   "source": [
    "# MySQLdb"
   ]
  },
  {
   "cell_type": "code",
   "execution_count": 5,
   "metadata": {},
   "outputs": [],
   "source": [
    "# mysql> show databases;\n",
    "# +--------------------+\n",
    "# | Database           |\n",
    "# +--------------------+\n",
    "# | information_schema |\n",
    "# | employees          |\n",
    "# | mysql              |\n",
    "# | performance_schema |\n",
    "# | sys                |\n",
    "# +--------------------+\n",
    "# 5 rows in set (0.00 sec)\n",
    "\n",
    "# mysql> CREATE DATABASE test;\n",
    "# Query OK, 1 row affected (0.06 sec)\n",
    "\n",
    "# mysql> show databases;\n",
    "# +--------------------+\n",
    "# | Database           |\n",
    "# +--------------------+\n",
    "# | information_schema |\n",
    "# | employees          |\n",
    "# | mysql              |\n",
    "# | performance_schema |\n",
    "# | sys                |\n",
    "# | test               |\n",
    "# +--------------------+\n",
    "# 6 rows in set (0.00 sec)\n",
    "\n",
    "# mysql> use test;\n",
    "# Database changed"
   ]
  },
  {
   "cell_type": "markdown",
   "metadata": {},
   "source": [
    "#### Creating Table"
   ]
  },
  {
   "cell_type": "code",
   "execution_count": 10,
   "metadata": {},
   "outputs": [],
   "source": [
    "import MySQLdb\n",
    "db = MySQLdb.connect(\"127.0.0.1\", \"root\", \"123456\",\n",
    "                     \"test\")  # instead of localhost use 127.0.0.1\n",
    "cursor = db.cursor()\n",
    "cursor.execute(\"DROP TABLE IF EXISTS STUDENT\")\n",
    "sql = \"\"\"CREATE TABLE STUDENT (FIRST_NAME CHAR(20) NOT NULL, LAST_NAME CHAR(20), AGE INT, SEX CHAR(1), PERCENTAGE FLOAT)\"\"\"\n",
    "cursor.execute(sql)\n",
    "db.commit()\n",
    "db.close()"
   ]
  },
  {
   "cell_type": "code",
   "execution_count": null,
   "metadata": {},
   "outputs": [],
   "source": [
    "# mysql> show tables;\n",
    "# +----------------+\n",
    "# | Tables_in_test |\n",
    "# +----------------+\n",
    "# | student        |\n",
    "# +----------------+\n",
    "# 1 row in set (0.00 sec)"
   ]
  },
  {
   "cell_type": "markdown",
   "metadata": {},
   "source": [
    "#### Inserting record"
   ]
  },
  {
   "cell_type": "code",
   "execution_count": 11,
   "metadata": {},
   "outputs": [],
   "source": [
    "import MySQLdb\n",
    "db = MySQLdb.connect(\"127.0.0.1\", \"root\", \"123456\",\n",
    "                     \"test\")  # instead of localhost use 127.0.0.1\n",
    "cursor = db.cursor()\n",
    "\n",
    "sql = \"\"\"INSERT INTO STUDENT(FIRST_NAME, LAST_NAME, AGE, SEX, PERCENTAGE) VALUES ('Mac','Mohan',20,'M',56)\"\"\"\n",
    "\n",
    "try:\n",
    "    cursor.execute(sql)\n",
    "    db.commit()\n",
    "except:\n",
    "    db.rollback()\n",
    "finally:\n",
    "    db.close()"
   ]
  },
  {
   "cell_type": "code",
   "execution_count": null,
   "metadata": {},
   "outputs": [],
   "source": [
    "# mysql> select * from student;\n",
    "# +------------+-----------+------+------+------------+\n",
    "# | FIRST_NAME | LAST_NAME | AGE  | SEX  | PERCENTAGE |\n",
    "# +------------+-----------+------+------+------------+\n",
    "# | Mac        | Mohan     |   20 | M    |         56 |\n",
    "# +------------+-----------+------+------+------------+\n",
    "# 1 row in set (0.02 sec)"
   ]
  },
  {
   "cell_type": "markdown",
   "metadata": {},
   "source": [
    "#### Inserting Dynamic Values"
   ]
  },
  {
   "cell_type": "code",
   "execution_count": 12,
   "metadata": {},
   "outputs": [],
   "source": [
    "import MySQLdb\n",
    "db = MySQLdb.connect(\"127.0.0.1\", \"root\", \"123456\",\n",
    "                     \"test\")  # instead of localhost use 127.0.0.1\n",
    "cursor = db.cursor()\n",
    "\n",
    "sql = \"INSERT INTO STUDENT(FIRST_NAME, LAST_NAME, AGE, SEX, PERCENTAGE) VALUES ('%s','%s','%d','%c','%f')\" % (\n",
    "    'John', 'Dave', 30, 'M', 66)\n",
    "\n",
    "try:\n",
    "    cursor.execute(sql)\n",
    "    db.commit()\n",
    "except:\n",
    "    db.rollback()\n",
    "finally:\n",
    "    db.close()"
   ]
  },
  {
   "cell_type": "markdown",
   "metadata": {},
   "source": [
    "#### Select Statement"
   ]
  },
  {
   "cell_type": "code",
   "execution_count": 17,
   "metadata": {},
   "outputs": [
    {
     "name": "stdout",
     "output_type": "stream",
     "text": [
      "Mac Mohan 20 M\n"
     ]
    }
   ],
   "source": [
    "import MySQLdb\n",
    "db = MySQLdb.connect(\"127.0.0.1\", \"root\", \"123456\",\n",
    "                     \"test\")  # instead of localhost use 127.0.0.1\n",
    "cursor = db.cursor()\n",
    "\n",
    "sql = \"SELECT * FROM STUDENT WHERE PERCENTAGE = '%f'\" % (56)\n",
    "\n",
    "try:\n",
    "    cursor.execute(sql)\n",
    "    results = cursor.fetchall()\n",
    "    for row in results:\n",
    "        fname = row[0]\n",
    "        lname = row[1]\n",
    "        age = row[2]\n",
    "        sex = row[3]\n",
    "        print(\"{fname} {lname} {age} {sex}\".format(\n",
    "            fname=fname, lname=lname, age=age, sex=sex))\n",
    "    db.commit()\n",
    "except:\n",
    "    db.rollback()\n",
    "finally:\n",
    "    db.close()"
   ]
  },
  {
   "cell_type": "markdown",
   "metadata": {},
   "source": [
    "#### Update record"
   ]
  },
  {
   "cell_type": "code",
   "execution_count": null,
   "metadata": {},
   "outputs": [],
   "source": [
    "# mysql> select * from student;\n",
    "# +------------+-----------+------+------+------------+\n",
    "# | FIRST_NAME | LAST_NAME | AGE  | SEX  | PERCENTAGE |\n",
    "# +------------+-----------+------+------+------------+\n",
    "# | Mac        | Mohan     |   20 | M    |         40 |\n",
    "# | John       | Dave      |   30 | M    |         45 |\n",
    "# | Jane       | Bold      |   30 | F    |         40 |\n",
    "# | Gran       | Hana      |   31 | F    |         40 |\n",
    "# +------------+-----------+------+------+------------+\n",
    "# 4 rows in set (0.00 sec)"
   ]
  },
  {
   "cell_type": "code",
   "execution_count": 22,
   "metadata": {},
   "outputs": [
    {
     "name": "stdout",
     "output_type": "stream",
     "text": [
      "3\n"
     ]
    }
   ],
   "source": [
    "import MySQLdb\n",
    "db = MySQLdb.connect(\"127.0.0.1\", \"root\", \"123456\",\n",
    "                     \"test\")  # instead of localhost use 127.0.0.1\n",
    "cursor = db.cursor()\n",
    "\n",
    "sql = \"UPDATE STUDENT SET PERCENTAGE =41 WHERE PERCENTAGE < '%f'\" % (45)\n",
    "try:\n",
    "    cursor.execute(sql)\n",
    "    print(cursor.rowcount)\n",
    "    db.commit()\n",
    "except:\n",
    "    db.rollback()\n",
    "finally:\n",
    "    db.close()"
   ]
  },
  {
   "cell_type": "code",
   "execution_count": null,
   "metadata": {},
   "outputs": [],
   "source": [
    "# mysql> select * from student;\n",
    "# +------------+-----------+------+------+------------+\n",
    "# | FIRST_NAME | LAST_NAME | AGE  | SEX  | PERCENTAGE |\n",
    "# +------------+-----------+------+------+------------+\n",
    "# | Mac        | Mohan     |   20 | M    |         41 |\n",
    "# | John       | Dave      |   30 | M    |         45 |\n",
    "# | Jane       | Bold      |   30 | F    |         41 |\n",
    "# | Gran       | Hana      |   31 | F    |         41 |\n",
    "# +------------+-----------+------+------+------------+\n",
    "# 4 rows in set (0.00 sec)"
   ]
  }
 ],
 "metadata": {
  "_draft": {
   "nbviewer_url": "https://gist.github.com/94bd65677c2686876eb86420d962bcb1"
  },
  "gist": {
   "data": {
    "description": "My Notebooks/Python/Day_18/061018.ipynb",
    "public": true
   },
   "id": "94bd65677c2686876eb86420d962bcb1"
  },
  "kernelspec": {
   "display_name": "Python 2",
   "language": "python",
   "name": "python2"
  },
  "language_info": {
   "codemirror_mode": {
    "name": "ipython",
    "version": 2
   },
   "file_extension": ".py",
   "mimetype": "text/x-python",
   "name": "python",
   "nbconvert_exporter": "python",
   "pygments_lexer": "ipython2",
   "version": "2.7.15"
  },
  "varInspector": {
   "cols": {
    "lenName": 16,
    "lenType": 16,
    "lenVar": 40
   },
   "kernels_config": {
    "python": {
     "delete_cmd_postfix": "",
     "delete_cmd_prefix": "del ",
     "library": "var_list.py",
     "varRefreshCmd": "print(var_dic_list())"
    },
    "r": {
     "delete_cmd_postfix": ") ",
     "delete_cmd_prefix": "rm(",
     "library": "var_list.r",
     "varRefreshCmd": "cat(var_dic_list()) "
    }
   },
   "types_to_exclude": [
    "module",
    "function",
    "builtin_function_or_method",
    "instance",
    "_Feature"
   ],
   "window_display": false
  }
 },
 "nbformat": 4,
 "nbformat_minor": 2
}

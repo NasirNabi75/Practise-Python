{
  "cells": [
    {
      "cell_type": "markdown",
      "source": [
        "# OS Libraries"
      ],
      "metadata": {}
    },
    {
      "cell_type": "code",
      "source": [
        "#importing OS libraries\n",
        "\n",
        "import os\n",
        "print(os.getcwd())"
      ],
      "outputs": [],
      "execution_count": null,
      "metadata": {}
    },
    {
      "cell_type": "code",
      "source": [
        "#Directories\n",
        "\n",
        "import os\n",
        "cwd = os.getcwd()\n",
        "\n",
        "li_dir = os.listdir(cwd)\n",
        "\n",
        "if \"Demo_dir\" in li_dir:\n",
        "    print(\"Folder Created\")\n",
        "else:\n",
        "    print(\"Not Created\")\n",
        "\n",
        "for dir in li_dir:\n",
        "    print(cwd+\"\\\\\"+dir)"
      ],
      "outputs": [],
      "execution_count": null,
      "metadata": {}
    },
    {
      "cell_type": "code",
      "source": [
        "cwd = os.getcwd()\n",
        "os.mkdir(cwd+\"//Demo_dir\")"
      ],
      "outputs": [],
      "execution_count": null,
      "metadata": {}
    },
    {
      "cell_type": "code",
      "source": [
        "import os\n",
        "cwd = os.getcwd()\n",
        "os.remove(cwd+\"//\"+\"temp.ipynb\")"
      ],
      "outputs": [],
      "execution_count": null,
      "metadata": {}
    },
    {
      "cell_type": "code",
      "source": [
        "import os\n",
        "cwd = os.getcwd()\n",
        "os.rename(cwd+\"//\"+\"temp.txt\", cwd+\"//\"+\"abc.txt\")"
      ],
      "outputs": [],
      "execution_count": null,
      "metadata": {}
    },
    {
      "cell_type": "code",
      "source": [
        "import os\n",
        "cwd = os.getcwd()\n",
        "os.rmdir(cwd+\"//\"+\"Demo_dir\")"
      ],
      "outputs": [],
      "execution_count": null,
      "metadata": {}
    },
    {
      "cell_type": "code",
      "source": [
        "li_dir = os.listdir(cwd)\n",
        "\n",
        "if \"Demo_dir\" in li_dir:\n",
        "    print(\"Folder exists\")\n",
        "else:\n",
        "    print(\"Not exist\")"
      ],
      "outputs": [],
      "execution_count": null,
      "metadata": {}
    },
    {
      "cell_type": "markdown",
      "source": [
        "### \n",
        "Take input from user, program should be running continuously.\n",
        "\n",
        "1 Create Directory - Full Path\n",
        "\n",
        "2 Remove Directory - Full Path\n",
        "\n",
        "3 Rename Directory - Full path, New Path\n",
        "\n",
        "Any other Input - Message please check the input\n"
      ],
      "metadata": {}
    },
    {
      "cell_type": "markdown",
      "source": [
        "# System Libraries"
      ],
      "metadata": {}
    },
    {
      "cell_type": "code",
      "source": [
        "#Check online for python notebook solution, how to pass argument in notebook\n",
        "\n",
        "import sys\n",
        "print(\"argument length is {len}\".format(len = (sys.argv)))\n",
        "\n",
        "for argv in sys.argv:\n",
        "    print(argv)"
      ],
      "outputs": [],
      "execution_count": null,
      "metadata": {}
    },
    {
      "cell_type": "markdown",
      "source": [
        "### \n",
        "\nPrint only even numbers of arguments. Use Range Function."
      ],
      "metadata": {}
    },
    {
      "cell_type": "code",
      "source": [
        "import sys\n",
        "print(sys.copyright)"
      ],
      "outputs": [],
      "execution_count": null,
      "metadata": {}
    },
    {
      "cell_type": "code",
      "source": [
        "print(sys.maxsize)"
      ],
      "outputs": [],
      "execution_count": null,
      "metadata": {}
    },
    {
      "cell_type": "code",
      "source": [
        "sys.path"
      ],
      "outputs": [],
      "execution_count": null,
      "metadata": {}
    },
    {
      "cell_type": "code",
      "source": [
        "#GIL - Gobal Interpreter Lock will stop recursion at 1000 iteration\n",
        "def funct(x):\n",
        "    print(\"Value of x\", x)\n",
        "    if x>10:\n",
        "        funct(x-1)\n",
        "    else:\n",
        "        return(x)\n",
        "funct(12)"
      ],
      "outputs": [],
      "execution_count": null,
      "metadata": {}
    },
    {
      "cell_type": "code",
      "source": [
        "sys.getrecursionlimit()"
      ],
      "outputs": [],
      "execution_count": null,
      "metadata": {}
    },
    {
      "cell_type": "markdown",
      "source": [
        "# Time Module"
      ],
      "metadata": {}
    },
    {
      "cell_type": "code",
      "source": [
        "import time\n",
        "print(time.clock()) #like a stopwatch\n",
        "print(time.ctime()) #current time\n",
        "print(time.time()) #floating point number\n",
        "\n",
        "f_time = time.time()\n",
        "print(time.ctime(f_time-864000)) #one day before"
      ],
      "outputs": [],
      "execution_count": null,
      "metadata": {}
    },
    {
      "cell_type": "code",
      "source": [
        "import time\n",
        "for i in range(5):\n",
        "    time.sleep(1)\n",
        "    print(time.ctime())"
      ],
      "outputs": [],
      "execution_count": null,
      "metadata": {}
    },
    {
      "cell_type": "markdown",
      "source": [
        "# User Defined Function - UDF Module"
      ],
      "metadata": {}
    },
    {
      "cell_type": "code",
      "source": [
        "import tobeimport\n",
        "\n",
        "tobeimport.call_me(\"name\")\n",
        "\ntobeimport.value"
      ],
      "outputs": [
        {
          "output_type": "stream",
          "name": "stdout",
          "text": [
            "Hey,name\n"
          ]
        },
        {
          "output_type": "execute_result",
          "execution_count": 1,
          "data": {
            "text/plain": [
              "'abc'"
            ]
          },
          "metadata": {}
        }
      ],
      "execution_count": 1,
      "metadata": {}
    }
  ],
  "metadata": {
    "kernelspec": {
      "name": "python2",
      "language": "python",
      "display_name": "Python 2"
    },
    "language_info": {
      "mimetype": "text/x-python",
      "nbconvert_exporter": "python",
      "name": "python",
      "pygments_lexer": "ipython2",
      "version": "2.7.13",
      "file_extension": ".py",
      "codemirror_mode": {
        "version": 2,
        "name": "ipython"
      }
    },
    "kernel_info": {
      "name": "python2"
    },
    "nteract": {
      "version": "0.11.4"
    }
  },
  "nbformat": 4,
  "nbformat_minor": 2
}
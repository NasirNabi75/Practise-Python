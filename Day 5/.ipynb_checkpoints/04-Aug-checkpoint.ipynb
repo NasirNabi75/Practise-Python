{
 "cells": [
  {
   "cell_type": "markdown",
   "metadata": {},
   "source": [
    "# OS "
   ]
  },
  {
   "cell_type": "code",
   "execution_count": 1,
   "metadata": {},
   "outputs": [
    {
     "name": "stdout",
     "output_type": "stream",
     "text": [
      "C:\\Users\\Nilkanth Jadhav\\ETLHIVE Notebooks\\Python\\Day 5\n"
     ]
    }
   ],
   "source": [
    "#importing OS libraries\n",
    "\n",
    "import os\n",
    "print(os.getcwd())"
   ]
  },
  {
   "cell_type": "code",
   "execution_count": 16,
   "metadata": {},
   "outputs": [
    {
     "name": "stdout",
     "output_type": "stream",
     "text": [
      "Folder Created\n",
      "C:\\Users\\Nilkanth Jadhav\\ETLHIVE Notebooks\\Python\\Day 5\\.ipynb_checkpoints\n",
      "C:\\Users\\Nilkanth Jadhav\\ETLHIVE Notebooks\\Python\\Day 5\\04-Aug.ipynb\n",
      "C:\\Users\\Nilkanth Jadhav\\ETLHIVE Notebooks\\Python\\Day 5\\Demo_dir\n"
     ]
    }
   ],
   "source": [
    "#Directories\n",
    "\n",
    "import os\n",
    "cwd = os.getcwd()\n",
    "\n",
    "li_dir = os.listdir(cwd)\n",
    "\n",
    "if \"Demo_dir\" in li_dir:\n",
    "    print(\"Folder Created\")\n",
    "else:\n",
    "    print(\"Not Created\")\n",
    "\n",
    "for dir in li_dir:\n",
    "    print(cwd+\"\\\\\"+dir)"
   ]
  },
  {
   "cell_type": "code",
   "execution_count": 31,
   "metadata": {},
   "outputs": [],
   "source": [
    "cwd = os.getcwd()\n",
    "os.mkdir(cwd+\"//Demo_dir\")"
   ]
  },
  {
   "cell_type": "code",
   "execution_count": 20,
   "metadata": {},
   "outputs": [],
   "source": [
    "import os\n",
    "cwd = os.getcwd()\n",
    "os.remove(cwd+\"//\"+\"temp.ipynb\")"
   ]
  },
  {
   "cell_type": "code",
   "execution_count": 25,
   "metadata": {},
   "outputs": [],
   "source": [
    "import os\n",
    "cwd = os.getcwd()\n",
    "os.rename(cwd+\"//\"+\"temp.txt\", cwd+\"//\"+\"abc.txt\")"
   ]
  },
  {
   "cell_type": "code",
   "execution_count": 33,
   "metadata": {},
   "outputs": [],
   "source": [
    "import os\n",
    "cwd = os.getcwd()\n",
    "os.rmdir(cwd+\"//\"+\"Demo_dir\")"
   ]
  },
  {
   "cell_type": "code",
   "execution_count": 34,
   "metadata": {},
   "outputs": [
    {
     "name": "stdout",
     "output_type": "stream",
     "text": [
      "Not exist\n"
     ]
    }
   ],
   "source": [
    "li_dir = os.listdir(cwd)\n",
    "\n",
    "if \"Demo_dir\" in li_dir:\n",
    "    print(\"Folder exists\")\n",
    "else:\n",
    "    print(\"Not exist\")"
   ]
  },
  {
   "cell_type": "code",
   "execution_count": null,
   "metadata": {},
   "outputs": [],
   "source": []
  },
  {
   "cell_type": "markdown",
   "metadata": {},
   "source": [
    "### Homework -\n",
    "Take input from user, program should be running continuously.\n",
    "\n",
    "1 Create Directory - Full Path\n",
    "\n",
    "2 Remove Directory - Full Path\n",
    "\n",
    "3 Rename Directory - Full path, New Path\n",
    "\n",
    "Any other Input - Message please check the input\n"
   ]
  },
  {
   "cell_type": "markdown",
   "metadata": {},
   "source": [
    "# SYS"
   ]
  },
  {
   "cell_type": "code",
   "execution_count": 51,
   "metadata": {},
   "outputs": [
    {
     "name": "stdout",
     "output_type": "stream",
     "text": [
      "argument length is ['C:\\\\ProgramData\\\\Anaconda2\\\\lib\\\\site-packages\\\\ipykernel_launcher.py', '-f', 'C:\\\\Users\\\\Nilkanth Jadhav\\\\AppData\\\\Roaming\\\\jupyter\\\\runtime\\\\kernel-df13a84a-9fcf-46df-8429-c497004374fd.json']\n",
      "C:\\ProgramData\\Anaconda2\\lib\\site-packages\\ipykernel_launcher.py\n",
      "-f\n",
      "C:\\Users\\Nilkanth Jadhav\\AppData\\Roaming\\jupyter\\runtime\\kernel-df13a84a-9fcf-46df-8429-c497004374fd.json\n"
     ]
    }
   ],
   "source": [
    "#Check online for python notebook solution, how to pass argument in notebook\n",
    "\n",
    "import sys\n",
    "print(\"argument length is {len}\".format(len = (sys.argv)))\n",
    "\n",
    "for argv in sys.argv:\n",
    "    print(argv)"
   ]
  },
  {
   "cell_type": "markdown",
   "metadata": {},
   "source": [
    "### Homework\n",
    "\n",
    "Print only even numbers of arguments. Use Range Function."
   ]
  },
  {
   "cell_type": "code",
   "execution_count": 40,
   "metadata": {},
   "outputs": [
    {
     "name": "stdout",
     "output_type": "stream",
     "text": [
      "Copyright (c) 2001-2018 Python Software Foundation.\n",
      "All Rights Reserved.\n",
      "\n",
      "Copyright (c) 2000 BeOpen.com.\n",
      "All Rights Reserved.\n",
      "\n",
      "Copyright (c) 1995-2001 Corporation for National Research Initiatives.\n",
      "All Rights Reserved.\n",
      "\n",
      "Copyright (c) 1991-1995 Stichting Mathematisch Centrum, Amsterdam.\n",
      "All Rights Reserved.\n"
     ]
    }
   ],
   "source": [
    "import sys\n",
    "print(sys.copyright)"
   ]
  },
  {
   "cell_type": "code",
   "execution_count": 43,
   "metadata": {},
   "outputs": [
    {
     "name": "stdout",
     "output_type": "stream",
     "text": [
      "9223372036854775807\n"
     ]
    }
   ],
   "source": [
    "print(sys.maxsize)"
   ]
  },
  {
   "cell_type": "code",
   "execution_count": 44,
   "metadata": {},
   "outputs": [
    {
     "data": {
      "text/plain": [
       "['',\n",
       " 'C:\\\\ProgramData\\\\Anaconda2\\\\python27.zip',\n",
       " 'C:\\\\ProgramData\\\\Anaconda2\\\\DLLs',\n",
       " 'C:\\\\ProgramData\\\\Anaconda2\\\\lib',\n",
       " 'C:\\\\ProgramData\\\\Anaconda2\\\\lib\\\\plat-win',\n",
       " 'C:\\\\ProgramData\\\\Anaconda2\\\\lib\\\\lib-tk',\n",
       " 'C:\\\\ProgramData\\\\Anaconda2',\n",
       " 'C:\\\\ProgramData\\\\Anaconda2\\\\lib\\\\site-packages',\n",
       " 'C:\\\\ProgramData\\\\Anaconda2\\\\lib\\\\site-packages\\\\win32',\n",
       " 'C:\\\\ProgramData\\\\Anaconda2\\\\lib\\\\site-packages\\\\win32\\\\lib',\n",
       " 'C:\\\\ProgramData\\\\Anaconda2\\\\lib\\\\site-packages\\\\Pythonwin',\n",
       " 'C:\\\\ProgramData\\\\Anaconda2\\\\lib\\\\site-packages\\\\IPython\\\\extensions',\n",
       " 'C:\\\\Users\\\\Nilkanth Jadhav\\\\.ipython']"
      ]
     },
     "execution_count": 44,
     "metadata": {},
     "output_type": "execute_result"
    }
   ],
   "source": [
    "sys.path"
   ]
  },
  {
   "cell_type": "code",
   "execution_count": 50,
   "metadata": {},
   "outputs": [
    {
     "name": "stdout",
     "output_type": "stream",
     "text": [
      "('Value of x', 12)\n",
      "('Value of x', 11)\n",
      "('Value of x', 10)\n"
     ]
    }
   ],
   "source": [
    "#GIL - Gobal Interpreter Lock will stop recursion at 1000 iteration\n",
    "def funct(x):\n",
    "    print(\"Value of x\", x)\n",
    "    if x>10:\n",
    "        funct(x-1)\n",
    "    else:\n",
    "        return(x)\n",
    "funct(12)"
   ]
  },
  {
   "cell_type": "code",
   "execution_count": 52,
   "metadata": {},
   "outputs": [
    {
     "data": {
      "text/plain": [
       "1000"
      ]
     },
     "execution_count": 52,
     "metadata": {},
     "output_type": "execute_result"
    }
   ],
   "source": [
    "sys.getrecursionlimit()"
   ]
  },
  {
   "cell_type": "markdown",
   "metadata": {},
   "source": [
    "# Time Module"
   ]
  },
  {
   "cell_type": "code",
   "execution_count": 120,
   "metadata": {},
   "outputs": [
    {
     "name": "stdout",
     "output_type": "stream",
     "text": [
      "521.664729385\n",
      "Sat Aug  4 13:38:03 2018\n",
      "1533370083.28\n",
      "Wed Jul 25 13:38:03 2018\n"
     ]
    }
   ],
   "source": [
    "import time\n",
    "print(time.clock()) #like a stopwatch\n",
    "print(time.ctime()) #current time\n",
    "print(time.time()) #floating point number\n",
    "\n",
    "f_time = time.time()\n",
    "print(time.ctime(f_time-864000)) #one day before"
   ]
  },
  {
   "cell_type": "code",
   "execution_count": 115,
   "metadata": {},
   "outputs": [
    {
     "name": "stdout",
     "output_type": "stream",
     "text": [
      "Sat Aug  4 13:36:06 2018\n",
      "Sat Aug  4 13:36:07 2018\n",
      "Sat Aug  4 13:36:08 2018\n",
      "Sat Aug  4 13:36:09 2018\n",
      "Sat Aug  4 13:36:10 2018\n"
     ]
    }
   ],
   "source": [
    "import time\n",
    "for i in range(5):\n",
    "    time.sleep(1)\n",
    "    print(time.ctime())"
   ]
  },
  {
   "cell_type": "markdown",
   "metadata": {},
   "source": [
    "# User Defined Function - UDF Module"
   ]
  },
  {
   "cell_type": "code",
   "execution_count": 7,
   "metadata": {},
   "outputs": [
    {
     "name": "stdout",
     "output_type": "stream",
     "text": [
      "Hey,name\n"
     ]
    },
    {
     "ename": "AttributeError",
     "evalue": "'module' object has no attribute 'value'",
     "output_type": "error",
     "traceback": [
      "\u001b[1;31m\u001b[0m",
      "\u001b[1;31mAttributeError\u001b[0mTraceback (most recent call last)",
      "\u001b[1;32m<ipython-input-7-2fc77114a1a9>\u001b[0m in \u001b[0;36m<module>\u001b[1;34m()\u001b[0m\n\u001b[0;32m      3\u001b[0m \u001b[0mtobeimport\u001b[0m\u001b[1;33m.\u001b[0m\u001b[0mcall_me\u001b[0m\u001b[1;33m(\u001b[0m\u001b[1;34m\"name\"\u001b[0m\u001b[1;33m)\u001b[0m\u001b[1;33m\u001b[0m\u001b[0m\n\u001b[0;32m      4\u001b[0m \u001b[1;33m\u001b[0m\u001b[0m\n\u001b[1;32m----> 5\u001b[1;33m \u001b[0mtobeimport\u001b[0m\u001b[1;33m.\u001b[0m\u001b[0mvalue\u001b[0m\u001b[1;33m\u001b[0m\u001b[0m\n\u001b[0m",
      "\u001b[1;31mAttributeError\u001b[0m: 'module' object has no attribute 'value'"
     ]
    }
   ],
   "source": [
    "import tobeimport\n",
    "\n",
    "tobeimport.call_me(\"name\")\n",
    "\n",
    "tobeimport.value"
   ]
  },
  {
   "cell_type": "code",
   "execution_count": null,
   "metadata": {},
   "outputs": [],
   "source": []
  }
 ],
 "metadata": {
  "kernelspec": {
   "display_name": "Python 2",
   "language": "python",
   "name": "python2"
  },
  "language_info": {
   "codemirror_mode": {
    "name": "ipython",
    "version": 2
   },
   "file_extension": ".py",
   "mimetype": "text/x-python",
   "name": "python",
   "nbconvert_exporter": "python",
   "pygments_lexer": "ipython2",
   "version": "2.7.15"
  }
 },
 "nbformat": 4,
 "nbformat_minor": 2
}

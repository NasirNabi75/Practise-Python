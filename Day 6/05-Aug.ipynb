{
 "cells": [
  {
   "cell_type": "markdown",
   "metadata": {},
   "source": [
    "#### Importing UDF from diffrent folder location of file"
   ]
  },
  {
   "cell_type": "code",
   "execution_count": 2,
   "metadata": {},
   "outputs": [
    {
     "name": "stdout",
     "output_type": "stream",
     "text": [
      "4\n",
      "2\n"
     ]
    }
   ],
   "source": [
    "import importfrom\n",
    "a = importfrom.mul(2,2)\n",
    "b = importfrom.div(4,2)\n",
    "print(a)\n",
    "print(b)"
   ]
  },
  {
   "cell_type": "markdown",
   "metadata": {},
   "source": [
    "#### Running program using UDF from diffrent file location, append path"
   ]
  },
  {
   "cell_type": "code",
   "execution_count": 3,
   "metadata": {},
   "outputs": [
    {
     "name": "stdout",
     "output_type": "stream",
     "text": [
      "['', 'C:\\\\ProgramData\\\\Anaconda2\\\\python27.zip', 'C:\\\\ProgramData\\\\Anaconda2\\\\DLLs', 'C:\\\\ProgramData\\\\Anaconda2\\\\lib', 'C:\\\\ProgramData\\\\Anaconda2\\\\lib\\\\plat-win', 'C:\\\\ProgramData\\\\Anaconda2\\\\lib\\\\lib-tk', 'C:\\\\ProgramData\\\\Anaconda2', 'C:\\\\ProgramData\\\\Anaconda2\\\\lib\\\\site-packages', 'C:\\\\ProgramData\\\\Anaconda2\\\\lib\\\\site-packages\\\\win32', 'C:\\\\ProgramData\\\\Anaconda2\\\\lib\\\\site-packages\\\\win32\\\\lib', 'C:\\\\ProgramData\\\\Anaconda2\\\\lib\\\\site-packages\\\\Pythonwin', 'C:\\\\ProgramData\\\\Anaconda2\\\\lib\\\\site-packages\\\\IPython\\\\extensions', 'C:\\\\Users\\\\Nilkanth Jadhav\\\\.ipython', 'C:\\\\Users\\\\Nilkanth Jadhav']\n",
      "4\n",
      "2\n"
     ]
    }
   ],
   "source": [
    "import sys\n",
    "sys.path.append(\"C:\\\\Users\\\\Nilkanth Jadhav\")\n",
    "#Path is appended in sys path so that UDF file can be found to pythonwhich is kept at that location\n",
    "print(sys.path)\n",
    "import importfrom\n",
    "a = importfrom.mul(2,2)\n",
    "b = importfrom.div(4,2)\n",
    "print(a)\n",
    "print(b)"
   ]
  },
  {
   "cell_type": "markdown",
   "metadata": {},
   "source": [
    "#### Using only limited functions from UDF, comma separated multiple functions"
   ]
  },
  {
   "cell_type": "code",
   "execution_count": 4,
   "metadata": {},
   "outputs": [
    {
     "name": "stdout",
     "output_type": "stream",
     "text": [
      "4\n",
      "2\n"
     ]
    }
   ],
   "source": [
    "import sys\n",
    "sys.path.append(\"C:\\\\Users\\\\Nilkanth Jadhav\")\n",
    "#Path is appended in sys path so that UDF file can be found to pythonwhich is kept at that location\n",
    "#print(sys.path)\n",
    "from importfrom import mul,div\n",
    "a = mul(2,2)\n",
    "b = div(4,2)\n",
    "print(a)\n",
    "print(b)"
   ]
  },
  {
   "cell_type": "markdown",
   "metadata": {},
   "source": [
    "#### \\_\\_init\\_\\_.py is used in one-level above directory so as to initialise pytemp directory as package"
   ]
  },
  {
   "cell_type": "code",
   "execution_count": 5,
   "metadata": {},
   "outputs": [
    {
     "name": "stdout",
     "output_type": "stream",
     "text": [
      "['', 'C:\\\\ProgramData\\\\Anaconda2\\\\python27.zip', 'C:\\\\ProgramData\\\\Anaconda2\\\\DLLs', 'C:\\\\ProgramData\\\\Anaconda2\\\\lib', 'C:\\\\ProgramData\\\\Anaconda2\\\\lib\\\\plat-win', 'C:\\\\ProgramData\\\\Anaconda2\\\\lib\\\\lib-tk', 'C:\\\\ProgramData\\\\Anaconda2', 'C:\\\\ProgramData\\\\Anaconda2\\\\lib\\\\site-packages', 'C:\\\\ProgramData\\\\Anaconda2\\\\lib\\\\site-packages\\\\win32', 'C:\\\\ProgramData\\\\Anaconda2\\\\lib\\\\site-packages\\\\win32\\\\lib', 'C:\\\\ProgramData\\\\Anaconda2\\\\lib\\\\site-packages\\\\Pythonwin', 'C:\\\\ProgramData\\\\Anaconda2\\\\lib\\\\site-packages\\\\IPython\\\\extensions', 'C:\\\\Users\\\\Nilkanth Jadhav\\\\.ipython', 'C:\\\\Users\\\\Nilkanth Jadhav', 'C:\\\\Users\\\\Nilkanth Jadhav', 'C:\\\\Users\\\\Nilkanth Jadhav']\n",
      "4\n",
      "2\n"
     ]
    }
   ],
   "source": [
    "import sys\n",
    "sys.path.append(\"C:\\\\Users\\\\Nilkanth Jadhav\")\n",
    "#Path is appended in sys path so that UDF file can be found to python, which is kept at that location\n",
    "print(sys.path)\n",
    "\n",
    "from pytemp import importfrom\n",
    "a = importfrom.mul(2,2)\n",
    "b = importfrom.div(4,2)\n",
    "print(a)\n",
    "print(b)"
   ]
  },
  {
   "cell_type": "markdown",
   "metadata": {},
   "source": [
    "#### Imporing specific function from dirctory/package.file"
   ]
  },
  {
   "cell_type": "code",
   "execution_count": 6,
   "metadata": {},
   "outputs": [
    {
     "name": "stdout",
     "output_type": "stream",
     "text": [
      "['', 'C:\\\\ProgramData\\\\Anaconda2\\\\python27.zip', 'C:\\\\ProgramData\\\\Anaconda2\\\\DLLs', 'C:\\\\ProgramData\\\\Anaconda2\\\\lib', 'C:\\\\ProgramData\\\\Anaconda2\\\\lib\\\\plat-win', 'C:\\\\ProgramData\\\\Anaconda2\\\\lib\\\\lib-tk', 'C:\\\\ProgramData\\\\Anaconda2', 'C:\\\\ProgramData\\\\Anaconda2\\\\lib\\\\site-packages', 'C:\\\\ProgramData\\\\Anaconda2\\\\lib\\\\site-packages\\\\win32', 'C:\\\\ProgramData\\\\Anaconda2\\\\lib\\\\site-packages\\\\win32\\\\lib', 'C:\\\\ProgramData\\\\Anaconda2\\\\lib\\\\site-packages\\\\Pythonwin', 'C:\\\\ProgramData\\\\Anaconda2\\\\lib\\\\site-packages\\\\IPython\\\\extensions', 'C:\\\\Users\\\\Nilkanth Jadhav\\\\.ipython', 'C:\\\\Users\\\\Nilkanth Jadhav', 'C:\\\\Users\\\\Nilkanth Jadhav', 'C:\\\\Users\\\\Nilkanth Jadhav', 'C:\\\\Users\\\\Nilkanth Jadhav']\n",
      "4\n",
      "2\n"
     ]
    }
   ],
   "source": [
    "import sys\n",
    "sys.path.append(\"C:\\\\Users\\\\Nilkanth Jadhav\")\n",
    "#Path is appended in sys path so that UDF file can be found to pythonwhich is kept at that location\n",
    "print(sys.path)\n",
    "\n",
    "from pytemp.importfrom import mul,div\n",
    "a = mul(2,2)\n",
    "b = div(4,2)\n",
    "print(a)\n",
    "print(b)"
   ]
  },
  {
   "cell_type": "markdown",
   "metadata": {},
   "source": [
    "# File Handling"
   ]
  },
  {
   "cell_type": "markdown",
   "metadata": {},
   "source": [
    "#### Read File"
   ]
  },
  {
   "cell_type": "code",
   "execution_count": 7,
   "metadata": {},
   "outputs": [
    {
     "name": "stdout",
     "output_type": "stream",
     "text": [
      "Hello from text file.\n"
     ]
    }
   ],
   "source": [
    "#C:\\Users\\Nilkanth Jadhav\\Desktop\\pytemp\n",
    "\n",
    "file_obj = open(\"C:\\\\Users\\\\Nilkanth Jadhav\\\\pytemp\\\\Hello.txt\")\n",
    "print(file_obj.read())\n",
    "\n",
    "file_obj.close()"
   ]
  },
  {
   "cell_type": "markdown",
   "metadata": {},
   "source": [
    "#### Write File"
   ]
  },
  {
   "cell_type": "code",
   "execution_count": 8,
   "metadata": {},
   "outputs": [],
   "source": [
    "#C:\\Users\\Nilkanth Jadhav\\Desktop\\pytemp\n",
    "\n",
    "file_obj = open(\"C:\\\\Users\\\\Nilkanth Jadhav\\\\pytemp\\\\nofile.txt\", \"w\")\n",
    "file_obj.write(\"Hey\")\n",
    "file_obj.write(\"How are you\")\n",
    "#print(file_obj.read())\n",
    "\n",
    "file_obj.close()"
   ]
  }
 ],
 "metadata": {
  "kernelspec": {
   "display_name": "Python 2",
   "language": "python",
   "name": "python2"
  },
  "language_info": {
   "codemirror_mode": {
    "name": "ipython",
    "version": 2
   },
   "file_extension": ".py",
   "mimetype": "text/x-python",
   "name": "python",
   "nbconvert_exporter": "python",
   "pygments_lexer": "ipython2",
   "version": "2.7.15"
  }
 },
 "nbformat": 4,
 "nbformat_minor": 2
}

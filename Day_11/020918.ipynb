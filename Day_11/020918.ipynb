{
 "cells": [
  {
   "cell_type": "markdown",
   "metadata": {},
   "source": [
    "## Polymorphism\n",
    "- Run time : overriding\n",
    "- Compile time : overloading"
   ]
  },
  {
   "cell_type": "markdown",
   "metadata": {},
   "source": [
    "## Overloading"
   ]
  },
  {
   "cell_type": "code",
   "execution_count": 5,
   "metadata": {},
   "outputs": [
    {
     "name": "stdout",
     "output_type": "stream",
     "text": [
      "\n",
      "6\n"
     ]
    },
    {
     "ename": "TypeError",
     "evalue": "addition() takes exactly 4 arguments (3 given)",
     "output_type": "error",
     "traceback": [
      "\u001b[1;31m\u001b[0m",
      "\u001b[1;31mTypeError\u001b[0mTraceback (most recent call last)",
      "\u001b[1;32m<ipython-input-5-216075526e39>\u001b[0m in \u001b[0;36m<module>\u001b[1;34m()\u001b[0m\n\u001b[0;32m      9\u001b[0m \u001b[0mobj\u001b[0m \u001b[1;33m=\u001b[0m \u001b[0mnumber\u001b[0m\u001b[1;33m(\u001b[0m\u001b[1;33m)\u001b[0m\u001b[1;33m\u001b[0m\u001b[0m\n\u001b[0;32m     10\u001b[0m \u001b[1;32mprint\u001b[0m\u001b[1;33m(\u001b[0m\u001b[0mobj\u001b[0m\u001b[1;33m.\u001b[0m\u001b[0maddition\u001b[0m\u001b[1;33m(\u001b[0m\u001b[1;36m1\u001b[0m\u001b[1;33m,\u001b[0m\u001b[1;36m2\u001b[0m\u001b[1;33m,\u001b[0m\u001b[1;36m3\u001b[0m\u001b[1;33m)\u001b[0m\u001b[1;33m)\u001b[0m\u001b[1;33m\u001b[0m\u001b[0m\n\u001b[1;32m---> 11\u001b[1;33m \u001b[1;32mprint\u001b[0m\u001b[1;33m(\u001b[0m\u001b[0mobj\u001b[0m\u001b[1;33m.\u001b[0m\u001b[0maddition\u001b[0m\u001b[1;33m(\u001b[0m\u001b[1;36m1\u001b[0m\u001b[1;33m,\u001b[0m\u001b[1;36m2\u001b[0m\u001b[1;33m)\u001b[0m\u001b[1;33m)\u001b[0m\u001b[1;33m\u001b[0m\u001b[0m\n\u001b[0m",
      "\u001b[1;31mTypeError\u001b[0m: addition() takes exactly 4 arguments (3 given)"
     ]
    }
   ],
   "source": [
    "class number(object):\n",
    "    def __init__(self):\n",
    "        print (\"\")\n",
    "    def addition(self,a,b):\n",
    "        return a+b\n",
    "    def addition(self,a,b,c):\n",
    "        return a+b+c\n",
    "    \n",
    "obj = number()\n",
    "print(obj.addition(1,2,3))\n",
    "print(obj.addition(1,2))"
   ]
  },
  {
   "cell_type": "code",
   "execution_count": 10,
   "metadata": {},
   "outputs": [
    {
     "name": "stdout",
     "output_type": "stream",
     "text": [
      "\n",
      "6\n",
      "3\n",
      "Need to pass values\n",
      "0\n"
     ]
    }
   ],
   "source": [
    "class number(object):\n",
    "    def __init__(self):\n",
    "        print (\"\")\n",
    "    def addition(self,*args):\n",
    "        if len(args)==0:\n",
    "            print(\"Need to pass values\")\n",
    "            return 0\n",
    "        sum = 0;\n",
    "        for i in args:\n",
    "            sum = sum + i\n",
    "        return sum\n",
    "\n",
    "obj = number()\n",
    "print(obj.addition(1,2,3))\n",
    "print(obj.addition(1,2))\n",
    "print(obj.addition())"
   ]
  },
  {
   "cell_type": "markdown",
   "metadata": {},
   "source": [
    "## Overriding"
   ]
  },
  {
   "cell_type": "code",
   "execution_count": 13,
   "metadata": {},
   "outputs": [
    {
     "name": "stdout",
     "output_type": "stream",
     "text": [
      "\n",
      "3\n",
      "\n",
      "1+2=3\n"
     ]
    }
   ],
   "source": [
    "class number(object):\n",
    "    def __init__(self):\n",
    "        print (\"\")\n",
    "    def sum(self,a,b):\n",
    "        return a+b\n",
    "    \n",
    "class int_number(number):\n",
    "    def __init__(self):\n",
    "        print (\"\")\n",
    "    def sum(self,a,b):\n",
    "        return \"{0}+{1}={2}\".format(a,b,a+b)\n",
    "    \n",
    "obj = number()\n",
    "print(obj.sum(1,2))\n",
    "\n",
    "obj_int_number = int_number()\n",
    "print(obj_int_number.sum(1,2))"
   ]
  },
  {
   "cell_type": "markdown",
   "metadata": {},
   "source": [
    "## Exceptions"
   ]
  },
  {
   "cell_type": "markdown",
   "metadata": {},
   "source": [
    "#### Example 1 - io error"
   ]
  },
  {
   "cell_type": "code",
   "execution_count": 18,
   "metadata": {},
   "outputs": [
    {
     "name": "stdout",
     "output_type": "stream",
     "text": [
      "this is exception handling\n",
      "read from file successful\n"
     ]
    }
   ],
   "source": [
    "try:\n",
    "    fh = open(\"testfile.txt\", \"r\")\n",
    "    print(fh.read())\n",
    "except IOError:\n",
    "    print(\"Error: can't find file or read data\")\n",
    "    fh = open(\"testfile.txt\",\"w\")\n",
    "    fh.write(\"this is exception handling example 1\")\n",
    "    fh.close()\n",
    "else:\n",
    "    print \"read from file successful\"\n",
    "    fh.close()\n",
    "    \n",
    "# At first attempt error will be generated, and new file will be created\n",
    "# At second attempt file reading will be successful"
   ]
  },
  {
   "cell_type": "markdown",
   "metadata": {},
   "source": [
    "#### Example 2 - type error"
   ]
  },
  {
   "cell_type": "code",
   "execution_count": 20,
   "metadata": {},
   "outputs": [
    {
     "name": "stdout",
     "output_type": "stream",
     "text": [
      "Hey, its general error\n"
     ]
    }
   ],
   "source": [
    "try:\n",
    "    fh = open(\"testfile.txt\", \"w\")\n",
    "    fh.write(\"this is exception handling example 2 with type error\" + 123)\n",
    "\n",
    "except IOError:\n",
    "    print(\"Error: can't find file or read data\")\n",
    "\n",
    "except:\n",
    "    print(\"Hey, its general error\")\n",
    "    \n",
    "else:\n",
    "    print \"read from file successful\"\n",
    "    fh.close()"
   ]
  },
  {
   "cell_type": "markdown",
   "metadata": {},
   "source": [
    "#### Example 3 - Exception as e"
   ]
  },
  {
   "cell_type": "code",
   "execution_count": 37,
   "metadata": {},
   "outputs": [
    {
     "name": "stdout",
     "output_type": "stream",
     "text": [
      "Hey, its general error. cannot concatenate 'str' and 'int' objects\n"
     ]
    }
   ],
   "source": [
    "try:\n",
    "    fh = open(\"testfile.txt\", \"r\")\n",
    "    fh.write(\"this is exception handling example 2 with type error\" + 123)\n",
    "    \n",
    "except IOError:\n",
    "    print(\"Error: can't find file or read data\")\n",
    "\n",
    "except Exception as e:\n",
    "    print(\"Hey, its general error. \" + str(e))\n",
    "    \n",
    "else:\n",
    "    print \"read from file successful\"\n",
    "    fh.close()"
   ]
  },
  {
   "cell_type": "markdown",
   "metadata": {},
   "source": [
    "#### Example 4 - nested error"
   ]
  },
  {
   "cell_type": "code",
   "execution_count": 43,
   "metadata": {},
   "outputs": [
    {
     "name": "stdout",
     "output_type": "stream",
     "text": [
      "Going to close file\n"
     ]
    }
   ],
   "source": [
    "try:\n",
    "    fh = open(\"testfile.txt\", \"w\")\n",
    "    try:\n",
    "        fh.write(\"this is exception handling example 4 with nested try\")\n",
    "    finally:\n",
    "        print \"Going to close file\"\n",
    "        fh.close()\n",
    "except IOError:\n",
    "    print(\"Error: can't find file or read data\")\n",
    "        "
   ]
  },
  {
   "cell_type": "code",
   "execution_count": 44,
   "metadata": {},
   "outputs": [
    {
     "name": "stdout",
     "output_type": "stream",
     "text": [
      "Going to close file\n",
      "Error: can't find file or read data\n"
     ]
    }
   ],
   "source": [
    "try:\n",
    "    fh = open(\"testfile.txt\", \"r\")\n",
    "    try:\n",
    "        fh.write(\"this is exception handling example 4 with nested try\")\n",
    "    finally:\n",
    "        print \"Going to close file\"\n",
    "        fh.close()\n",
    "except IOError:\n",
    "    print(\"Error: can't find file or read data\")"
   ]
  },
  {
   "cell_type": "markdown",
   "metadata": {},
   "source": [
    "#### Example 5 - User defined exceptions"
   ]
  },
  {
   "cell_type": "code",
   "execution_count": 52,
   "metadata": {},
   "outputs": [
    {
     "name": "stdout",
     "output_type": "stream",
     "text": [
      "insert greater than 0 : -5\n",
      "A user defined exception has occured : Value should begreater han 0\n"
     ]
    }
   ],
   "source": [
    "class MyError(Exception):\n",
    "    def __init__(self, value):\n",
    "        self.value = value\n",
    "        \n",
    "    def __str__(self):\n",
    "        return(repr(self.value))\n",
    "\n",
    "try:\n",
    "    i = input(\"insert greater than 0 : \")\n",
    "    if i<0:\n",
    "        raise(MyError(\"Value should begreater han 0\"))\n",
    "        \n",
    "except MyError as error:\n",
    "    print(\"A user defined exception has occured : \" + error.value)"
   ]
  }
 ],
 "metadata": {
  "kernelspec": {
   "display_name": "Python 2",
   "language": "python",
   "name": "python2"
  },
  "language_info": {
   "codemirror_mode": {
    "name": "ipython",
    "version": 2
   },
   "file_extension": ".py",
   "mimetype": "text/x-python",
   "name": "python",
   "nbconvert_exporter": "python",
   "pygments_lexer": "ipython2",
   "version": "2.7.15"
  }
 },
 "nbformat": 4,
 "nbformat_minor": 2
}

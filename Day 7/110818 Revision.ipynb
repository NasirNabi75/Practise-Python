{
  "cells": [
    {
      "cell_type": "markdown",
      "source": [
        "Main vesions of Python Version 2 and 3\n",
        "Basic diffrence - Object oriented programing by default in 3, functional oriented programming in 2\n",
        "\n",
        "dynamic variables - assign variable datatype automatically\n",
        "basic datatypes - number and sring\n",
        "\n",
        "indexing of string\n",
        "s=\"Hello\"\n",
        "index start with 0 to 4\n",
        "length starts at 1 = 5\n",
        "index -1 will start string from last character\n",
        "s[0][1][3]=h e l\n",
        "\n",
        "function - type(variable)\n",
        "\n\n",
        "2 vs 3\n",
        "range - xrange"
      ],
      "metadata": {}
    },
    {
      "cell_type": "code",
      "source": [
        "s=\"Hello\"\n",
        "s[0]"
      ],
      "outputs": [
        {
          "output_type": "execute_result",
          "execution_count": 2,
          "data": {
            "text/plain": [
              "'H'"
            ]
          },
          "metadata": {}
        }
      ],
      "execution_count": 2,
      "metadata": {}
    },
    {
      "cell_type": "code",
      "source": [
        "s=\"You are the best\"\n",
        "s[4:7] #slicing (end-1)"
      ],
      "outputs": [
        {
          "output_type": "execute_result",
          "execution_count": 7,
          "data": {
            "text/plain": [
              "'are'"
            ]
          },
          "metadata": {}
        }
      ],
      "execution_count": 7,
      "metadata": {}
    },
    {
      "cell_type": "code",
      "source": [
        "#s[1:10]\n",
        "#s[::2] # Complete string lettere alternatively\n",
        "#s[::-1] # Reverse printing of string\n",
        "#s[-1:-10]\n",
        "#s[-1:-10:-1]\n",
        "#s[-10:-1]\n",
        "#s[1:-10]\n",
        "#s[:-10]\n",
        "#s[-10:]"
      ],
      "outputs": [
        {
          "output_type": "execute_result",
          "execution_count": 26,
          "data": {
            "text/plain": [
              "'tseb eht era uoY'"
            ]
          },
          "metadata": {}
        }
      ],
      "execution_count": 26,
      "metadata": {}
    },
    {
      "cell_type": "markdown",
      "source": [
        "## String Metods"
      ],
      "metadata": {}
    },
    {
      "cell_type": "code",
      "source": [
        "#String is immutable datatype\n",
        "y=\"Abc\""
      ],
      "outputs": [],
      "execution_count": 36,
      "metadata": {}
    },
    {
      "cell_type": "markdown",
      "source": [
        "#### Upper"
      ],
      "metadata": {}
    },
    {
      "cell_type": "code",
      "source": [
        "print(y.upper())"
      ],
      "outputs": [
        {
          "output_type": "stream",
          "name": "stdout",
          "text": [
            "ABC\n"
          ]
        }
      ],
      "execution_count": 37,
      "metadata": {}
    },
    {
      "cell_type": "markdown",
      "source": [
        "#### Lower"
      ],
      "metadata": {}
    },
    {
      "cell_type": "code",
      "source": [
        "print(y.lower())"
      ],
      "outputs": [
        {
          "output_type": "stream",
          "name": "stdout",
          "text": [
            "abc\n"
          ]
        }
      ],
      "execution_count": 40,
      "metadata": {}
    },
    {
      "cell_type": "markdown",
      "source": [
        "#### Find"
      ],
      "metadata": {}
    },
    {
      "cell_type": "code",
      "source": [
        "a=\"Hello world\""
      ],
      "outputs": [],
      "execution_count": 46,
      "metadata": {}
    },
    {
      "cell_type": "code",
      "source": [
        "a.find(\"llo\") #will return index from it starts"
      ],
      "outputs": [
        {
          "output_type": "execute_result",
          "execution_count": 49,
          "data": {
            "text/plain": [
              "2"
            ]
          },
          "metadata": {}
        }
      ],
      "execution_count": 49,
      "metadata": {}
    },
    {
      "cell_type": "code",
      "source": [
        "a.find(\"z\")"
      ],
      "outputs": [
        {
          "output_type": "execute_result",
          "execution_count": 48,
          "data": {
            "text/plain": [
              "-1"
            ]
          },
          "metadata": {}
        }
      ],
      "execution_count": 48,
      "metadata": {}
    },
    {
      "cell_type": "markdown",
      "source": [
        "#### Count"
      ],
      "metadata": {}
    },
    {
      "cell_type": "code",
      "source": [
        "a.count(\"l\")"
      ],
      "outputs": [
        {
          "output_type": "execute_result",
          "execution_count": 50,
          "data": {
            "text/plain": [
              "3"
            ]
          },
          "metadata": {}
        }
      ],
      "execution_count": 50,
      "metadata": {}
    },
    {
      "cell_type": "markdown",
      "source": [
        "#### replace"
      ],
      "metadata": {}
    },
    {
      "cell_type": "code",
      "source": [
        "a.replace(\"l\",\"L\")"
      ],
      "outputs": [
        {
          "output_type": "execute_result",
          "execution_count": 51,
          "data": {
            "text/plain": [
              "'HeLLo worLd'"
            ]
          },
          "metadata": {}
        }
      ],
      "execution_count": 51,
      "metadata": {}
    },
    {
      "cell_type": "code",
      "source": [
        "a"
      ],
      "outputs": [
        {
          "output_type": "execute_result",
          "execution_count": 52,
          "data": {
            "text/plain": [
              "'Hello world'"
            ]
          },
          "metadata": {}
        }
      ],
      "execution_count": 52,
      "metadata": {}
    },
    {
      "cell_type": "markdown",
      "source": [
        "#### Len"
      ],
      "metadata": {}
    },
    {
      "cell_type": "code",
      "source": [
        "print(len(y))"
      ],
      "outputs": [
        {
          "output_type": "stream",
          "name": "stdout",
          "text": [
            "3\n"
          ]
        }
      ],
      "execution_count": 35,
      "metadata": {}
    },
    {
      "cell_type": "markdown",
      "source": [
        "## Math Libary"
      ],
      "metadata": {}
    },
    {
      "cell_type": "code",
      "source": [
        "import math\n",
        "z=math.log(0.12)\n",
        "z"
      ],
      "outputs": [
        {
          "output_type": "execute_result",
          "execution_count": 54,
          "data": {
            "text/plain": [
              "-2.120263536200091"
            ]
          },
          "metadata": {}
        }
      ],
      "execution_count": 54,
      "metadata": {}
    },
    {
      "cell_type": "code",
      "source": [
        "z=math.log10(0.36)\n",
        "z"
      ],
      "outputs": [
        {
          "output_type": "execute_result",
          "execution_count": 56,
          "data": {
            "text/plain": [
              "-0.44369749923271273"
            ]
          },
          "metadata": {}
        }
      ],
      "execution_count": 56,
      "metadata": {}
    },
    {
      "cell_type": "code",
      "source": [
        "print(math.ceil(10.01))\n",
        "print(math.floor(9.99))\n",
        "print(math.exp(1))\n",
        "print(math.modf(-2.14))\n",
        "print(math.sqrt(100))\n",
        "print(cmp(1,2)) # cmp(a,b) if a<b =-1 else if a=b =0 else a>b =+1\n",
        "print(max(1,2,3))\n",
        "print(min(1,2,3))"
      ],
      "outputs": [
        {
          "output_type": "stream",
          "name": "stdout",
          "text": [
            "11.0\n",
            "9.0\n",
            "2.71828182846\n",
            "(-0.14000000000000012, -2.0)\n",
            "10.0\n",
            "-1\n",
            "3\n",
            "1\n"
          ]
        }
      ],
      "execution_count": 64,
      "metadata": {}
    },
    {
      "cell_type": "markdown",
      "source": [
        "## List Tuple Dictionaries"
      ],
      "metadata": {}
    },
    {
      "cell_type": "markdown",
      "source": [
        "list and tuple are hetrogeneous datatypes\n",
        "\n",
        "list [] - tuple(immutable, cant change single element inside tuple), list(mutable), dict, num, string \n",
        "\n",
        "tuple () - \n",
        "\n",
        "dict {} - Key value paired datatype, key must be unique, to get value inside a dictionary key needs to be unique, immutable datatypes are alllowed for key. tuple should have unique elements\n"
      ],
      "metadata": {}
    },
    {
      "cell_type": "markdown",
      "source": [
        "## List"
      ],
      "metadata": {}
    },
    {
      "cell_type": "code",
      "source": [
        "li=[]\n",
        "type(li)"
      ],
      "outputs": [
        {
          "output_type": "execute_result",
          "execution_count": 2,
          "data": {
            "text/plain": [
              "list"
            ]
          },
          "metadata": {}
        }
      ],
      "execution_count": 2,
      "metadata": {}
    },
    {
      "cell_type": "code",
      "source": [
        "li=[1,2,3]\n",
        "li"
      ],
      "outputs": [
        {
          "output_type": "execute_result",
          "execution_count": 3,
          "data": {
            "text/plain": [
              "[1, 2, 3]"
            ]
          },
          "metadata": {}
        }
      ],
      "execution_count": 3,
      "metadata": {}
    },
    {
      "cell_type": "code",
      "source": [
        "li=list()\n",
        "li"
      ],
      "outputs": [
        {
          "output_type": "execute_result",
          "execution_count": 4,
          "data": {
            "text/plain": [
              "[]"
            ]
          },
          "metadata": {}
        }
      ],
      "execution_count": 4,
      "metadata": {}
    },
    {
      "cell_type": "code",
      "source": [
        "li=list((1,2,3))\n",
        "li"
      ],
      "outputs": [
        {
          "output_type": "execute_result",
          "execution_count": 5,
          "data": {
            "text/plain": [
              "[1, 2, 3]"
            ]
          },
          "metadata": {}
        }
      ],
      "execution_count": 5,
      "metadata": {}
    },
    {
      "cell_type": "code",
      "source": [
        "li.append(5,6) #will give error\n",
        "li"
      ],
      "outputs": [
        {
          "output_type": "error",
          "ename": "TypeError",
          "evalue": "append() takes exactly one argument (2 given)",
          "traceback": [
            "\u001b[1;31m\u001b[0m",
            "\u001b[1;31mTypeError\u001b[0mTraceback (most recent call last)",
            "\u001b[1;32m<ipython-input-6-7cbc320d5c71>\u001b[0m in \u001b[0;36m<module>\u001b[1;34m()\u001b[0m\n\u001b[1;32m----> 1\u001b[1;33m \u001b[0mli\u001b[0m\u001b[1;33m.\u001b[0m\u001b[0mappend\u001b[0m\u001b[1;33m(\u001b[0m\u001b[1;36m5\u001b[0m\u001b[1;33m,\u001b[0m\u001b[1;36m6\u001b[0m\u001b[1;33m)\u001b[0m\u001b[1;33m\u001b[0m\u001b[0m\n\u001b[0m\u001b[0;32m      2\u001b[0m \u001b[0mli\u001b[0m\u001b[1;33m\u001b[0m\u001b[0m\n",
            "\u001b[1;31mTypeError\u001b[0m: append() takes exactly one argument (2 given)"
          ]
        }
      ],
      "execution_count": 6,
      "metadata": {}
    },
    {
      "cell_type": "code",
      "source": [
        "li.append((5))\n",
        "li"
      ],
      "outputs": [
        {
          "output_type": "execute_result",
          "execution_count": 75,
          "data": {
            "text/plain": [
              "[1, 2, 3, (5, 6), 5]"
            ]
          },
          "metadata": {}
        }
      ],
      "execution_count": 75,
      "metadata": {}
    },
    {
      "cell_type": "code",
      "source": [
        "li.extend(7) #will give error\n",
        "li"
      ],
      "outputs": [
        {
          "output_type": "error",
          "ename": "TypeError",
          "evalue": "'int' object is not iterable",
          "traceback": [
            "\u001b[1;31m\u001b[0m",
            "\u001b[1;31mTypeError\u001b[0mTraceback (most recent call last)",
            "\u001b[1;32m<ipython-input-74-64077dd6f753>\u001b[0m in \u001b[0;36m<module>\u001b[1;34m()\u001b[0m\n\u001b[1;32m----> 1\u001b[1;33m \u001b[0mli\u001b[0m\u001b[1;33m.\u001b[0m\u001b[0mextend\u001b[0m\u001b[1;33m(\u001b[0m\u001b[1;36m7\u001b[0m\u001b[1;33m)\u001b[0m\u001b[1;33m\u001b[0m\u001b[0m\n\u001b[0m\u001b[0;32m      2\u001b[0m \u001b[0mli\u001b[0m\u001b[1;33m\u001b[0m\u001b[0m\n",
            "\u001b[1;31mTypeError\u001b[0m: 'int' object is not iterable"
          ]
        }
      ],
      "execution_count": 74,
      "metadata": {}
    },
    {
      "cell_type": "code",
      "source": [
        "li.extend((7,))\n",
        "li"
      ],
      "outputs": [
        {
          "output_type": "execute_result",
          "execution_count": 80,
          "data": {
            "text/plain": [
              "[1, 2, 3, (5, 6), 5, 8, 9, 7]"
            ]
          },
          "metadata": {}
        }
      ],
      "execution_count": 80,
      "metadata": {}
    },
    {
      "cell_type": "code",
      "source": [
        "li.insert(0,-1)\n",
        "li"
      ],
      "outputs": [
        {
          "output_type": "execute_result",
          "execution_count": 81,
          "data": {
            "text/plain": [
              "[-1, 1, 2, 3, (5, 6), 5, 8, 9, 7]"
            ]
          },
          "metadata": {}
        }
      ],
      "execution_count": 81,
      "metadata": {}
    },
    {
      "cell_type": "code",
      "source": [
        "li.remove(-1)\n",
        "li"
      ],
      "outputs": [
        {
          "output_type": "execute_result",
          "execution_count": 82,
          "data": {
            "text/plain": [
              "[1, 2, 3, (5, 6), 5, 8, 9, 7]"
            ]
          },
          "metadata": {}
        }
      ],
      "execution_count": 82,
      "metadata": {}
    },
    {
      "cell_type": "code",
      "source": [
        "li.remove(-10) #will give error\n",
        "li"
      ],
      "outputs": [
        {
          "output_type": "error",
          "ename": "ValueError",
          "evalue": "list.remove(x): x not in list",
          "traceback": [
            "\u001b[1;31m\u001b[0m",
            "\u001b[1;31mValueError\u001b[0mTraceback (most recent call last)",
            "\u001b[1;32m<ipython-input-83-9cd3d5221bea>\u001b[0m in \u001b[0;36m<module>\u001b[1;34m()\u001b[0m\n\u001b[1;32m----> 1\u001b[1;33m \u001b[0mli\u001b[0m\u001b[1;33m.\u001b[0m\u001b[0mremove\u001b[0m\u001b[1;33m(\u001b[0m\u001b[1;33m-\u001b[0m\u001b[1;36m10\u001b[0m\u001b[1;33m)\u001b[0m\u001b[1;33m\u001b[0m\u001b[0m\n\u001b[0m\u001b[0;32m      2\u001b[0m \u001b[0mli\u001b[0m\u001b[1;33m\u001b[0m\u001b[0m\n",
            "\u001b[1;31mValueError\u001b[0m: list.remove(x): x not in list"
          ]
        }
      ],
      "execution_count": 83,
      "metadata": {}
    },
    {
      "cell_type": "code",
      "source": [
        "li.remove((5,6))\n",
        "li"
      ],
      "outputs": [
        {
          "output_type": "execute_result",
          "execution_count": 84,
          "data": {
            "text/plain": [
              "[1, 2, 3, 5, 8, 9, 7]"
            ]
          },
          "metadata": {}
        }
      ],
      "execution_count": 84,
      "metadata": {}
    },
    {
      "cell_type": "code",
      "source": [
        "del li[0]\n",
        "li"
      ],
      "outputs": [
        {
          "output_type": "execute_result",
          "execution_count": 88,
          "data": {
            "text/plain": [
              "[8, 9, 7]"
            ]
          },
          "metadata": {}
        }
      ],
      "execution_count": 88,
      "metadata": {}
    },
    {
      "cell_type": "markdown",
      "source": [
        "## Tuple"
      ],
      "metadata": {}
    },
    {
      "cell_type": "code",
      "source": [
        "a=1,2,3\n",
        "b=(2,3)\n",
        "c=tuple([4,5,6])\n",
        "d=a+b+c\n",
        "print(a)\n",
        "print(b)\n",
        "print(c)\n",
        "print(d)"
      ],
      "outputs": [
        {
          "output_type": "stream",
          "name": "stdout",
          "text": [
            "(1, 2, 3)\n",
            "(2, 3)\n",
            "(4, 5, 6)\n",
            "(1, 2, 3, 2, 3, 4, 5, 6)\n"
          ]
        }
      ],
      "execution_count": 93,
      "metadata": {}
    },
    {
      "cell_type": "code",
      "source": [
        "y=(\"Hi\",\"Ho\")\n",
        "y*2"
      ],
      "outputs": [
        {
          "output_type": "execute_result",
          "execution_count": 92,
          "data": {
            "text/plain": [
              "('Hi', 'Ho', 'Hi', 'Ho')"
            ]
          },
          "metadata": {}
        }
      ],
      "execution_count": 92,
      "metadata": {}
    },
    {
      "cell_type": "code",
      "source": [
        "a=(1,2,3)\n",
        "print(1 in a)\n",
        "print(4 in a)"
      ],
      "outputs": [
        {
          "output_type": "stream",
          "name": "stdout",
          "text": [
            "True\n",
            "False\n"
          ]
        }
      ],
      "execution_count": 95,
      "metadata": {}
    },
    {
      "cell_type": "markdown",
      "source": [
        "## Dictionaries"
      ],
      "metadata": {}
    },
    {
      "cell_type": "code",
      "source": [
        "a={1:\"a\",\n",
        "  \"b\":2}\n",
        "b=dict({})\n",
        "c={\"name\":\"alex\",\n",
        "  \"age\":5,\n",
        "  \"country\":\"USA\"}\n",
        "c[\"age\"]=10\n",
        "print(c)"
      ],
      "outputs": [
        {
          "output_type": "stream",
          "name": "stdout",
          "text": [
            "{'country': 'USA', 'age': 10, 'name': 'alex'}\n"
          ]
        }
      ],
      "execution_count": 105,
      "metadata": {}
    },
    {
      "cell_type": "code",
      "source": [
        "a={\"name\":\"alex\",\n",
        "  \"age\":5,\n",
        "  \"country\":\"USA\"}\n",
        "print(a.keys())\n",
        "print(a.values())\n",
        "print(a.items())"
      ],
      "outputs": [
        {
          "output_type": "stream",
          "name": "stdout",
          "text": [
            "['country', 'age', 'name']\n",
            "['USA', 5, 'alex']\n",
            "[('country', 'USA'), ('age', 5), ('name', 'alex')]\n"
          ]
        }
      ],
      "execution_count": 107,
      "metadata": {}
    }
  ],
  "metadata": {
    "kernelspec": {
      "name": "python2",
      "language": "python",
      "display_name": "Python 2"
    },
    "language_info": {
      "mimetype": "text/x-python",
      "nbconvert_exporter": "python",
      "name": "python",
      "pygments_lexer": "ipython2",
      "version": "2.7.13",
      "file_extension": ".py",
      "codemirror_mode": {
        "version": 2,
        "name": "ipython"
      }
    },
    "kernel_info": {
      "name": "python2"
    },
    "nteract": {
      "version": "0.11.4"
    }
  },
  "nbformat": 4,
  "nbformat_minor": 2
}
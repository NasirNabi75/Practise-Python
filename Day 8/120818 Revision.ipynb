{
  "cells": [
    {
      "cell_type": "markdown",
      "source": [
        "## Conditional Formatting"
      ],
      "metadata": {}
    },
    {
      "cell_type": "markdown",
      "source": [
        "#### if condition"
      ],
      "metadata": {}
    },
    {
      "cell_type": "code",
      "source": [
        "input_id = raw_input(\"Please  enter your user id : \")\n",
        "input_pass = raw_input(\"Please enter password : \")\n",
        "\n",
        "if(input_id==\"\" or input_pass==\"\"):\n",
        "    print(\"Please input your ID PASS.\")\n",
        "elif(input_id==input_pass):\n",
        "    print(\"Please do not enter ID PASS same.\")\n",
        "else:\n",
        "    print(input_id,\"Hey, \",input_pass,\" is cool\")"
      ],
      "outputs": [
        {
          "output_type": "stream",
          "name": "stdout",
          "text": [
            "Please  enter your user id : 10\n",
            "Please enter password : 20\n",
            "('10', 'Hey, ', '20', ' is cool')\n"
          ]
        }
      ],
      "execution_count": 8,
      "metadata": {}
    },
    {
      "cell_type": "markdown",
      "source": [
        "#### for loop"
      ],
      "metadata": {}
    },
    {
      "cell_type": "code",
      "source": [
        "li=[\"I\",\"N\",\"D\",\"I\",\"A\"]\n",
        "final_str=\"\" #Scope of variable is outside fo loop, since even if for loop never gets executed variable will not give problem\n",
        "\n",
        "for i in li:\n",
        "    final_str = final_str + i\n",
        "\n",
        "final_str\n",
        "#Sequential data type - Tuple List Dictionary\n",
        "#-----------------------------------------------------\n",
        "li2=[]\n",
        "for i in final_str:\n",
        "    li2.append(i)\n",
        "print(li2)\n",
        "#-----------------------------------------------------\n",
        "newli=[]\n",
        "for i in range(len(final_str)):\n",
        "    newli.append(final_str[i])\n",
        "print(newli)\n",
        "#-----------------------------------------------------\n",
        "\n",
        "a=\"a b c\"\n",
        "li3=a.split()\n",
        "print(li3)\n",
        "\n",
        "b=\"a,b,c\"\n",
        "li4=b.split(\",\")\n",
        "print(li4)\n",
        "#-----------------------------------------------------\n"
      ],
      "outputs": [
        {
          "output_type": "stream",
          "name": "stdout",
          "text": [
            "['I', 'N', 'D', 'I', 'A']\n",
            "['I', 'N', 'D', 'I', 'A']\n",
            "['a', 'b', 'c']\n",
            "['a', 'b', 'c']\n"
          ]
        }
      ],
      "execution_count": 44,
      "metadata": {}
    },
    {
      "cell_type": "markdown",
      "source": [
        "Google - which function is used to convert list to string"
      ],
      "metadata": {}
    },
    {
      "cell_type": "markdown",
      "source": [
        "#### while loop"
      ],
      "metadata": {}
    },
    {
      "cell_type": "code",
      "source": [
        "import time\n",
        "\n",
        "while True:\n",
        "    print(time.ctime())\n",
        "    time.sleep(1)\n"
      ],
      "outputs": [
        {
          "output_type": "stream",
          "name": "stdout",
          "text": [
            "Mon Aug 13 11:54:21 2018\n",
            "Mon Aug 13 11:54:22 2018\n",
            "Mon Aug 13 11:54:23 2018\n",
            "Mon Aug 13 11:54:24 2018\n",
            "Mon Aug 13 11:54:25 2018\n",
            "Mon Aug 13 11:54:26 2018\n",
            "Mon Aug 13 11:54:27 2018\n",
            "Mon Aug 13 11:54:28 2018\n",
            "Mon Aug 13 11:54:29 2018\n",
            "Mon Aug 13 11:54:30 2018\n",
            "Mon Aug 13 11:54:31 2018\n",
            "Mon Aug 13 11:54:32 2018\n",
            "Mon Aug 13 11:54:33 2018\n",
            "Mon Aug 13 11:54:34 2018\n",
            "Mon Aug 13 11:54:35 2018\n",
            "Mon Aug 13 11:54:36 2018\n",
            "Mon Aug 13 11:54:37 2018\n"
          ]
        }
      ],
      "execution_count": 2,
      "metadata": {}
    },
    {
      "cell_type": "code",
      "source": [
        "a=\"abcd\"\n",
        "\n",
        "while a:\n",
        "    print(a)\n",
        "    a=a[:-1]"
      ],
      "outputs": [
        {
          "output_type": "stream",
          "name": "stdout",
          "text": [
            "abcd\n",
            "abc\n",
            "ab\n",
            "a\n"
          ]
        }
      ],
      "execution_count": 58,
      "metadata": {}
    }
  ],
  "metadata": {
    "kernelspec": {
      "name": "python2",
      "language": "python",
      "display_name": "Python 2"
    },
    "language_info": {
      "mimetype": "text/x-python",
      "nbconvert_exporter": "python",
      "name": "python",
      "pygments_lexer": "ipython2",
      "version": "2.7.13",
      "file_extension": ".py",
      "codemirror_mode": {
        "version": 2,
        "name": "ipython"
      }
    },
    "kernel_info": {
      "name": "python2"
    },
    "nteract": {
      "version": "0.11.4"
    }
  },
  "nbformat": 4,
  "nbformat_minor": 2
}
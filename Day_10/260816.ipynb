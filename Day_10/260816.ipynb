{
 "cells": [
  {
   "cell_type": "markdown",
   "metadata": {},
   "source": [
    "## Multi-Level Inheritance"
   ]
  },
  {
   "cell_type": "code",
   "execution_count": 1,
   "metadata": {},
   "outputs": [
    {
     "name": "stdout",
     "output_type": "stream",
     "text": [
      "Saving Account\n",
      "Your remaining amount is : 90000\n",
      "Your remaining amount is : 80000\n",
      "Your withdraw balance amount is not matching minimum balance Bank rules\n"
     ]
    }
   ],
   "source": [
    "class hdfc(object): # Super Parent Class\n",
    "    def __init__(self):\n",
    "        print (\"HDFC Bank\")\n",
    "    def minBankBalance(self):\n",
    "        return 10000 # this much must be mintained in account as per bank rule\n",
    "    \n",
    "class accoutDept(hdfc): # Parent Class\n",
    "    def __init__(self):\n",
    "        print (\"Account Dept\")\n",
    "    def minAccountBalance(self):\n",
    "        return self.minBankBalance()\n",
    "\n",
    "class savingAccount(accoutDept): # Child Class\n",
    "    def __init__(self, bal):\n",
    "        self.balance = bal\n",
    "        print(\"Saving Account\")\n",
    "        \n",
    "    def withdrawBalance(self, withdrawAmount):\n",
    "        if withdrawAmount+self.minAccountBalance() <= self.balance:\n",
    "            self.balance = self.balance - withdrawAmount\n",
    "            print(\"Your remaining amount is : \" + str(self.balance))\n",
    "        else:\n",
    "            print(\"Your withdraw balance amount is not matching minimum balance Bank rules\")\n",
    "\n",
    "objSavingAccount = savingAccount(100000)\n",
    "objSavingAccount.withdrawBalance(10000)\n",
    "objSavingAccount.withdrawBalance(10000)\n",
    "objSavingAccount.withdrawBalance(80000)\n"
   ]
  },
  {
   "cell_type": "markdown",
   "metadata": {},
   "source": [
    "## Multiple Inheritance"
   ]
  },
  {
   "cell_type": "code",
   "execution_count": 2,
   "metadata": {},
   "outputs": [
    {
     "name": "stdout",
     "output_type": "stream",
     "text": [
      "Petrol Pump Account\n",
      "60.0\n"
     ]
    }
   ],
   "source": [
    "class centralTax(object):\n",
    "    def __init__(self):\n",
    "        print(\"Central Tax\")\n",
    "    def taxCT(self):\n",
    "        return 10\n",
    "        \n",
    "class stateTax(object):\n",
    "    def __init__(self):\n",
    "        print(\"State Tax\")\n",
    "    def taxST(self):\n",
    "        return 10\n",
    "\n",
    "# \\ is used to continue expression on next line\n",
    "class petrolPumpAccouunts(centralTax, stateTax):\n",
    "    def __init__(self, petrolPrice):\n",
    "        self.petrol = petrolPrice\n",
    "        print(\"Petrol Pump Account\")\n",
    "    def petrolWithTax(self):\n",
    "        self.petrol = self.petrol + \\\n",
    "        float(self.taxCT() * (self.petrol)/100) + \\\n",
    "        float(self.taxST() * (self.petrol)/100)\n",
    "        print(self.petrol)\n",
    "\n",
    "obj = petrolPumpAccouunts(50)\n",
    "obj.petrolWithTax()"
   ]
  },
  {
   "cell_type": "markdown",
   "metadata": {},
   "source": [
    "## Data Hiding"
   ]
  },
  {
   "cell_type": "markdown",
   "metadata": {},
   "source": [
    "#### Example 1"
   ]
  },
  {
   "cell_type": "code",
   "execution_count": 3,
   "metadata": {},
   "outputs": [
    {
     "name": "stdout",
     "output_type": "stream",
     "text": [
      "State Tax\n",
      "__test\n"
     ]
    },
    {
     "ename": "AttributeError",
     "evalue": "'stateTax' object has no attribute '__test'",
     "output_type": "error",
     "traceback": [
      "\u001b[1;31m\u001b[0m",
      "\u001b[1;31mAttributeError\u001b[0mTraceback (most recent call last)",
      "\u001b[1;32m<ipython-input-3-786715f3e3ee>\u001b[0m in \u001b[0;36m<module>\u001b[1;34m()\u001b[0m\n\u001b[0;32m     34\u001b[0m \u001b[0mobj_StateTax\u001b[0m \u001b[1;33m=\u001b[0m \u001b[0mstateTax\u001b[0m\u001b[1;33m(\u001b[0m\u001b[1;33m)\u001b[0m\u001b[1;33m\u001b[0m\u001b[0m\n\u001b[0;32m     35\u001b[0m \u001b[0mobj_StateTax\u001b[0m\u001b[1;33m.\u001b[0m\u001b[0mtaxST\u001b[0m\u001b[1;33m(\u001b[0m\u001b[1;33m)\u001b[0m \u001b[1;31m# __test is printed as __test() is accessed internally by taxST() in stateTax class\u001b[0m\u001b[1;33m\u001b[0m\u001b[0m\n\u001b[1;32m---> 36\u001b[1;33m \u001b[0mobj_StateTax\u001b[0m\u001b[1;33m.\u001b[0m\u001b[0m__test\u001b[0m\u001b[1;33m(\u001b[0m\u001b[1;33m)\u001b[0m \u001b[1;31m# but direct access to __test() will give expected error of data hiding\u001b[0m\u001b[1;33m\u001b[0m\u001b[0m\n\u001b[0m",
      "\u001b[1;31mAttributeError\u001b[0m: 'stateTax' object has no attribute '__test'"
     ]
    }
   ],
   "source": [
    "# any variable or any function can be ristricted to only scope of class\n",
    "# by defining it with two underscore at start e.g. __test()\n",
    "\n",
    "class centralTax(object):\n",
    "    def __init__(self):\n",
    "        print(\"Central Tax\")\n",
    "    def taxCT(self):\n",
    "        return 10\n",
    "        \n",
    "class stateTax(object):\n",
    "    def __init__(self):\n",
    "        print(\"State Tax\")\n",
    "    def taxST(self):\n",
    "        self.__test() # __test() is accessible internally in stateTax class only\n",
    "        return 10\n",
    "    def __test(self):\n",
    "        print(\"__test\")\n",
    "        \n",
    "# \\ is used to continue expression on next line\n",
    "class petrolPumpAccouunts(centralTax, stateTax):\n",
    "    def __init__(self, petrolPrice):\n",
    "        self.petrol = petrolPrice\n",
    "        print(\"Petrol Pump Account\")\n",
    "    def petrolWithTax(self):\n",
    "        self.petrol = self.petrol + \\\n",
    "        float(self.taxCT() * (self.petrol)/100) + \\\n",
    "        float(self.taxST() * (self.petrol)/100)\n",
    "        print(self.petrol)\n",
    "        print(self.__test)\n",
    "\n",
    "#---------------------------Set 1---------------------------------\n",
    "#obj = petrolPumpAccouunts(50)\n",
    "#obj.__test() # will give expected error of data hiding\n",
    "\n",
    "#---------------------------Set 2---------------------------------\n",
    "obj_StateTax = stateTax()\n",
    "obj_StateTax.taxST() # __test is printed as __test() is accessed internally by taxST() in stateTax class\n",
    "obj_StateTax.__test() # but direct access to __test() will give expected error of data hiding"
   ]
  },
  {
   "cell_type": "markdown",
   "metadata": {},
   "source": [
    "#### Example 2"
   ]
  },
  {
   "cell_type": "code",
   "execution_count": 4,
   "metadata": {},
   "outputs": [
    {
     "name": "stdout",
     "output_type": "stream",
     "text": [
      "Petrol Pump Account\n",
      "60.0\n",
      "State Tax\n",
      "0\n",
      "1\n"
     ]
    },
    {
     "ename": "AttributeError",
     "evalue": "'stateTax' object has no attribute '__hide'",
     "output_type": "error",
     "traceback": [
      "\u001b[1;31m\u001b[0m",
      "\u001b[1;31mAttributeError\u001b[0mTraceback (most recent call last)",
      "\u001b[1;32m<ipython-input-4-2d497cb4e051>\u001b[0m in \u001b[0;36m<module>\u001b[1;34m()\u001b[0m\n\u001b[0;32m     39\u001b[0m \u001b[1;32mprint\u001b[0m\u001b[1;33m(\u001b[0m\u001b[0mobj_StateTax\u001b[0m\u001b[1;33m.\u001b[0m\u001b[0mhide\u001b[0m\u001b[1;33m)\u001b[0m \u001b[1;31m# checing value again for hide, this time its changed to 1\u001b[0m\u001b[1;33m\u001b[0m\u001b[0m\n\u001b[0;32m     40\u001b[0m \u001b[1;33m\u001b[0m\u001b[0m\n\u001b[1;32m---> 41\u001b[1;33m \u001b[1;32mprint\u001b[0m\u001b[1;33m(\u001b[0m\u001b[0mobj_StateTax\u001b[0m\u001b[1;33m.\u001b[0m\u001b[0m__hide\u001b[0m\u001b[1;33m)\u001b[0m \u001b[1;31m# will give expected error of data hiding, as __hide is not accessible outside stateTax class\u001b[0m\u001b[1;33m\u001b[0m\u001b[0m\n\u001b[0m",
      "\u001b[1;31mAttributeError\u001b[0m: 'stateTax' object has no attribute '__hide'"
     ]
    }
   ],
   "source": [
    "# any variable or any function can be ristricted to only scope of class\n",
    "# by defining it with two underscore at start e.g. __test()\n",
    "\n",
    "class centralTax(object):\n",
    "    def __init__(self):\n",
    "        print(\"Central Tax\")\n",
    "    def taxCT(self):\n",
    "        return 10\n",
    "        \n",
    "class stateTax(object):\n",
    "    def __init__(self):\n",
    "        self.hide = 0\n",
    "        self.__hide = 0\n",
    "        print(\"State Tax\")\n",
    "    def taxST(self):\n",
    "        return 10\n",
    "    def __setter(self, __hide):\n",
    "        self.hide = __hide\n",
    "    def call_setter(self):\n",
    "        self.__setter(1)\n",
    "\n",
    "# \\ is used to continue expression on next line\n",
    "class petrolPumpAccouunts(centralTax, stateTax):\n",
    "    def __init__(self, petrolPrice):\n",
    "        self.petrol = petrolPrice\n",
    "        print(\"Petrol Pump Account\")\n",
    "    def petrolWithTax(self):\n",
    "        self.petrol = self.petrol + \\\n",
    "        float(self.taxCT() * (self.petrol)/100) + \\\n",
    "        float(self.taxST() * (self.petrol)/100)\n",
    "        print(self.petrol)\n",
    "        #print(self.__test)\n",
    "\n",
    "obj = petrolPumpAccouunts(50)\n",
    "obj.petrolWithTax()\n",
    "\n",
    "obj_StateTax = stateTax()\n",
    "print(obj_StateTax.hide) # Print initial value of hide, its 0 due to __init__ of stateTax\n",
    "\n",
    "obj_StateTax.call_setter() # call_setter is called to set value of hide to 1, which calls internally __setter in stateTax class, no error as its valid\n",
    "print(obj_StateTax.hide) # checing value again for hide, this time its changed to 1\n",
    "\n",
    "print(obj_StateTax.__hide) # will give expected error of data hiding, as __hide is not accessible outside stateTax class"
   ]
  },
  {
   "cell_type": "markdown",
   "metadata": {},
   "source": [
    "## Diamond Problem"
   ]
  },
  {
   "cell_type": "markdown",
   "metadata": {},
   "source": [
    "#### First Example\n",
    "\n",
    "\n",
    "         Object\n",
    "       /       \\\n",
    "    Second    First\n",
    "       \\       /\n",
    "         Third"
   ]
  },
  {
   "cell_type": "code",
   "execution_count": 5,
   "metadata": {},
   "outputs": [
    {
     "name": "stdout",
     "output_type": "stream",
     "text": [
      "First\n",
      "Second\n",
      "Third\n"
     ]
    }
   ],
   "source": [
    "class First(object): # object present - MRO (Method Resolution Object)\n",
    "    def __init__(self):\n",
    "        super(First, self).__init__()\n",
    "        print(\"First\")\n",
    "        \n",
    "class Second(object):\n",
    "    def __init__(self):\n",
    "        super(Second, self).__init__()\n",
    "        print(\"Second\")\n",
    "\n",
    "class Third(Second, First): # order is importatnt, try altering order to observe output change\n",
    "    def __init__(self):\n",
    "        super(Third, self).__init__() # __init__ of parent class can be executed using super function\n",
    "        print(\"Third\")\n",
    "        \n",
    "obj = Third()\n",
    "\n",
    "# super function will pass on the call to upper level in hierarchy\n",
    "# obj will go in Third(), encounters super(), runs __init__() of its upper level that is Second and First\n",
    "# in case of same hierarchy level call will first complete task of remaining same level class in hierarchy and continue the flow.\n",
    "# here order is important in definition of \"class Third(Second, First):\"\n",
    "# MRO will fllow execution \"Class Third -> Class Second -> Class First\" and hence output will be as per \"Last Executes First Outputs\" manner"
   ]
  },
  {
   "cell_type": "markdown",
   "metadata": {},
   "source": [
    "#### Second Example v1\n",
    "\n",
    "         Number\n",
    "       /       \\\n",
    "    Second    First\n",
    "       \\       /\n",
    "         Third"
   ]
  },
  {
   "cell_type": "code",
   "execution_count": 6,
   "metadata": {},
   "outputs": [
    {
     "name": "stdout",
     "output_type": "stream",
     "text": [
      "Third\n",
      "Third\n"
     ]
    }
   ],
   "source": [
    "class Number(): # object removed\n",
    "    def __init__(self):\n",
    "        #super(First, self).__init__()\n",
    "        print(\"Number\")\n",
    "    def call_me(self):\n",
    "        print(\"Number\")\n",
    "\n",
    "class First(Number):\n",
    "    def __init__(self):\n",
    "        #super(First, self).__init__()\n",
    "        print(\"First\")\n",
    "    def call_me(self):\n",
    "        print(\"First\")\n",
    "        \n",
    "class Second(Number):\n",
    "    def __init__(self):\n",
    "        #super(Second, self).__init__()\n",
    "        print(\"Second\")\n",
    "    def call_me(self):\n",
    "        print(\"Second\")\n",
    "\n",
    "class Third(Second, First):\n",
    "    def __init__(self):\n",
    "        #super(Third, self).__init__()\n",
    "        print(\"Third\")\n",
    "    def call_me(self):\n",
    "        print(\"Third\")\n",
    "        \n",
    "obj = Third()\n",
    "obj.call_me() # call_me()will be exectuted from Class Third"
   ]
  },
  {
   "cell_type": "markdown",
   "metadata": {},
   "source": [
    "#### Second Example v2\n",
    "\n",
    "         Number\n",
    "       /       \\\n",
    "    Second    First\n",
    "       \\       /\n",
    "         Third"
   ]
  },
  {
   "cell_type": "code",
   "execution_count": 7,
   "metadata": {},
   "outputs": [
    {
     "name": "stdout",
     "output_type": "stream",
     "text": [
      "Third\n",
      "Second\n"
     ]
    }
   ],
   "source": [
    "class Number(): # object removed\n",
    "    def __init__(self):\n",
    "        #super(First, self).__init__()\n",
    "        print(\"Number\")\n",
    "    def call_me(self):\n",
    "        print(\"Number\")\n",
    "\n",
    "class First(Number):\n",
    "    def __init__(self):\n",
    "        #super(First, self).__init__()\n",
    "        print(\"First\")\n",
    "    def call_me(self):\n",
    "        print(\"First\")\n",
    "        \n",
    "class Second(Number):\n",
    "    def __init__(self):\n",
    "        #super(Second, self).__init__()\n",
    "        print(\"Second\")\n",
    "    def call_me(self):\n",
    "        print(\"Second\")\n",
    "\n",
    "class Third(Second, First):\n",
    "    def __init__(self):\n",
    "        #super(Third, self).__init__()\n",
    "        print(\"Third\")\n",
    "    #def call_me(self):\n",
    "    #    print(\"Third\")\n",
    "        \n",
    "obj = Third()\n",
    "obj.call_me() # call_me() will be exectuted from Class Second, as its commented in Third"
   ]
  },
  {
   "cell_type": "markdown",
   "metadata": {},
   "source": [
    "#### Second Example v3\n",
    "\n",
    "         Number\n",
    "       /       \\\n",
    "    Second    First\n",
    "       \\       /\n",
    "         Third"
   ]
  },
  {
   "cell_type": "code",
   "execution_count": 11,
   "metadata": {},
   "outputs": [
    {
     "name": "stdout",
     "output_type": "stream",
     "text": [
      "Third\n",
      "Number\n"
     ]
    }
   ],
   "source": [
    "class Number(): # object removed\n",
    "    def __init__(self):\n",
    "        #super(First, self).__init__()\n",
    "        print(\"Number\")\n",
    "    def call_me(self):\n",
    "        print(\"Number\")\n",
    "\n",
    "class First(Number):\n",
    "    def __init__(self):\n",
    "        #super(First, self).__init__()\n",
    "        print(\"First\")\n",
    "    def call_me(self):\n",
    "        print(\"First\")\n",
    "        \n",
    "class Second(Number):\n",
    "    def __init__(self):\n",
    "        #super(Second, self).__init__()\n",
    "        print(\"Second\")\n",
    "    #def call_me(self):\n",
    "    #    print(\"Second\")\n",
    "\n",
    "class Third(Second, First):\n",
    "    def __init__(self):\n",
    "        #super(Third, self).__init__()\n",
    "        print(\"Third\")\n",
    "    #def call_me(self):\n",
    "    #    print(\"Third\")\n",
    "        \n",
    "obj = Third()\n",
    "obj.call_me()\n",
    "\n",
    "# call_me()will be exectuted from Class Number, as its commented in Third as well as in Second\n",
    "# Similr to \"First Example\" it was expected that call_me() would have been executed from First\n",
    "# but instead it will follow hierarchy and execute call_me() from Number class as MRO is abscent"
   ]
  },
  {
   "cell_type": "markdown",
   "metadata": {},
   "source": [
    "#### Second Example v4\n",
    "\n",
    "         Object\n",
    "           |\n",
    "         Number\n",
    "       /       \\\n",
    "    Second    First\n",
    "       \\       /\n",
    "         Third"
   ]
  },
  {
   "cell_type": "code",
   "execution_count": 10,
   "metadata": {},
   "outputs": [
    {
     "name": "stdout",
     "output_type": "stream",
     "text": [
      "Third\n",
      "First\n"
     ]
    }
   ],
   "source": [
    "class Number(object): # object kept - MRO Method Resolution Object\n",
    "    def __init__(self):\n",
    "        #super(First, self).__init__()\n",
    "        print(\"Number\")\n",
    "    def call_me(self):\n",
    "        print(\"Number\")\n",
    "\n",
    "class First(Number):\n",
    "    def __init__(self):\n",
    "        #super(First, self).__init__()\n",
    "        print(\"First\")\n",
    "    def call_me(self):\n",
    "        print(\"First\")\n",
    "        \n",
    "class Second(Number):\n",
    "    def __init__(self):\n",
    "        #super(Second, self).__init__()\n",
    "        print(\"Second\")\n",
    "    #def call_me(self):\n",
    "    #    print(\"Second\")\n",
    "\n",
    "class Third(Second, First):\n",
    "    def __init__(self):\n",
    "        #super(Third, self).__init__() # parent __init__ can be executed using super function\n",
    "        print(\"Third\")\n",
    "    #def call_me(self):\n",
    "    #    print(\"Third\")\n",
    "        \n",
    "obj = Third()\n",
    "obj.call_me()\n",
    "\n",
    "# call_me()will be exectuted from Class First, as its commented in Third as well as in Second\n",
    "# Similr to \"First Example\" MRO will take care of hierarchy level and\n",
    "# call_me() would be executed from First class (which is at same level as of Second) and not from Number class"
   ]
  }
 ],
 "metadata": {
  "kernelspec": {
   "display_name": "Python 2",
   "language": "python",
   "name": "python2"
  },
  "language_info": {
   "codemirror_mode": {
    "name": "ipython",
    "version": 2
   },
   "file_extension": ".py",
   "mimetype": "text/x-python",
   "name": "python",
   "nbconvert_exporter": "python",
   "pygments_lexer": "ipython2",
   "version": "2.7.15"
  }
 },
 "nbformat": 4,
 "nbformat_minor": 2
}

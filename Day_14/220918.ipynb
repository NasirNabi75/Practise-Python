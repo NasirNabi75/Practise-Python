{
 "cells": [
  {
   "cell_type": "markdown",
   "metadata": {},
   "source": [
    "# Regular Expressions\n",
    "\n",
    "Example : email address having pattern"
   ]
  },
  {
   "cell_type": "code",
   "execution_count": 1,
   "metadata": {},
   "outputs": [],
   "source": [
    "import re"
   ]
  },
  {
   "cell_type": "markdown",
   "metadata": {},
   "source": [
    "### Match Method"
   ]
  },
  {
   "cell_type": "code",
   "execution_count": 2,
   "metadata": {},
   "outputs": [
    {
     "name": "stdout",
     "output_type": "stream",
     "text": [
      "dog\n",
      "<_sre.SRE_Match object at 0x000000000520ACC8>\n"
     ]
    }
   ],
   "source": [
    "match_obj = re.match(pattern='dog', string='dog cat dog')\n",
    "print(match_obj.group(0))\n",
    "print(match_obj)\n",
    "# group(0) is used to find first index"
   ]
  },
  {
   "cell_type": "code",
   "execution_count": 3,
   "metadata": {},
   "outputs": [
    {
     "name": "stdout",
     "output_type": "stream",
     "text": [
      "None\n"
     ]
    }
   ],
   "source": [
    "match_obj = re.match(pattern='dog', string='cat dog')\n",
    "print(match_obj) # returns match object"
   ]
  },
  {
   "cell_type": "markdown",
   "metadata": {},
   "source": [
    "### Search Method"
   ]
  },
  {
   "cell_type": "code",
   "execution_count": 4,
   "metadata": {},
   "outputs": [
    {
     "name": "stdout",
     "output_type": "stream",
     "text": [
      "cat\n"
     ]
    }
   ],
   "source": [
    "# will return match at any position\n",
    "match_obj = re.search('cat','dog cat dog')\n",
    "if match_obj:\n",
    "    print (match_obj.group(0))\n",
    "else:\n",
    "    print (\"No match found\")"
   ]
  },
  {
   "cell_type": "markdown",
   "metadata": {},
   "source": [
    "### Compile Method"
   ]
  },
  {
   "cell_type": "code",
   "execution_count": 5,
   "metadata": {},
   "outputs": [
    {
     "name": "stdout",
     "output_type": "stream",
     "text": [
      "cat\n"
     ]
    }
   ],
   "source": [
    "prog = re.compile(\"cat\")\n",
    "match_obj = prog.match(\"cat dog cat\")\n",
    "print(match_obj.group(0))"
   ]
  },
  {
   "cell_type": "code",
   "execution_count": 6,
   "metadata": {},
   "outputs": [
    {
     "name": "stdout",
     "output_type": "stream",
     "text": [
      "o\n"
     ]
    }
   ],
   "source": [
    "prog = re.compile(\"o\")\n",
    "match_obj = prog.match(\"dog\")\n",
    "# print(match_obj.group(0)) # no match as \"o\" is not at the start of \"dog\"\n",
    "\n",
    "match_obj = prog.match(\"dog\",1)\n",
    "# match as \"o\" is at the 2nd index/character of \"dog\"\n",
    "print(match_obj.group(0))"
   ]
  },
  {
   "cell_type": "markdown",
   "metadata": {},
   "source": [
    "### Example 1"
   ]
  },
  {
   "cell_type": "code",
   "execution_count": 7,
   "metadata": {},
   "outputs": [
    {
     "name": "stdout",
     "output_type": "stream",
     "text": [
      "Sept 22\n"
     ]
    }
   ],
   "source": [
    "import re\n",
    "\n",
    "regex = r\"([a-zA-Z]+) (\\d+)\" # stands for row input and directs python interpreter to not to interfere with input\n",
    "match = re.search(regex, \"Sept 22\")\n",
    "if match:\n",
    "    print(match.group(0))\n",
    "else:\n",
    "    print \"No match\""
   ]
  },
  {
   "cell_type": "markdown",
   "metadata": {},
   "source": [
    "### Example 2"
   ]
  },
  {
   "cell_type": "code",
   "execution_count": 35,
   "metadata": {},
   "outputs": [
    {
     "name": "stdout",
     "output_type": "stream",
     "text": [
      "Full Match:Sept 22\n",
      "Full Match:Oct 22\n",
      "Full Match:Nov 22\n"
     ]
    }
   ],
   "source": [
    "import re\n",
    "\n",
    "regex = r\"[a-zA-Z]+ \\d+\" # stands for row input and directs python interpreter to not to interfere with input\n",
    "matches = re.findall(regex, \"Sept 22, Oct 22, Nov 22, 22 Dec\")\n",
    "\n",
    "for match in matches:\n",
    "    print(\"Full Match:{0}\".format(match))"
   ]
  },
  {
   "cell_type": "markdown",
   "metadata": {},
   "source": [
    "### Example 3"
   ]
  },
  {
   "cell_type": "code",
   "execution_count": 23,
   "metadata": {},
   "outputs": [
    {
     "name": "stdout",
     "output_type": "stream",
     "text": [
      "found word:cat\n",
      "not found\n"
     ]
    }
   ],
   "source": [
    "import re\n",
    "\n",
    "# \\w any character except whitespace \n",
    "str_value = 'an exaple of word:cat'\n",
    "\n",
    "# 3 times \\w\n",
    "match = re.search(r'word:\\w\\w\\w', str_value)\n",
    "if match:\n",
    "    print 'found', match.group(0)\n",
    "else:\n",
    "    print 'not found'\n",
    "\n",
    "# 4 times \\w\n",
    "match = re.search(r'word:\\w\\w\\w\\w', str_value)\n",
    "if match:\n",
    "    print 'found', match.group(0)\n",
    "else:\n",
    "    print 'not found'"
   ]
  }
 ],
 "metadata": {
  "kernelspec": {
   "display_name": "Python 2",
   "language": "python",
   "name": "python2"
  },
  "language_info": {
   "codemirror_mode": {
    "name": "ipython",
    "version": 2
   },
   "file_extension": ".py",
   "mimetype": "text/x-python",
   "name": "python",
   "nbconvert_exporter": "python",
   "pygments_lexer": "ipython2",
   "version": "2.7.15"
  }
 },
 "nbformat": 4,
 "nbformat_minor": 2
}
